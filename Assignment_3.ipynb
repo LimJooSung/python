{
 "metadata": {
  "name": "",
  "signature": "sha256:7e6890e7f50a06461b827e5c6b4d23e40e304cd86978d27a1e9bb4ecc6ac1147"
 },
 "nbformat": 3,
 "nbformat_minor": 0,
 "worksheets": [
  {
   "cells": [
    {
     "cell_type": "markdown",
     "metadata": {},
     "source": [
      "# \ubb38\uc81c 1\n",
      "\n",
      "L=[1, 2, 3, 4, 5]\uc77c \ub54c \ub2e4\uc74c \uac01 \ubb38\uc7a5\uc744 \uc218\ud589\ud55c \ud6c4\uc758 \uacb0\uacfc\ub97c \ubcf4\uace0 \ub0a9\ub4dd\ud560 \ub9cc\ud55c \uc774\uc720\ub97c \uc124\uba85\ud558\uc2dc\uc624."
     ]
    },
    {
     "cell_type": "markdown",
     "metadata": {},
     "source": [
      "- 1)"
     ]
    },
    {
     "cell_type": "code",
     "collapsed": false,
     "input": [
      "L=[1, 2, 3, 4, 5]\n",
      "\n",
      "L[1:3] = [100]\n",
      "print L"
     ],
     "language": "python",
     "metadata": {},
     "outputs": [
      {
       "output_type": "stream",
       "stream": "stdout",
       "text": [
        "[1, 100, 4, 5]\n"
       ]
      }
     ],
     "prompt_number": 1
    },
    {
     "cell_type": "markdown",
     "metadata": {},
     "source": [
      "\ub9ac\uc2a4\ud2b8 \uc6d0\uc18c\uc5d0 \ub300\ud55c \uc2ac\ub77c\uc774\uc2a4 \uce58\ud658\uc5d0\uc11c, \uc2ac\ub77c\uc774\uc2f1 \ub2f9\ud558\ub294 \ubc94\uc704\uac00 \uc2ac\ub77c\uc774\uc2f1 \ud558\ub294 \ubc94\uc704\ubcf4\ub2e4 \uc791\uc744\uacbd\uc6b0\uc5d0 \uc791\uc740 \ubc94\uc704\ub85c \ub300\uccb4\ub41c\ub2e4.\n",
      "\n",
      "\ub530\ub77c\uc11c L[1:3]\uc5d0 \ud574\ub2f9\ud558\ub294 2, 3\uc774 100\uc73c\ub85c \uce58\ud658\ub418\uc5b4 L = [1, 100, 4, 5]\uac00 \ub41c\ub2e4.\n",
      "\n",
      "\ubcc0\uacbd \uac00\ub2a5\ud55c list \ud615\ud0dc."
     ]
    },
    {
     "cell_type": "markdown",
     "metadata": {},
     "source": [
      " "
     ]
    },
    {
     "cell_type": "markdown",
     "metadata": {},
     "source": [
      "- 2)"
     ]
    },
    {
     "cell_type": "code",
     "collapsed": false,
     "input": [
      "L=[1, 2, 3, 4, 5]\n",
      "\n",
      "L[1:3] = [(100)]\n",
      "print L"
     ],
     "language": "python",
     "metadata": {},
     "outputs": [
      {
       "output_type": "stream",
       "stream": "stdout",
       "text": [
        "[1, 100, 4, 5]\n"
       ]
      }
     ],
     "prompt_number": 1
    },
    {
     "cell_type": "markdown",
     "metadata": {},
     "source": [
      "\ub9ac\uc2a4\ud2b8 \uc6d0\uc18c\uc5d0 \ub300\ud55c \uc2ac\ub77c\uc774\uc2a4 \uce58\ud658\uc5d0\uc11c, \uc2ac\ub77c\uc774\uc2f1 \ub2f9\ud558\ub294 \ubc94\uc704\uac00 \uc2ac\ub77c\uc774\uc2f1 \ud558\ub294 \ubc94\uc704\ubcf4\ub2e4 \uc791\uc744\uacbd\uc6b0\uc5d0 \uc791\uc740 \ubc94\uc704\ub85c \ub300\uccb4\ub41c\ub2e4.\n",
      "\n",
      "\ub530\ub77c\uc11c L[1:3]\uc5d0 \ud574\ub2f9\ud558\ub294 2\uac00 100\uc73c\ub85c \uce58\ud658\ub418\uace0 3\uc740 \uc5c6\uc5b4\uc838\uc11c L = [1, 100, 4, 5]\uac00 \ub41c\ub2e4.\n",
      "\n",
      "\ud29c\ud50c\uc774\uc9c0\ub9cc \ubcc0\uacbd\uac00\ub2a5\ud55c list \ud615\ud0dc\uc774\ubbc0\ub85c \uac00\ub2a5\ud558\ub2e4."
     ]
    },
    {
     "cell_type": "markdown",
     "metadata": {},
     "source": [
      " "
     ]
    },
    {
     "cell_type": "markdown",
     "metadata": {},
     "source": [
      "- 3)"
     ]
    },
    {
     "cell_type": "code",
     "collapsed": false,
     "input": [
      "L=[1, 2, 3, 4, 5]\n",
      "\n",
      "L[1:3] = 100\n",
      "print L"
     ],
     "language": "python",
     "metadata": {},
     "outputs": [
      {
       "ename": "TypeError",
       "evalue": "can only assign an iterable",
       "output_type": "pyerr",
       "traceback": [
        "\u001b[1;31m---------------------------------------------------------------------------\u001b[0m\n\u001b[1;31mTypeError\u001b[0m                                 Traceback (most recent call last)",
        "\u001b[1;32m<ipython-input-3-c04c9fee22a8>\u001b[0m in \u001b[0;36m<module>\u001b[1;34m()\u001b[0m\n\u001b[0;32m      1\u001b[0m \u001b[0mL\u001b[0m\u001b[1;33m=\u001b[0m\u001b[1;33m[\u001b[0m\u001b[1;36m1\u001b[0m\u001b[1;33m,\u001b[0m \u001b[1;36m2\u001b[0m\u001b[1;33m,\u001b[0m \u001b[1;36m3\u001b[0m\u001b[1;33m,\u001b[0m \u001b[1;36m4\u001b[0m\u001b[1;33m,\u001b[0m \u001b[1;36m5\u001b[0m\u001b[1;33m]\u001b[0m\u001b[1;33m\u001b[0m\u001b[0m\n\u001b[0;32m      2\u001b[0m \u001b[1;33m\u001b[0m\u001b[0m\n\u001b[1;32m----> 3\u001b[1;33m \u001b[0mL\u001b[0m\u001b[1;33m[\u001b[0m\u001b[1;36m1\u001b[0m\u001b[1;33m:\u001b[0m\u001b[1;36m3\u001b[0m\u001b[1;33m]\u001b[0m \u001b[1;33m=\u001b[0m \u001b[1;36m100\u001b[0m\u001b[1;33m\u001b[0m\u001b[0m\n\u001b[0m\u001b[0;32m      4\u001b[0m \u001b[1;32mprint\u001b[0m \u001b[0mL\u001b[0m\u001b[1;33m\u001b[0m\u001b[0m\n",
        "\u001b[1;31mTypeError\u001b[0m: can only assign an iterable"
       ]
      }
     ],
     "prompt_number": 3
    },
    {
     "cell_type": "markdown",
     "metadata": {},
     "source": [
      "\ub9ac\uc2a4\ud2b8 \uc6d0\uc18c\uc5d0 \ub300\ud55c \uc2ac\ub77c\uc774\uc2a4 \uce58\ud658\uc5d0\uc11c, \uc2ac\ub77c\uc774 \uc2f1\ub2f9\ud558\ub294 \ubc94\uc704\uac00 \uc2ac\ub77c\uc774\uc2f1 \ud558\ub294 \ubc94\uc704\ubcf4\ub2e4 \uc791\uc744\uacbd\uc6b0\uc5d0 \uc791\uc740 \ubc94\uc704\ub85c \ub300\uccb4\ub41c\ub2e4.\n",
      "\n",
      "\ud558\uc9c0\ub9cc L[1:3] = 100\uc5d0\uc11c 100\uc774 \ubcc0\uacbd\uac00\ub2a5\ud55c list \ud615\ud0dc\uac00 \uc544\ub2c8\ubbc0\ub85c \uc5d0\ub7ec\uac00 \ubc1c\uc0dd\ud55c\ub2e4. (100\uc774 \ub450\uac1c\uc758 \ubc94\uc704\ub97c \ub300\uccb4\ud560 \uc218 \uc5c6\uc74c)"
     ]
    },
    {
     "cell_type": "markdown",
     "metadata": {},
     "source": [
      " "
     ]
    },
    {
     "cell_type": "markdown",
     "metadata": {},
     "source": [
      "- 4)"
     ]
    },
    {
     "cell_type": "code",
     "collapsed": false,
     "input": [
      "L=[1, 2, 3, 4, 5]\n",
      "\n",
      "L[1:3] = (100)\n",
      "print L"
     ],
     "language": "python",
     "metadata": {},
     "outputs": [
      {
       "ename": "TypeError",
       "evalue": "can only assign an iterable",
       "output_type": "pyerr",
       "traceback": [
        "\u001b[1;31m---------------------------------------------------------------------------\u001b[0m\n\u001b[1;31mTypeError\u001b[0m                                 Traceback (most recent call last)",
        "\u001b[1;32m<ipython-input-4-07cc5677ae31>\u001b[0m in \u001b[0;36m<module>\u001b[1;34m()\u001b[0m\n\u001b[0;32m      1\u001b[0m \u001b[0mL\u001b[0m\u001b[1;33m=\u001b[0m\u001b[1;33m[\u001b[0m\u001b[1;36m1\u001b[0m\u001b[1;33m,\u001b[0m \u001b[1;36m2\u001b[0m\u001b[1;33m,\u001b[0m \u001b[1;36m3\u001b[0m\u001b[1;33m,\u001b[0m \u001b[1;36m4\u001b[0m\u001b[1;33m,\u001b[0m \u001b[1;36m5\u001b[0m\u001b[1;33m]\u001b[0m\u001b[1;33m\u001b[0m\u001b[0m\n\u001b[0;32m      2\u001b[0m \u001b[1;33m\u001b[0m\u001b[0m\n\u001b[1;32m----> 3\u001b[1;33m \u001b[0mL\u001b[0m\u001b[1;33m[\u001b[0m\u001b[1;36m1\u001b[0m\u001b[1;33m:\u001b[0m\u001b[1;36m3\u001b[0m\u001b[1;33m]\u001b[0m \u001b[1;33m=\u001b[0m \u001b[1;33m(\u001b[0m\u001b[1;36m100\u001b[0m\u001b[1;33m)\u001b[0m\u001b[1;33m\u001b[0m\u001b[0m\n\u001b[0m\u001b[0;32m      4\u001b[0m \u001b[1;32mprint\u001b[0m \u001b[0mL\u001b[0m\u001b[1;33m\u001b[0m\u001b[0m\n",
        "\u001b[1;31mTypeError\u001b[0m: can only assign an iterable"
       ]
      }
     ],
     "prompt_number": 4
    },
    {
     "cell_type": "markdown",
     "metadata": {},
     "source": [
      "\ub9ac\uc2a4\ud2b8 \uc6d0\uc18c\uc5d0 \ub300\ud55c \uc2ac\ub77c\uc774\uc2a4 \uce58\ud658\uc5d0\uc11c, \uc2ac\ub77c\uc774\uc2f1 \ub2f9\ud558\ub294 \ubc94\uc704\uac00 \uc2ac\ub77c\uc774\uc2f1 \ud558\ub294 \ubc94\uc704\ubcf4\ub2e4 \uc791\uc744\uacbd\uc6b0\uc5d0 \uc791\uc740 \ubc94\uc704\ub85c \ub300\uccb4\ub41c\ub2e4.\n",
      "\n",
      "\uc704 3\ubc88\uc758 \uacbd\uc6b0\uc640 \ub9c8\ucc2c\uac00\uc9c0\ub85c (100)\uc774 \ubcc0\uacbd\uac00\ub2a5\ud55c list \ud615\ud0dc\uac00 \uc544\ub2c8\ubbc0\ub85c \uc5d0\ub7ec\uac00 \ubc1c\uc0dd\ud55c\ub2e4. ((100)\uc774 \ub450\uac1c\uc758 \ubc94\uc704\ub97c \ub300\uccb4\ud560 \uc218 \uc5c6\uc74c)\n",
      "\n",
      "python\uc740 \uc0c1\uc218 100\uacfc \ud29c\ud50c (100)\uc744 \uac19\uc740 \uac83\uc73c\ub85c \uc778\uc2dd\ud55c\ub2e4. (?)"
     ]
    },
    {
     "cell_type": "markdown",
     "metadata": {},
     "source": [
      " "
     ]
    },
    {
     "cell_type": "markdown",
     "metadata": {},
     "source": [
      "- 5)"
     ]
    },
    {
     "cell_type": "code",
     "collapsed": false,
     "input": [
      "L=[1, 2, 3, 4, 5]\n",
      "\n",
      "L[1:3] = (100, 101, 102)\n",
      "print L"
     ],
     "language": "python",
     "metadata": {},
     "outputs": [
      {
       "output_type": "stream",
       "stream": "stdout",
       "text": [
        "[1, 100, 101, 102, 4, 5]\n"
       ]
      }
     ],
     "prompt_number": 4
    },
    {
     "cell_type": "markdown",
     "metadata": {},
     "source": [
      "\ub9ac\uc2a4\ud2b8 \uc6d0\uc18c\uc5d0 \ub300\ud55c \uc2ac\ub77c\uc774\uc2a4 \uce58\ud658\uc5d0\uc11c, \uc2ac\ub77c\uc774\uc2f1 \ub2f9\ud558\ub294 \ubc94\uc704\uac00 \uc2ac\ub77c\uc774\uc2f1 \ud558\ub294 \ubc94\uc704\ubcf4\ub2e4 \ud074 \uacbd\uc6b0\uc5d0 \ud070 \ubc94\uc704\ub85c \ub300\uccb4\ub41c\ub2e4.\n",
      "\n",
      "L[1:3]\uc740 2, 3\uc774\uace0 \uc5ec\uae30\uc5d0 (100, 101, 102)\uac00 \ub4e4\uc5b4\uac00\uac8c \ub418\uba74 list\uac00 \ub298\uc5b4\ub098\uba74\uc11c \uc800\uc7a5\ub41c\ub2e4. \n",
      "\n",
      "\ud29c\ud50c\uc758 \uacbd\uc6b0 \uc2ac\ub77c\uc774\uc2f1 \ub2f9\ud558\ub294 \ubc94\uc704\ubcf4\ub2e4 \ud070 \uacbd\uc6b0\uc5d0\ub294 \ub300\uccb4\uac00 \uac00\ub2a5\ud55c \uac83\uc73c\ub85c \ubcf4\uc784."
     ]
    },
    {
     "cell_type": "markdown",
     "metadata": {},
     "source": [
      " "
     ]
    },
    {
     "cell_type": "markdown",
     "metadata": {},
     "source": [
      "- 6)"
     ]
    },
    {
     "cell_type": "code",
     "collapsed": false,
     "input": [
      "L=[1, 2, 3, 4, 5]\n",
      "\n",
      "L[1:3] = [100, 101, 102]\n",
      "print L"
     ],
     "language": "python",
     "metadata": {},
     "outputs": [
      {
       "output_type": "stream",
       "stream": "stdout",
       "text": [
        "[1, 100, 101, 102, 4, 5]\n"
       ]
      }
     ],
     "prompt_number": 6
    },
    {
     "cell_type": "markdown",
     "metadata": {},
     "source": [
      "\ub9ac\uc2a4\ud2b8 \uc6d0\uc18c\uc5d0 \ub300\ud55c \uc2ac\ub77c\uc774\uc2a4 \uce58\ud658\uc5d0\uc11c, \uc2ac\ub77c\uc774\uc2f1 \ub2f9\ud558\ub294 \ubc94\uc704\uac00 \uc2ac\ub77c\uc774\uc2f1 \ud558\ub294 \ubc94\uc704\ubcf4\ub2e4 \ud074 \uacbd\uc6b0\uc5d0 \ud070 \ubc94\uc704\ub85c \ub300\uccb4\ub41c\ub2e4.\n",
      "\n",
      "L[1:3]\uc740 2, 3\uc774\uace0 \uc5ec\uae30\uc5d0 [100, 101, 102]\uac00 \ub4e4\uc5b4\uac00\uac8c \ub418\uba74 list\uac00 \ub298\uc5b4\ub098\uba74\uc11c \uc800\uc7a5\ub41c\ub2e4."
     ]
    },
    {
     "cell_type": "markdown",
     "metadata": {},
     "source": [
      " "
     ]
    },
    {
     "cell_type": "markdown",
     "metadata": {},
     "source": [
      "- 7)"
     ]
    },
    {
     "cell_type": "code",
     "collapsed": false,
     "input": [
      "L=[1, 2, 3, 4, 5]\n",
      "\n",
      "L[1:3] = [(100, 101, 102)]\n",
      "print L"
     ],
     "language": "python",
     "metadata": {},
     "outputs": [
      {
       "output_type": "stream",
       "stream": "stdout",
       "text": [
        "[1, (100, 101, 102), 4, 5]\n"
       ]
      }
     ],
     "prompt_number": 6
    },
    {
     "cell_type": "markdown",
     "metadata": {},
     "source": [
      "\ub9ac\uc2a4\ud2b8 \uc6d0\uc18c\uc5d0 \ub300\ud55c \uc2ac\ub77c\uc774\uc2a4 \uce58\ud658\uc5d0\uc11c, \uc2ac\ub77c\uc774\uc2f1 \ub2f9\ud558\ub294 \ubc94\uc704\uac00 \uc2ac\ub77c\uc774\uc2f1 \ud558\ub294 \ubc94\uc704\ubcf4\ub2e4 \ud074 \uacbd\uc6b0\uc5d0 \ud070 \ubc94\uc704\ub85c \ub300\uccb4\ub41c\ub2e4.\n",
      "\n",
      "L[1:3]\uc740 2, 3\uc774\uace0 \uc5ec\uae30\uc5d0 [(100, 101, 102)]\uac00 \ub4e4\uc5b4\uac00\uac8c \ub418\uba74 \ub9ac\uc2a4\ud2b8 \uc548\uc5d0\uc11c \ud29c\ud50c\uc740 \ud558\ub098\uc758 \uc6d0\uc18c\ub85c \uc778\uc2dd\ub418\uc5b4 \ub4e4\uc5b4\uac00\uac8c \ub418\uc5b4, \n",
      "\n",
      "L[1] = (100, 101, 102)\uac00 \ub418\uace0 3\uc758 \uacbd\uc6b0\ub294 \uc2ac\ub77c\uc774\uc2f1 \ub2f9\ud558\uc5ec \uc5c6\uc5b4\uc9c4\ub2e4."
     ]
    },
    {
     "cell_type": "markdown",
     "metadata": {},
     "source": [
      " "
     ]
    },
    {
     "cell_type": "markdown",
     "metadata": {},
     "source": [
      "- 8)"
     ]
    },
    {
     "cell_type": "code",
     "collapsed": false,
     "input": [
      "L=[1, 2, 3, 4, 5]\n",
      "\n",
      "L[1:3] = [[100, 101, 102]]\n",
      "print L"
     ],
     "language": "python",
     "metadata": {},
     "outputs": [
      {
       "output_type": "stream",
       "stream": "stdout",
       "text": [
        "[1, [100, 101, 102], 4, 5]\n"
       ]
      }
     ],
     "prompt_number": 8
    },
    {
     "cell_type": "markdown",
     "metadata": {},
     "source": [
      "\ub9ac\uc2a4\ud2b8 \uc6d0\uc18c\uc5d0 \ub300\ud55c \uc2ac\ub77c\uc774\uc2a4 \uce58\ud658\uc5d0\uc11c, \uc2ac\ub77c\uc774\uc2f1 \ub2f9\ud558\ub294 \ubc94\uc704\uac00 \uc2ac\ub77c\uc774\uc2f1 \ud558\ub294 \ubc94\uc704\ubcf4\ub2e4 \ud074 \uacbd\uc6b0\uc5d0 \ud070 \ubc94\uc704\ub85c \ub300\uccb4\ub41c\ub2e4.\n",
      "\n",
      "L[1:3]\uc740 2, 3\uc774\uace0 \uc5ec\uae30\uc5d0 [[100, 101, 102]]\uac00 \ub4e4\uc5b4\uac00\uac8c \ub418\uba74 \ub9ac\uc2a4\ud2b8 \uc548\uc5d0\uc11c \ub9ac\uc2a4\ud2b8\uac00 \ud558\ub098\uc758 \uc6d0\uc18c\ub85c \uc778\uc2dd\ub418\uc5b4 \ub4e4\uc5b4\uac00\uac8c \ub418\uc5b4,\n",
      "\n",
      "L[1] = [100, 101, 102]\uac00 \ub418\uace0 3\uc758 \uacbd\uc6b0\ub294 \uc2ac\ub77c\uc774\uc2f1 \ub2f9\ud558\uc5ec \uc5c6\uc5b4\uc9c4\ub2e4."
     ]
    },
    {
     "cell_type": "markdown",
     "metadata": {},
     "source": [
      " "
     ]
    },
    {
     "cell_type": "markdown",
     "metadata": {},
     "source": [
      "# \ubb38\uc81c 2\n",
      "\n",
      "\ubb38\uc790\uc5f4 S = 'Hello World and Python'\uc5d0 \ub300\ud574 \ub2e4\uc74c \uc694\uad6c\uc0ac\ud56d\uc5d0 \ub300\ud55c Python \ucf54\ub4dc\ub97c \uc81c\uc2dc\ud558\uc2dc\uc624. \n",
      "- 1) \ub2e8\uc5b4\uc758 \uc21c\uc11c\uac00 \uc5ed\uc21c\uc73c\ub85c \ub418\uc5b4\uc9c4 \ubb38\uc790\uc5f4 ('Python and World Hello')\uc744 \ub9cc\ub4e4\uace0 \n",
      "- 2) 1)\uc758 \uacb0\uacfc \ubb38\uc790\uc5f4\uc5d0 \ub300\ud574 \uba54\uc18c\ub4dc split\uacfc join\uc744 \uc774\uc6a9\ud558\uc5ec \uacf5\ubc31\uc744 \ubaa8\ub450 \uc5c6\uc5d4 \ubb38\uc790\uc5f4 'PythonandWorldHello'\uc744 \ub9cc\ub4dc\uc2dc\uc624. "
     ]
    },
    {
     "cell_type": "code",
     "collapsed": false,
     "input": [
      "s = 'Hello World and Python'\n",
      "wordList = []\n",
      "wordList = s.split(' ')\n",
      "wordList.reverse()\n",
      "print wordList\n",
      "print\n",
      "\n",
      "s = \"\".join(wordList)\n",
      "print s"
     ],
     "language": "python",
     "metadata": {},
     "outputs": [
      {
       "output_type": "stream",
       "stream": "stdout",
       "text": [
        "['Python', 'and', 'World', 'Hello']\n",
        "\n",
        "PythonandWorldHello\n"
       ]
      }
     ],
     "prompt_number": 14
    },
    {
     "cell_type": "markdown",
     "metadata": {},
     "source": [
      "\ube44\uc5b4\uc788\ub294 list wordList\ub97c \uc0dd\uc131\ud55c \ud6c4, \ubb38\uc790\uc5f4 s\ub97c \uacf5\ubc31\uc73c\ub85c \ubd84\ub9ac(split)\ud55c \uacb0\uacfc\ub97c \uc800\uc7a5\ud55c\ub2e4.\n",
      "\n",
      "\uc5ed\uc21c\uc73c\ub85c \ubc14\uafb8\uae30 \uc704\ud558\uc5ec wordList.reverse()\ub97c \ud574\uc900\ub2e4. \n",
      "\n",
      "wordList \ub0b4\ubd80\uc758 \uac01 \uc6d0\uc18c\ub4e4\uc744 \"\"(\uc544\ubb34\uac83\ub3c4 \uc5c6\ub294)\ub85c \uc5f0\uacb0\ud55c \ubb38\uc790\uc5f4\ub85c \ubc18\ud658\ud55c\ub2e4.\n",
      "\n",
      "\ub530\ub77c\uc11c PythonandWorldHello \ucd9c\ub825."
     ]
    },
    {
     "cell_type": "markdown",
     "metadata": {},
     "source": [
      " "
     ]
    },
    {
     "cell_type": "markdown",
     "metadata": {},
     "source": [
      "# \ubb38\uc81c 3\n",
      "\n",
      "\ub2e4\uc74c \ucf54\ub4dc\ub97c \ubcf4\uace0 \ubb3c\uc74c\uc5d0 \ub2f5\ud558\uc2dc\uc624.\n",
      "\n",
      "    a = [1, 2, 3]\n",
      "    b = a * 3\n",
      "    c = [a] * 3\n",
      "\n",
      "    print b\n",
      "    print c"
     ]
    },
    {
     "cell_type": "markdown",
     "metadata": {},
     "source": [
      "- 1) \uc704 \ucf54\ub4dc\ub97c \uc218\ud589\ud55c \uc774\ud6c4 \ub2e4\uc74c \ucf54\ub4dc\ub97c \uc218\ud589\ud55c \ud6c4 b\uc640 c\uc758 \ub0b4\uc6a9\uc744 \ud655\uc778\ud558\uc2dc\uc624.\n",
      "\n",
      "    a[0]=0\n",
      "    \n",
      "    \n",
      "- 2) b\uc640 c \uac1d\uccb4\uc758 \ucc28\uc774\ub294 \ubb34\uc5c7\uc778\uac00? "
     ]
    },
    {
     "cell_type": "code",
     "collapsed": false,
     "input": [
      "a = [1, 2, 3]\n",
      "b = a * 3\n",
      "c = [a] * 3\n",
      "\n",
      "print b\n",
      "print c\n",
      "print\n",
      "\n",
      "a[0] = 0\n",
      "\n",
      "print b\n",
      "print c"
     ],
     "language": "python",
     "metadata": {},
     "outputs": [
      {
       "output_type": "stream",
       "stream": "stdout",
       "text": [
        "[1, 2, 3, 1, 2, 3, 1, 2, 3]\n",
        "[[1, 2, 3], [1, 2, 3], [1, 2, 3]]\n",
        "\n",
        "[1, 2, 3, 1, 2, 3, 1, 2, 3]\n",
        "[[0, 2, 3], [0, 2, 3], [0, 2, 3]]\n"
       ]
      }
     ],
     "prompt_number": 15
    },
    {
     "cell_type": "markdown",
     "metadata": {},
     "source": [
      "\ubc18\ubcf5(*) \uc5f0\uc0b0\uc774 \ub9ac\uc2a4\ud2b8 \uac1d\uccb4\uc5d0 \ub300\ud574\uc11c\ub294 \ud574\ub2f9 \ub9ac\uc2a4\ud2b8 \uac1d\uccb4\uc758 \ub808\ud37c\ub7f0\uc2a4\ub97c \ubcf5\uc0ac\ud558\uae30 \ub54c\ubb38 \n",
      "\n",
      "b\uc758 \uacbd\uc6b0\ub294 a\uc758 \uc6d0\uc18c\uc778 1, 2, 3\uc744 \uac01\uac01 \uc21c\ucc28\uc801\uc73c\ub85c 3\uac1c\uc529 \uac00\uc9c0\ub294 \ubc30\uc5f4\uc774\ub2e4.\n",
      "\n",
      "c\uc758 \uacbd\uc6b0\ub294 a = [1, 2, 3]\uc744 \ucc38\uc870\ud558\ub294 \ud3ec\uc778\ud130 3\uac1c\ub97c \uc0dd\uc131\ud558\ub294 \uac1c\ub150\uc774\ub2e4. (\uc595\uc740\ubcf5\uc0ac\uc758 \uac1c\ub150 : \ucc38\uc870\ud0c0\uc785\uc758 \uba64\ubc84\ub97c \uac00\uc9c0\uace0 \uc788\uc73c\uba74 \ucc38\uc870\uac12\ub9cc \ubcf5\uc0ac)\n",
      "\n",
      "\ub530\ub77c\uc11c a[0] = 0 \ud6c4\uc5d0, b\ub294 a\uc640 \ubb34\uad00\ud558\uac8c \uac12\uc744 \uadf8\ub300\ub85c \ucd9c\ub825\ud558\uc9c0\ub9cc\n",
      "\n",
      "a\ub97c \ucc38\uc870\ud558\ub294 \ud3ec\uc778\ud130 3\uac1c\ub97c \uc0dd\uc131\ud55c list c\ub294 a\uc758 \uac12 \ubcc0\uacbd\uc5d0 \uc601\ud5a5\uc744 \ubc1b\uc544 [[0, 2, 3], [0, 2, 3], [0, 2, 3]]\ub97c \ucd9c\ub825\ud558\uac8c \ub41c\ub2e4."
     ]
    },
    {
     "cell_type": "markdown",
     "metadata": {},
     "source": [
      " "
     ]
    },
    {
     "cell_type": "markdown",
     "metadata": {},
     "source": [
      "# \ubb38\uc81c 4\n",
      "\n",
      "\ub2e4\uc74c \ubb38\uc790\uc5f4\uc744 ':'\uc744 \uae30\uc900\uc73c\ub85c \ubd84\ub9ac\ud558\uc5ec \ub9ac\uc2a4\ud2b8\ub85c \ub9cc\ub4e4\uace0 \uac01 \ubb38\uc790\uc5f4\uc758 \uc88c\uc6b0 \uacf5\ubc31\uc744 \uc81c\uac70\ud558\uc2dc\uc624 (\uc989, \ubb38\uc790\uc5f4 S\uc5d0\uc11c l\uc744 \ub9cc\ub4e4\uc5b4\ub77c) \n",
      "\n",
      "    s = '  first star   :   second star   :    third star  '\n",
      "    l = ['first star', 'second star', 'third star']\n",
      "\n",
      "- 1) for ~ in \ubb38\uc744 \uc774\uc6a9\ud55c \ucf54\ub4dc\ub97c \uc791\uc131\ud558\uc2dc\uc624. "
     ]
    },
    {
     "cell_type": "code",
     "collapsed": false,
     "input": [
      "s = '  first star   :   second star   :    third star  '\n",
      "wordList = s.split(':')\n",
      "newList = wordList\n",
      "\n",
      "print 's : ', s\n",
      "print 'wordList : ', wordList\n",
      "print\n",
      "\n",
      "for x in range(len(wordList)) :\n",
      "    newList[x] = wordList[x].strip()\n",
      "    \n",
      "print 's : ', s\n",
      "print 'l : ', newList"
     ],
     "language": "python",
     "metadata": {},
     "outputs": [
      {
       "output_type": "stream",
       "stream": "stdout",
       "text": [
        "s :    first star   :   second star   :    third star  \n",
        "wordList :  ['  first star   ', '   second star   ', '    third star  ']\n",
        "\n",
        "s :    first star   :   second star   :    third star  \n",
        "l :  ['first star', 'second star', 'third star']\n"
       ]
      }
     ],
     "prompt_number": 30
    },
    {
     "cell_type": "markdown",
     "metadata": {},
     "source": [
      "\ubc30\uc5f4 wordList\ub97c \uc120\uc5b8\ud55c \ud6c4 s\uc5d0 \uc800\uc7a5\ub41c \ubb38\uc790\uc5f4\uc744 s.split(':')\ub97c \uc774\uc6a9, ':'\uc744 \uae30\uc900\uc73c\ub85c \ubd84\ub9ac\ud558\uc5ec wordList\uc5d0 \uc800\uc7a5\ud55c\ub2e4.\n",
      "\n",
      "l\uc758 \uacb0\uacfc\ub97c \uc800\uc7a5\ud560 \ubc30\uc5f4 newList\ub97c \uc0dd\uc131\ud558\uc5ec wordList\ub97c \ubcf5\uc0ac\ud558\uc5ec \uc800\uc7a5\ud55c\ub2e4. \n",
      "\n",
      "for\ubb38\uc744 \uc774\uc6a9\ud558\uc5ec len(wordList)\uc77c \ub3d9\uc548 \ubc18\ubcf5\ubb38\uc744 \uc2dc\ud589\ud55c\ub2e4. \n",
      "\n",
      "\uc774 \ub54c, wordList[x].strip()\uc744 \uc774\uc6a9\ud558\uc5ec \uacf5\ubc31\uc744 \uc5c6\uc564 \ub2e8\uc5b4\ub97c newList[x]\uc5d0 \uc800\uc7a5\ud55c\ub2e4."
     ]
    },
    {
     "cell_type": "markdown",
     "metadata": {},
     "source": [
      " "
     ]
    },
    {
     "cell_type": "markdown",
     "metadata": {},
     "source": [
      "- 2) \ub9ac\uc2a4\ud2b8 \ub0b4\ud3ec(list comprehension)\ub97c \uc774\uc6a9\ud55c \ucf54\ub4dc\ub97c \uc791\uc131\ud558\uc2dc\uc624. "
     ]
    },
    {
     "cell_type": "code",
     "collapsed": false,
     "input": [
      "s = '  first star   :   second star   :    third star  '\n",
      "wordList = s.split(':')\n",
      "newList = wordList\n",
      "\n",
      "print 's : ', s\n",
      "print 'wordList : ', wordList\n",
      "print\n",
      "\n",
      "newList = [wordList[x].strip() for x in range(len(wordList))]\n",
      "print 's : ', s\n",
      "print 'l : ', newList"
     ],
     "language": "python",
     "metadata": {},
     "outputs": [
      {
       "output_type": "stream",
       "stream": "stdout",
       "text": [
        "s :    first star   :   second star   :    third star  \n",
        "wordList :  ['  first star   ', '   second star   ', '    third star  ']\n",
        "\n",
        "s :    first star   :   second star   :    third star  \n",
        "l :  ['first star', 'second star', 'third star']\n"
       ]
      }
     ],
     "prompt_number": 3
    },
    {
     "cell_type": "markdown",
     "metadata": {},
     "source": [
      "\ub9ac\uc2a4\ud2b8 \ub0b4\ud3ec\ub97c \uc774\uc6a9\ud558\uac8c \ub418\uba74 \uc6d0\ub798 for\ubb38 \uc548\uc5d0 \uc788\ub358 expression\uc774 \ub9e8 \uc55e\uc73c\ub85c \ub098\uc624\uac8c \ub418\uace0, \uadf8 \ub4a4\uc5d0 for\ubb38\uc758 \uc870\uac74\uc774 \ub098\uc624\uac8c \ub41c\ub2e4.\n",
      "\n",
      "\ub530\ub77c\uc11c 1)\ubc88\uc758\n",
      "\n",
      "- for x in range(len(wordList)) :\n",
      "        newList[x] = wordList[x].strip()\n",
      "    \n",
      "\ub294 [wordList[x].strip() for x in range(len(wordList))] \uc758 \ud615\ud0dc\ub85c \ud45c\ud604\ud560 \uc218 \uc788\uc73c\uba70, \uc774\uac83\uc744 newList\uc5d0 \uc800\uc7a5\ud558\uac8c \ub41c\ub2e4."
     ]
    },
    {
     "cell_type": "markdown",
     "metadata": {},
     "source": [
      " "
     ]
    },
    {
     "cell_type": "markdown",
     "metadata": {},
     "source": [
      "# \ubb38\uc81c 5\n",
      "\n",
      "\ub2e4\uc74c\uacfc \uac19\uc774 0\ubcf4\ub2e4 \ud070 \uc815\uc218 \ub9ac\uc2a4\ud2b8 \ubcc0\uc218 list\ub97c \uc778\uc790\ub85c \ubc1b\ub294 \ud568\uc218 addall(list)\uc640 addallodd(list)\ub97c for ~ in \ub9ac\ud130\ub110\uacfc \ub9ac\uc2a4\ud2b8 \ub0b4\ud3ec \ubc29\uc2dd\uc73c\ub85c \uac01\uac01 \uc81c\uc2dc\ud558\uc2dc\uc624."
     ]
    },
    {
     "cell_type": "markdown",
     "metadata": {},
     "source": [
      "- 1) addall(list) \ud568\uc218 (\ub9ac\uc2a4\ud2b8 \ub0b4\uc758 \ubaa8\ub4e0 \uc815\uc218\ub97c \ub354\ud558\ub294 \ud568\uc218\ub85c\uc11c \ud574\ub2f5\uc73c\ub85c\ub294 for ~ in \ub9ac\ud130\ub7f4\uacfc \ub9ac\uc2a4\ud2b8 \ub0b4\ud3ec \ubc29\uc2dd\uc73c\ub85c \uac01\uac01 \uc81c\uc2dc\ud558\uc2dc\uc624.)\n",
      "\n",
      "        addall([1])\n",
      "        -> 1\n",
      "        \n",
      "        addall([1, 2, 3, 4, 5, 6, 7, 8, 9])\n",
      "        -> 45"
     ]
    },
    {
     "cell_type": "code",
     "collapsed": false,
     "input": [
      "# for ~in \ub9ac\ud130\ub110\n",
      "def addall(_list = [1]) :\n",
      "    _sum = 0\n",
      "    for x in range(len(_list)) :\n",
      "        _sum += _list[x]\n",
      "    print _sum\n",
      "    \n",
      "addall()\n",
      "addall([1])\n",
      "addall([1, 2, 3, 4, 5, 6, 7, 8, 9])\n",
      "print\n",
      "\n",
      "\n",
      "# \ub9ac\uc2a4\ud2b8 \ub0b4\ud3ec \ubc29\uc2dd\n",
      "def addall2(_list2 = [1]) :\n",
      "    _sum2 = 0\n",
      "    _sum2 = sum([_list2[x] for x in range(len(_list2))])\n",
      "    print _sum2\n",
      "\n",
      "addall2()\n",
      "addall2([1])\n",
      "addall2([1, 2, 3, 4, 5, 6, 7, 8, 9])"
     ],
     "language": "python",
     "metadata": {},
     "outputs": [
      {
       "output_type": "stream",
       "stream": "stdout",
       "text": [
        "1\n",
        "1\n",
        "45\n",
        "\n",
        "1\n",
        "1\n",
        "45\n"
       ]
      }
     ],
     "prompt_number": 24
    },
    {
     "cell_type": "markdown",
     "metadata": {},
     "source": [
      "1) for ~in \ub9ac\ud130\ub110 \ubc29\uc2dd\n",
      "\n",
      "addall\ud568\uc218\ub97c \uc815\uc758\ud55c\ub2e4. _list = [1]\uc740 \ub514\ud3f4\ud2b8\uac12\uc744 \uc124\uc815\ud55c \uac83. (addall() \uc785\ub825\uc2dc 1\uc744 \ucd9c\ub825\ud558\uac8c\ub428)\n",
      "\n",
      "\uc6b0\ub9ac\uac00 \uc775\ud788 \uc54c\uace0 \uc788\ub294 \ubc29\uc2dd\uc73c\ub85c for\ubb38\uc744 \uc774\uc6a9\ud558\uc5ec _sum\uc5d0 \uac12\uc744 \ub204\uc801 \uc800\uc7a5\ud55c\ub2e4.\n",
      "\n",
      "2) \ub9ac\uc2a4\ud2b8 \ub0b4\ud3ec \ubc29\uc2dd\n",
      "\n",
      "allall2\ud568\uc218\ub97c \uc815\uc758\ud55c\ub2e4. for ~in\uacfc \ub9c8\ucc2c\uac00\uc9c0\ub85c \ub514\ud3f4\ud2b8\uac12\uc744 \uc124\uc815\ud55c\ub2e4.\n",
      "\n",
      "\ub9ac\uc2a4\ud2b8 \ub0b4\ud3ec \ubc29\uc2dd \ub0b4\ubd80\uc5d0\uc11c\ub294 =\uc744 \uc0ac\uc6a9\ud558\uba74 syntax \uc624\ub958\uac00 \ubc1c\uc0dd.\n",
      "\n",
      "\ub530\ub77c\uc11c \ub9ac\uc2a4\ud2b8 \ub0b4\ud3ec \ubc29\uc2dd\uc73c\ub85c \uc0dd\uc131\ub41c \ub9ac\uc2a4\ud2b8\ub97c, \ub9ac\uc2a4\ud2b8 \ub0b4\uc7a5\ud568\uc218 sum\uc744 \uc774\uc6a9\ud558\uc5ec _sum2\uc5d0 \uc800\uc7a5\ud55c\ub2e4.\n",
      "\n",
      "expression - for\ubb38 \uc21c\uc73c\ub85c \ub098\uc5f4\ub41c\ub2e4."
     ]
    },
    {
     "cell_type": "markdown",
     "metadata": {},
     "source": [
      " "
     ]
    },
    {
     "cell_type": "markdown",
     "metadata": {},
     "source": [
      "- 2) addallodd(list) \ud568\uc218 (\ub9ac\uc2a4\ud2b8\ub0b4\uc758 \ubaa8\ub4e0 \ud640\uc218\ub97c \ub354\ud558\ub294 \ud568\uc218\ub85c\uc11c \ud574\ub2f5\uc73c\ub85c\ub294 for ~ in \ub9ac\ud130\ub7f4\uacfc \ub9ac\uc2a4\ud2b8 \ub0b4\ud3ec \ubc29\uc2dd\uc73c\ub85c \uac01\uac01 \uc81c\uc2dc\ud558\uc2dc\uc624.)\n",
      "\n",
      "        addallodd([1])\n",
      "        -> 1\n",
      "\n",
      "        addallodd([1, 2, 3, 4, 5, 6, 7, 8, 9])\n",
      "        -> 25"
     ]
    },
    {
     "cell_type": "code",
     "collapsed": false,
     "input": [
      "# for ~in \ub9ac\ud130\ub110\n",
      "def addallodd(_list = [1]) :\n",
      "    _sum = 0\n",
      "    for x in range(len(_list)) :\n",
      "        if (_list[x] % 2 != 0) :\n",
      "            _sum += _list[x]\n",
      "    print _sum\n",
      "    \n",
      "addallodd()\n",
      "addallodd([1])\n",
      "addallodd([1, 2, 3, 4, 5, 6, 7, 8, 9])\n",
      "print\n",
      "\n",
      "# \ub9ac\uc2a4\ud2b8 \ub0b4\ud3ec \ubc29\uc2dd\n",
      "def addallodd2(_list2 = [1]) :\n",
      "    _sum2 = 0\n",
      "    _sum2 = sum([_list2[x] for x in range(len(_list2)) if (_list2[x] % 2 != 0)])\n",
      "    print _sum2\n",
      "\n",
      "addallodd2()\n",
      "addallodd2([1])\n",
      "addallodd2([1, 2, 3, 4, 5, 6, 7, 8, 9])"
     ],
     "language": "python",
     "metadata": {},
     "outputs": [
      {
       "output_type": "stream",
       "stream": "stdout",
       "text": [
        "1\n",
        "1\n",
        "25\n",
        "\n",
        "1\n",
        "1\n",
        "25\n"
       ]
      }
     ],
     "prompt_number": 26
    },
    {
     "cell_type": "markdown",
     "metadata": {},
     "source": [
      "1) for ~in \ub9ac\ud130\ub110 \ubc29\uc2dd\n",
      "\n",
      "addallodd\ud568\uc218\ub97c \uc815\uc758\ud55c\ub2e4. _list = [1]\uc740 \ub514\ud3f4\ud2b8\uac12\uc744 \uc124\uc815\ud55c \uac83. (addallodd() \uc785\ub825\uc2dc 1\uc744 \ucd9c\ub825\ud558\uac8c\ub428)\n",
      "\n",
      "\uc6b0\ub9ac\uac00 \uc775\ud788 \uc54c\uace0 \uc788\ub294 \ubc29\uc2dd\uc73c\ub85c for\ubb38\uc744 \uc774\uc6a9\ud558\uc5ec _sum\uc5d0 \uac12\uc744 \ub204\uc801 \uc800\uc7a5\ud55c\ub2e4. \n",
      "\n",
      "\uc774 \ub54c \uc870\uac74\ubb38\uc744 \uc0ac\uc6a9\ud558\uc5ec \ud640\uc218\uc778 \uacbd\uc6b0\uc5d0\ub9cc \uac12\uc744 \ub354\ud558\ub3c4\ub85d \ud55c\ub2e4.\n",
      "\n",
      "2) \ub9ac\uc2a4\ud2b8 \ub0b4\ud3ec \ubc29\uc2dd\n",
      "\n",
      "allallodd2\ud568\uc218\ub97c \uc815\uc758\ud55c\ub2e4. for ~in\uacfc \ub9c8\ucc2c\uac00\uc9c0\ub85c \ub514\ud3f4\ud2b8\uac12\uc744 \uc124\uc815\ud55c\ub2e4.\n",
      "\n",
      "\ub9ac\uc2a4\ud2b8 \ub0b4\ud3ec \ubc29\uc2dd \ub0b4\ubd80\uc5d0\uc11c\ub294 =\uc744 \uc0ac\uc6a9\ud558\uba74 syntax \uc624\ub958\uac00 \ubc1c\uc0dd.\n",
      "\n",
      "\ub530\ub77c\uc11c \ub9ac\uc2a4\ud2b8 \ub0b4\ud3ec \ubc29\uc2dd\uc73c\ub85c \uc0dd\uc131\ub41c \ub9ac\uc2a4\ud2b8\ub97c, \ub9ac\uc2a4\ud2b8 \ub0b4\uc7a5\ud568\uc218 sum\uc744 \uc774\uc6a9\ud558\uc5ec _sum2\uc5d0 \uc800\uc7a5\ud55c\ub2e4.\n",
      "\n",
      "expression - for\ubb38 - if\ubb38 \uc21c\uc73c\ub85c \ub098\uc5f4\ub41c\ub2e4."
     ]
    },
    {
     "cell_type": "markdown",
     "metadata": {},
     "source": [
      " "
     ]
    },
    {
     "cell_type": "markdown",
     "metadata": {},
     "source": [
      "# \ubb38\uc81c 6\n",
      "\n",
      "\ub2e4\uc74c \ucf54\ub4dc\ub97c \ubcf4\uace0 \ubb3c\uc74c\uc5d0 \ub2f5\ud558\uc2dc\uc624.\n",
      "\n",
      "    L1 = [1, 2, 3]\n",
      "    L2 = [4, 5, 6]\n",
      "    d = {'low':L1, 'high':L2}\n",
      "    e = d\n",
      "    f = d.copy()\n",
      "    print d\n",
      "    print e\n",
      "    print f\n",
      "    print\n",
      "    d['low'] = [10, 20, 30]\n",
      "    d['high'][1] = 500\n",
      "    print d\n",
      "    print e\n",
      "    print f"
     ]
    },
    {
     "cell_type": "code",
     "collapsed": false,
     "input": [
      "L1 = [1, 2, 3]\n",
      "L2 = [4, 5, 6]\n",
      "d = {'low':L1, 'high':L2}\n",
      "e = d\n",
      "f = d.copy()\n",
      "\n",
      "print 'd : ', d\n",
      "print 'e : ', e\n",
      "print 'f : ', f\n",
      "print\n",
      "\n",
      "d['low'] = [10, 20, 30]\n",
      "d['high'][1] = 500\n",
      "\n",
      "print 'd : ', d\n",
      "print 'e : ', e\n",
      "print 'f : ', f"
     ],
     "language": "python",
     "metadata": {},
     "outputs": [
      {
       "output_type": "stream",
       "stream": "stdout",
       "text": [
        "d :  {'high': [4, 5, 6], 'low': [1, 2, 3]}\n",
        "e :  {'high': [4, 5, 6], 'low': [1, 2, 3]}\n",
        "f :  {'high': [4, 5, 6], 'low': [1, 2, 3]}\n",
        "\n",
        "d :  {'high': [4, 500, 6], 'low': [10, 20, 30]}\n",
        "e :  {'high': [4, 500, 6], 'low': [10, 20, 30]}\n",
        "f :  {'high': [4, 500, 6], 'low': [1, 2, 3]}\n"
       ]
      }
     ],
     "prompt_number": 10
    },
    {
     "cell_type": "markdown",
     "metadata": {},
     "source": [
      "- 1) \uc704 \ucf54\ub4dc\uc758 \uc218\ud589 \uacb0\uacfc d\uc640 e\ub294 \ud56d\uc0c1 \uac19\uc740 \uacb0\uacfc\ub97c \ucd9c\ub825\ud55c\ub2e4. \uadf8 \uc774\uc720\ub294 \ubb34\uc5c7\uc778\uac00? "
     ]
    },
    {
     "cell_type": "markdown",
     "metadata": {},
     "source": [
      "e = d\uc758 \uacbd\uc6b0, \uc0ac\uc804\uc758 \ucc38\uc870\uac12\uc744 \ubcf5\uc0ac\ud558\ub294 \uac83\uc774\ubbc0\ub85c \uc0ac\uc804 \uac1d\uccb4\ub294 \uacf5\uc720\ub418\uac8c \ub41c\ub2e4.\n",
      "\n",
      "\ub530\ub77c\uc11c d\ub098 e\uc5d0\uc11c \uac12\uc744 \ubcc0\uacbd\ud560 \uacbd\uc6b0, e\uc640 d\uc5d0\uc11c\ub3c4 \uac12\uc774 \ub611\uac19\uc774 \ubcc0\uacbd\ub418\uac8c \ub41c\ub2e4. (\uac19\uc740 \uac1d\uccb4\ub97c \ucc38\uc870\ud558\uace0 \uc788\uae30 \ub54c\ubb38)"
     ]
    },
    {
     "cell_type": "markdown",
     "metadata": {},
     "source": [
      " "
     ]
    },
    {
     "cell_type": "markdown",
     "metadata": {},
     "source": [
      "- 2) \uc704 \ucf54\ub4dc\uc758 \uc218\ud589 \uacb0\uacfc \ub9c8\uc9c0\ub9c9 f\uc758 \ub0b4\uc6a9\uc740 \ub2e4\uc74c\uacfc \uac19\ub2e4. \uc774 \ub54c 'high' \ud0a4\uc758 \uac12 \ub0b4\uc6a9 \uc911 500\uc774 \ucd9c\ub825\ub41c \uc774\uc720\uc640 'low' \ud0a4\uc758 \uac12 \ub0b4\uc6a9 \uc911 [1, 2, 3]\uc774 \ucd9c\ub825\ub41c \uc774\uc720\ub97c \uc124\uba85\ud558\uc2dc\uc624 ([hint]: shallow copy \uad00\uc810\uc5d0\uc11c \uc124\uba85\ud558\uc2dc\uc624.)\n",
      "\n",
      "        {'high': [4, 500, 6], 'low': [1, 2, 3]}"
     ]
    },
    {
     "cell_type": "markdown",
     "metadata": {},
     "source": [
      "d.copy()\ub294 \uc595\uc740 \ubcf5\uc0ac\uc758 \uac1c\ub150\uc774\ub2e4. (\uc595\uc740\ubcf5\uc0ac\uc758 \uac1c\ub150 : \ucc38\uc870\ud0c0\uc785\uc758 \uba64\ubc84\ub97c \uac00\uc9c0\uace0 \uc788\uc73c\uba74 \ucc38\uc870\uac12\ub9cc \ubcf5\uc0ac, \ubc30\uc5f4\uc740 \ucc38\uc870\ud0c0\uc785)\n",
      "\n",
      "d\ub294 \ub9ac\uc2a4\ud2b8 \uc989 \ucc38\uc870\ud0c0\uc785\uc744 \uba64\ubc84\ub85c \uac00\uc9c0\uace0 \uc788\uae30 \ub54c\ubb38\uc5d0 \uc595\uc740 \ubcf5\uc0ac\uac00 \ub41c\ub2e4.\n",
      "\n",
      "d['low'] = [10, 20, 30]\uc5d0\uc11c\ub294 low\uac12 \uc790\uccb4\ub97c \ubcc0\ud654\uc2dc\ud0a4\uae30 \ub54c\ubb38\uc5d0(\ucc38\uc870\uac12x) f\uc5d0 \uc601\ud5a5\uc744 \uc8fc\uc9c0 \uc54a\ub294\ub2e4.\n",
      "\n",
      "\uadf8\ub7ec\ub098 d['high'][1] = 500\ub294 high\uc548\uc758 1\ubc88\uc9f8 \uc778\ub371\uc2a4\ub97c \ucc38\uc870\ud558\uace0 \uc788\uae30 \ub54c\ubb38\uc5d0 f\uc5d0 \uc601\ud5a5\uc744 \uc8fc\uac8c \ub41c\ub2e4.\n",
      "\n",
      "\ub530\ub77c\uc11c d\uc5d0\uc11c \ubc14\ub010 \uac12\uc774 f\uc5d0\ub3c4 \uc801\uc6a9\uc774 \ub418\ub294 \uac83\uc774\ub2e4."
     ]
    },
    {
     "cell_type": "markdown",
     "metadata": {},
     "source": [
      " "
     ]
    },
    {
     "cell_type": "markdown",
     "metadata": {},
     "source": [
      "# \ubb38\uc81c 7\n",
      "\n",
      "\uc0ac\uc804 d = {'one':1, 'two':2, 'three':3, 'four':4, 'five':5}\uac00 \uc8fc\uc5b4\uc84c\uc744 \ub54c \ub2e4\uc74c \uc694\uad6c\uc0ac\ud56d\uc5d0 \ub9de\ub294 \ucf54\ub4dc\ub97c \uc81c\uc2dc\ud558\uc2dc\uc624 \n",
      "\n",
      "- [\ucc38\uace0]: d.keys(), d.values()\ub97c \ud1b5\ud574 \ub9ac\uc2a4\ud2b8\ub97c \uc5bb\uc5b4\ub0b8 \ud6c4 \ub9ac\uc2a4\ud2b8\uac00 \uc9c0\ub2c8\uace0 \uc788\ub294 sort(cmp=None, key=None, reverse=False)\ud568\uc218\ub97c \ud65c\uc6a9\ud558\uc2dc\uc624. "
     ]
    },
    {
     "cell_type": "markdown",
     "metadata": {},
     "source": [
      "- 1) \ud0a4\uc758 \uc54c\ud30c\ubcb3 \uc624\ub984\ucc28\uc21c \uc21c\uc11c\ub300\ub85c \ud29c\ud50c (\ud0a4, \uac12)\uc744 \ucc28\ub840\ub300\ub85c \ucd9c\ub825\ud558\uc2dc\uc624. "
     ]
    },
    {
     "cell_type": "code",
     "collapsed": false,
     "input": [
      "d = {'one':1, 'two':2, 'three':3, 'four':4, 'five':5}\n",
      "\n",
      "#print d.keys()\n",
      "#print d.values()\n",
      "#print zip(d.keys(), d.values())\n",
      "items = d.items()\n",
      "\n",
      "print '\uc815\ub82c \uc804 : ', items\n",
      "items.sort(cmp=None, key=None, reverse=False)\n",
      "\n",
      "print '\uc815\ub82c \ud6c4 : ', items"
     ],
     "language": "python",
     "metadata": {},
     "outputs": [
      {
       "output_type": "stream",
       "stream": "stdout",
       "text": [
        "\uc815\ub82c \uc804 :  [('four', 4), ('three', 3), ('five', 5), ('two', 2), ('one', 1)]\n",
        "\uc815\ub82c \ud6c4 :  [('five', 5), ('four', 4), ('one', 1), ('three', 3), ('two', 2)]\n"
       ]
      }
     ],
     "prompt_number": 27
    },
    {
     "cell_type": "markdown",
     "metadata": {},
     "source": [
      "items\ub97c \uc0dd\uc131\ud558\uc5ec d.items()\ub97c \uc800\uc7a5\ud55c\ub2e4. <.items()\ub294 (\ud0a4, \uac12)\uc758 \ub9ac\uc2a4\ud2b8\ub97c \ubc18\ud658>\n",
      "\n",
      "zip(d.keys(), d.values())\ub97c \uc774\uc6a9\ud574\ub3c4 \ub3d9\uc77c\ud55c \uac12\uc774 \ub41c\ub2e4.\n",
      "\n",
      "items\ub97c \ucd9c\ub825\ud558\uba74 [('four', 4), ('three', 3), ('five', 5), ('two', 2), ('one', 1)].\n",
      "\n",
      "\uc624\ub984\ucc28\uc21c\uc774\uae30\ub54c\ubb38\uc5d0 items.sort(cmp=None, key=None, reverse=False)\uc5d0\uc11c reverse\ub97c False\ub85c \uc124\uc815\ud558\uc5ec \uc815\ub82c.\n",
      "\n",
      "\ub530\ub77c\uc11c, [('five', 5), ('four', 4), ('one', 1), ('three', 3), ('two', 2)] \ud0a4\uc758 \uc54c\ud30c\ubcb3 \uc624\ub984\ucc28\uc21c\uc73c\ub85c \ucd9c\ub825\ub41c\ub2e4."
     ]
    },
    {
     "cell_type": "markdown",
     "metadata": {},
     "source": [
      " "
     ]
    },
    {
     "cell_type": "markdown",
     "metadata": {},
     "source": [
      "- 2) \ud0a4\uc758 \uc54c\ud30c\ubcb3 \ub0b4\ub9bc\ucc28\uc21c \uc21c\uc11c\ub300\ub85c \ud29c\ud50c (\ud0a4, \uac12)\uc744 \ucc28\ub840\ub300\ub85c \ucd9c\ub825\ud558\uc2dc\uc624. "
     ]
    },
    {
     "cell_type": "code",
     "collapsed": false,
     "input": [
      "d = {'one':1, 'two':2, 'three':3, 'four':4, 'five':5}\n",
      "\n",
      "#print d.keys()\n",
      "#print d.values()\n",
      "#print zip(d.keys(), d.values())\n",
      "items = d.items()\n",
      "\n",
      "print '\uc815\ub82c \uc804 : ', items\n",
      "items.sort(cmp=None, key=None, reverse=True)\n",
      "\n",
      "print '\uc815\ub82c \ud6c4 : ', items"
     ],
     "language": "python",
     "metadata": {},
     "outputs": [
      {
       "output_type": "stream",
       "stream": "stdout",
       "text": [
        "\uc815\ub82c \uc804 :  [('four', 4), ('three', 3), ('five', 5), ('two', 2), ('one', 1)]\n",
        "\uc815\ub82c \ud6c4 :  [('two', 2), ('three', 3), ('one', 1), ('four', 4), ('five', 5)]\n"
       ]
      }
     ],
     "prompt_number": 12
    },
    {
     "cell_type": "markdown",
     "metadata": {},
     "source": [
      "items\ub97c \uc0dd\uc131\ud558\uc5ec d.items()\ub97c \uc800\uc7a5\ud55c\ub2e4. <.items()\ub294 (\ud0a4, \uac12)\uc758 \ub9ac\uc2a4\ud2b8\ub97c \ubc18\ud658>\n",
      "\n",
      "zip(d.keys(), d.values())\ub97c \uc774\uc6a9\ud574\ub3c4 \ub3d9\uc77c\ud55c \uac12\uc774 \ub41c\ub2e4.\n",
      "\n",
      "items\ub97c \ucd9c\ub825\ud558\uba74 [('four', 4), ('three', 3), ('five', 5), ('two', 2), ('one', 1)].\n",
      "\n",
      "\ub0b4\ub9bc\ucc28\uc21c\uc774\uae30\ub54c\ubb38\uc5d0 items.sort(cmp=None, key=None, reverse=True)\uc5d0\uc11c reverse\ub97c True\ub85c \uc124\uc815\ud558\uc5ec \uc815\ub82c.\n",
      "\n",
      "\ub530\ub77c\uc11c, [('two', 2), ('three', 3), ('one', 1), ('four', 4), ('five', 5)] \ud0a4\uc758 \uc54c\ud30c\ubcb3 \ub0b4\ub9bc\ucc28\uc21c\uc73c\ub85c \ucd9c\ub825\ub41c\ub2e4. "
     ]
    },
    {
     "cell_type": "markdown",
     "metadata": {},
     "source": [
      " "
     ]
    },
    {
     "cell_type": "markdown",
     "metadata": {},
     "source": [
      "- 3) \uac12\uc758 \uc624\ub984\ucc28\uc21c \uc21c\uc11c\ub300\ub85c \ud29c\ud50c (\ud0a4, \uac12)\uc744 \ucc28\ub840\ub300\ub85c \ucd9c\ub825\ud558\uc2dc\uc624. "
     ]
    },
    {
     "cell_type": "code",
     "collapsed": false,
     "input": [
      "def mycmp(a1, a2) :\n",
      "    a1 = a1[1]\n",
      "    a2 = a2[1]\n",
      "    return cmp(a1, a2)\n",
      "\n",
      "d = {'one':1, 'two':2, 'three':3, 'four':4, 'five':5}\n",
      "\n",
      "#print d.keys()\n",
      "#print d.values()\n",
      "#print zip(d.keys(), d.values())\n",
      "items = d.items()\n",
      "\n",
      "print '\uc815\ub82c \uc804 : ', items\n",
      "items.sort(mycmp, key=None, reverse=False)\n",
      "\n",
      "print '\uc815\ub82c \ud6c4 : ', items"
     ],
     "language": "python",
     "metadata": {},
     "outputs": [
      {
       "output_type": "stream",
       "stream": "stdout",
       "text": [
        "\uc815\ub82c \uc804 :  [('four', 4), ('three', 3), ('five', 5), ('two', 2), ('one', 1)]\n",
        "\uc815\ub82c \ud6c4 :  [('one', 1), ('two', 2), ('three', 3), ('four', 4), ('five', 5)]\n"
       ]
      }
     ],
     "prompt_number": 26
    },
    {
     "cell_type": "markdown",
     "metadata": {},
     "source": [
      "\ud0a4\uac00 \uc544\ub2cc \uac12\uc744 \uc815\ub82c\uc758 \uae30\uc900\uc73c\ub85c \uc0bc\uae30 \uc704\ud558\uc5ec, mycmp\ub97c \uc0c8\ub85c \uc815\uc758\ud55c\ub2e4.\n",
      "\n",
      "a1 = al[1], a2 = a2[1] : a1, a2\uac00 \ud29c\ud50c\uc758 1\ubc88\uc9f8 \uc778\ub371\uc2a4, \uc989 \uac12\uc774 \ub418\ub3c4\ub85d \uc815\uc758\ud55c\ub2e4.\n",
      "\n",
      "mycmp\ub97c \uc0ac\uc6a9\ud558\uba74 \ud29c\ud50c\uc758 \uac12\uc73c\ub85c \ud29c\ud50c\uc744 \ube44\uad50 \uc815\ub82c\ud55c\ub2e4.\n",
      "\n",
      "items\ub97c \uc0dd\uc131\ud558\uc5ec d.items()\ub97c \uc800\uc7a5\ud55c\ub2e4. <.items()\ub294 (\ud0a4, \uac12)\uc758 \ub9ac\uc2a4\ud2b8\ub97c \ubc18\ud658>\n",
      "\n",
      "zip(d.keys(), d.values())\ub97c \uc774\uc6a9\ud574\ub3c4 \ub3d9\uc77c\ud55c \uac12\uc774 \ub41c\ub2e4.\n",
      "\n",
      "items\ub97c \ucd9c\ub825\ud558\uba74 [('four', 4), ('three', 3), ('five', 5), ('two', 2), ('one', 1)].\n",
      "\n",
      "items.sort(mycmp, key=None, reverse=False)\uc5d0\uc11c \uc704\uc5d0\uc11c\uc758 cmp=None\uc744 mycmp\ub85c \ubc14\uafb8\uba74 \uac12\uc744 \ube44\uad50\ud558\uc5ec \uc815\ub82c\ud55c\ub2e4.\n",
      "\n",
      "\ub530\ub77c\uc11c, [('one', 1), ('two', 2), ('three', 3), ('four', 4), ('five', 5)] \uac12\uc758 \uc624\ub984\ucc28\uc21c\uc73c\ub85c \ucd9c\ub825\ub41c\ub2e4."
     ]
    },
    {
     "cell_type": "markdown",
     "metadata": {},
     "source": [
      " "
     ]
    },
    {
     "cell_type": "markdown",
     "metadata": {},
     "source": [
      "- 4) \uac12\uc758 \ub0b4\ub9bc\ucc28\uc21c \uc21c\uc11c\ub300\ub85c \ud29c\ud50c (\ud0a4, \uac12)\uc744 \ucc28\ub840\ub300\ub85c \ucd9c\ub825\ud558\uc2dc\uc624. "
     ]
    },
    {
     "cell_type": "code",
     "collapsed": false,
     "input": [
      "def mycmp(a1, a2) :\n",
      "    a1 = a1[1]\n",
      "    a2 = a2[1]\n",
      "    return cmp(a2, a1)\n",
      "\n",
      "d = {'one':1, 'two':2, 'three':3, 'four':4, 'five':5}\n",
      "\n",
      "#print d.keys()\n",
      "#print d.values()\n",
      "#print zip(d.keys(), d.values())\n",
      "items = d.items()\n",
      "\n",
      "print '\uc815\ub82c \uc804 : ', items\n",
      "items.sort(mycmp, key=None, reverse=False)\n",
      "\n",
      "print '\uc815\ub82c \ud6c4 : ', items"
     ],
     "language": "python",
     "metadata": {},
     "outputs": [
      {
       "output_type": "stream",
       "stream": "stdout",
       "text": [
        "\uc815\ub82c \uc804 :  [('four', 4), ('three', 3), ('five', 5), ('two', 2), ('one', 1)]\n",
        "\uc815\ub82c \ud6c4 :  [('five', 5), ('four', 4), ('three', 3), ('two', 2), ('one', 1)]\n"
       ]
      }
     ],
     "prompt_number": 23
    },
    {
     "cell_type": "markdown",
     "metadata": {},
     "source": [
      "\ud0a4\uac00 \uc544\ub2cc \uac12\uc744 \uc815\ub82c\uc758 \uae30\uc900\uc73c\ub85c \uc0bc\uae30 \uc704\ud558\uc5ec, mycmp\ub97c \uc0c8\ub85c \uc815\uc758\ud55c\ub2e4.\n",
      "\n",
      "a1 = al[1], a2 = a2[1] : a1, a2\uac00 \ud29c\ud50c\uc758 1\ubc88\uc9f8 \uc778\ub371\uc2a4, \uc989 \uac12\uc774 \ub418\ub3c4\ub85d \uc815\uc758\ud55c\ub2e4.\n",
      "\n",
      "\uc704\uc758 \uacbd\uc6b0\uc640\ub294 \ub2ec\ub9ac \ubc18\ub300\ub85c \uac12\uc744 \ubc18\ud658\ud55c\ub2e4. (\ub0b4\ub9bc\ucc28\uc21c(\uc624\ub984\ucc28\uc21c\uc758 \uc5ed\uc21c)\uc73c\ub85c \ucd9c\ub825\ud558\uae30 \uc704\ud568)\n",
      "\n",
      "mycmp\ub97c \uc0ac\uc6a9\ud558\uba74 \ud29c\ud50c\uc758 \uac12\uc73c\ub85c \ud29c\ud50c\uc744 \ube44\uad50 \uc815\ub82c\ud55c\ub2e4.\n",
      "\n",
      "items\ub97c \uc0dd\uc131\ud558\uc5ec d.items()\ub97c \uc800\uc7a5\ud55c\ub2e4. <.items()\ub294 (\ud0a4, \uac12)\uc758 \ub9ac\uc2a4\ud2b8\ub97c \ubc18\ud658>\n",
      "\n",
      "zip(d.keys(), d.values())\ub97c \uc774\uc6a9\ud574\ub3c4 \ub3d9\uc77c\ud55c \uac12\uc774 \ub41c\ub2e4.\n",
      "\n",
      "items\ub97c \ucd9c\ub825\ud558\uba74 [('four', 4), ('three', 3), ('five', 5), ('two', 2), ('one', 1)].\n",
      "\n",
      "items.sort(mycmp, key=None, reverse=False)\uc5d0\uc11c \uc704\uc5d0\uc11c\uc758 cmp=None\uc744 mycmp\ub85c \ubc14\uafb8\uba74 \uac12\uc744 \ube44\uad50\ud558\uc5ec \uc815\ub82c\ud55c\ub2e4.\n",
      "\n",
      "\ub530\ub77c\uc11c, [('five', 5), ('four', 4), ('three', 3), ('two', 2), ('one', 1)] \uac12\uc758 \ub0b4\ub9bc\ucc28\uc21c\uc73c\ub85c \ucd9c\ub825\ub41c\ub2e4. "
     ]
    },
    {
     "cell_type": "markdown",
     "metadata": {},
     "source": [
      " "
     ]
    },
    {
     "cell_type": "markdown",
     "metadata": {},
     "source": [
      "# \ubb38\uc81c 8\n",
      "\n",
      "\uc774\uc804 Assignment 2\uc758 \ub9c8\uc9c0\ub9c9 \ubb38\uc81c\ub294 \uc6f9 URL\ub85c \uc9c0\uc815\ub41c \uc6f9\ud398\uc774\uc9c0\ub97c \ubb38\uc790\uc5f4\ub85c \uac00\uc838\uc640 \ubaa8\ub4e0 HTML \ud0dc\uadf8 \ubc0f CSS\uc640 Javascript\ub97c \uc81c\uc678\ud55c \uc21c\uc218 \ud14d\uc2a4\ud2b8\ub97c \uc5bb\uc5b4\ub0b4\uace0 \uadf8 \uc548\uc5d0 \uc874\uc7ac\ud558\ub294 \ub2e8\uc5b4\ub97c \ucd94\ucd9c\ud558\ub294 \ud504\ub85c\uadf8\ub7a8\uc744 \uc791\uc131\ud558\ub294 \uac83\uc774\uc5c8\ub2e4. \uc774\ubc88\uc5d0\ub294 \uadf8 \ub9c8\uc9c0\ub9c9 \uc219\uc81c\ub97c \uadf8\ub300\ub85c \ud655\uc7a5\ud558\uc5ec \uc6f9 URL\ub85c \uc9c0\uc815\ub41c \uc6f9\ud398\uc774\uc9c0 \ub0b4 \uc21c\uc218 \ud14d\uc2a4\ud2b8 \uc548\uc5d0 \uc874\uc7ac\ud558\ub294 \uac01 \ub2e8\uc5b4\ub4e4\uc5d0 \ub300\ud574 \ub2e4\uc74c \uc694\uad6c\uc0ac\ud56d \ub300\ub85c \ucd9c\ub825\ud558\ub294 \ud504\ub85c\uadf8\ub7a8\uc744 \uc791\uc131\ud558\uc2dc\uc624. \n",
      "\n",
      "- \uc694\uad6c\uc0ac\ud56d 1. \uc21c\uc218 \ud14d\uc2a4\ud2b8 \uc548\uc5d0 \uc874\uc7ac\ud558\ub294 \ub2e8\uc5b4\ub4e4\uc5d0 \ub300\ud574 string \ubaa8\ub4c8\uc744 \ud65c\uc6a9\ud558\uc5ec \ubaa8\ub4e0 punctuation (\uad6c\ub450\ubb38\uc790)\ub97c \uc644\ubcbd\ud788 \uc81c\uac70\ud558\uc2dc\uc624 (\uad50\uc7ac 166\ud398\uc774\uc9c0 \ucc38\uace0).\n",
      "        \uc608: ['world!', ':', '+hello+', '~python$$$', '=', 'world'] ---> ['world', 'hello', 'python', 'world'] \n",
      "\n",
      "- \uc694\uad6c\uc0ac\ud56d 2. \uac01 \ub2e8\uc5b4\ub4e4\uc758 \ucd9c\ud604\ube48\ub3c4\ub97c \uc0ac\uc804\ud615\ud0dc\ub85c \uc800\uc7a5\ud558\uc5ec \ucd9c\ub825\ud558\uc2dc\uc624.\n",
      "        \uc608: ['world', 'hello', 'python', 'world'] ---> {'world': 2, 'hello': 1, 'python': 1} "
     ]
    },
    {
     "cell_type": "code",
     "collapsed": false,
     "input": [
      "import urllib\n",
      "import string\n",
      "\n",
      "k = string.punctuation\n",
      "\n",
      "source = urllib.urlopen(\"http://cse.kut.ac.kr/\").read()\n",
      "\n",
      "\n",
      "len_source = len(source)\n",
      "print \"Initial length of source:\", len_source\n",
      "\n",
      "source_new = None\n",
      "i = 0\n",
      "while (i < len_source):\n",
      "    found = False\n",
      "    if (found != True and source[i] == \"<\" and source[i+1 : i+7].lower() == \"script\"):\n",
      "        found = True;\n",
      "        j = i + 7;\n",
      "        while (True):\n",
      "            if (source[j] == \"<\" and source[j+1] == \"/\" and source[j+2 : j+8].lower() == \"script\"):\n",
      "                #print \"found - script\"\n",
      "                source = source[:i] + ' ' + source[j+9:]\n",
      "                break\n",
      "            j = j + 1\n",
      "            if (j > len_source):\n",
      "                break\n",
      "        len_source = len(source)\n",
      "    i = i + 1\n",
      "\n",
      "len_source = len(source)\n",
      "#print len_source\n",
      "\n",
      "i = 0\n",
      "while (i < len_source):\n",
      "    found = False\n",
      "    if (found != True and source[i] == \"<\" and source[i+1 : i+6].lower() == \"style\"):\n",
      "        found = True;\n",
      "        j = i + 6;\n",
      "        while (True):\n",
      "            if (source[j] == \"<\" and source[j+1] == \"/\" and source[j+2 : j+7].lower() == \"style\"):\n",
      "                #print \"found - style\"\n",
      "                source = source[:i] + ' ' + source[j+8:]\n",
      "                break\n",
      "            j = j + 1\n",
      "            if (j > len_source):\n",
      "                break\n",
      "        len_source = len(source)\n",
      "    i = i + 1\n",
      "\n",
      "len_source = len(source)\n",
      "#print len_source\n",
      "\n",
      "i = 0\n",
      "while (i < len_source):\n",
      "    found = False\n",
      "    if (found != True and source[i] == \"<\"):\n",
      "        found = True;\n",
      "        j = i + 1;\n",
      "        while (True):\n",
      "            if (source[j] == \">\"):\n",
      "                #print \"found - HTML tag\"\n",
      "                source = source[:i] + ' ' + source[j+1:]\n",
      "                break\n",
      "            j = j + 1\n",
      "            if (j > len_source):\n",
      "                break\n",
      "        len_source = len(source)\n",
      "    i = i + 1\n",
      "\n",
      "len_source = len(source)\n",
      "print \"Last length of source:\", len_source\n",
      "\n",
      "wordList = source.split()\n",
      "\n",
      "print \"Total num of plain words:\", len(wordList)\n",
      "\n",
      "source = \" \".join(wordList)\n",
      "\n",
      "\n",
      "# \uadf8\ub0e5 source \ucd9c\ub825\n",
      "print\n",
      "print\n",
      "print '\uadf8\ub0e5 source \ucd9c\ub825 (\ubb38\uc790\uc5f4 \ud615\uc2dd)'\n",
      "print '==========================================================================================================================='\n",
      "print source\n",
      "print\n",
      "\n",
      "# \uad6c\ub450\ubb38\uc790 \uc81c\uac70 \ud6c4 \ucd9c\ub825 new_src\n",
      "new_src = source.translate(None, k)\n",
      "print\n",
      "print '\uad6c\ub450\ubb38\uc790 \uc81c\uac70 \ud6c4 (\ubb38\uc790\uc5f4 \ud615\uc2dd)'\n",
      "print '==========================================================================================================================='\n",
      "print new_src\n",
      "print\n",
      "\n",
      "\n",
      "#\uc694\uad6c\uc0ac\ud56d 2. \uac01 \ub2e8\uc5b4\ub4e4\uc758 \ucd9c\ud604\ube48\ub3c4\ub97c \uc0ac\uc804\ud615\ud0dc\ub85c \uc800\uc7a5\ud558\uc5ec \ucd9c\ub825\ud558\uc2dc\uc624.\n",
      "dictList = new_src.split()\n",
      "\n",
      "tmp_list = []\n",
      "\n",
      "for x in range(len(dictList)) :\n",
      "    if (dictList[x] not in tmp_list) :\n",
      "        tmp_list.append(dictList[x])\n",
      " \n",
      "# new_src\uc5d0\uc11c \uc911\ubcf5\ub41c \ubb38\uc790\ub97c \uc81c\uc678\ud558\uace0 \ucd9c\ub825\n",
      "print\n",
      "print '\uc911\ubcf5\ub41c \ubb38\uc790 \uc81c\uc678 \ud6c4 (\ub9ac\uc2a4\ud2b8 \ud615\uc2dd)'\n",
      "print '==========================================================================================================================='\n",
      "for word in tmp_list :\n",
      "    print '\"' + word + '\" ',\n",
      "\n",
      "values = []\n",
      "print\n",
      "for x in range(len(tmp_list)) :\n",
      "    values.append(new_src.count(tmp_list[x]))\n",
      "\n",
      "print\n",
      "print\n",
      "print '\uc0ac\uc804 \ud615\uc2dd\uc73c\ub85c (\ub2e8\uc5b4 \ucd9c\ub825\ud69f\uc218 \ucd9c\ub825)'\n",
      "print '==========================================================================================================================='\n",
      "\n",
      "\n",
      "dic = dict()\n",
      "\n",
      "for x in range(len(tmp_list)) :\n",
      "    dic[tmp_list[x]] = values[x]\n",
      "    \n",
      "print '{',\n",
      "for key in dic.keys() :\n",
      "    print '\\'' + key + ':',\n",
      "    print str(dic[key]) + '\\'' + ',',\n",
      "print '}'"
     ],
     "language": "python",
     "metadata": {},
     "outputs": [
      {
       "output_type": "stream",
       "stream": "stdout",
       "text": [
        "Initial length of source: 36415\n",
        "Last length of source:"
       ]
      },
      {
       "output_type": "stream",
       "stream": "stdout",
       "text": [
        " 5458\n",
        "Total num of plain words: 198\n",
        "\n",
        "\n",
        "\uadf8\ub0e5 source \ucd9c\ub825 (\ubb38\uc790\uc5f4 \ud615\uc2dd)\n",
        "===========================================================================================================================\n",
        "\ucef4\ud4e8\ud130\uacf5\ud559\ubd80 \ud648\ud398\uc774\uc9c0 \ucef4\ud4e8\ud130\uacf5\ud559\ubd80 : \uad50\uc721\ubaa9\ud45c : \ucc3e\uc544\uc624\uc2dc\ub294\uae38 : \uc878\uc5c5\uc791\ud488 : \uacf5\ud559\uc124\uacc4 : \ucde8\uc5c5\uc870\uc0ac2014 : \ucde8\uc5c5\uc870\uc0ac2013 \uad50\uc218\uc9c4 : \ud559\uc0dd\ud68c \uc878\uc5c5\uc774\uc218\uc694\uac74 : \ucef4\ud4e8\ud130S/W : \ucef4\ud4e8\ud130H/W : \ucef4\ud4e8\ud130\uc2a4\ub9c8\ud2b8IT : \ucef4\ud4e8\ud130\uc2dc\uc2a4\ud15c\uc751\uc6a9 : \uc7a5\ud559\uc81c\ub3c4 \ubaa8\uc9d1\uc694\uac15 : \uc785\uc2dcQ&A \uacf5\uc9c0\uc0ac\ud56d : \uc790\uc720\uac8c\uc2dc\ud310 : \uc775\uba85\uac8c\uc2dc\ud310 : \ucde8\uc5c5\uac8c\uc2dc\ud310 : \ub3d9\ubb38\uac8c\uc2dc\ud310 : \uc0ac\uc9c4\uac8c\uc2dc\ud310 : \ud559\ubd80\uc0ac\uc9c4\uac94\ub7ec\ub9ac : \uace0\uc7a5\uc2e0\uace0\uac8c\uc2dc\ud310 \uac15\uc758\uc790\ub8cc\uc2e4 : \uc77c\ubc18\uc790\ub8cc\uc2e4 : \uc11c\uc2dd\ubc0f\uc591\uc2dd\uc790\ub8cc\uc2e4 \ub300\ud559\uc6d0\uc18c\uac1c : \uc5f0\uad6c\uc2e4\uc18c\uac1c : \ub300\ud559\uc6d0\uac8c\uc2dc\ud310 \uacf5\ud559\uc778\uc99d\uc548\ub0b4 : \uacf5\ud559\uc778\uc99d\uac8c\uc2dc\ud310 : C++ 2014/03/27 \uacf5\ud559\uc124\uacc4 \ud3ec\uc2a4\ud130\ubc1c\ud45c\uacbd\uc9c4\ub300\ud68c \ud22c\ud45c... 2013/12/10 2013\ub144 \uc878\uc5c5\uc791\ud488 \ube0c\ub85c\uc154 2013/10/07 \uc81c 4\ub300 \ucef4\ud4e8\ud130\uacf5\ud559\ubd80 \ud559\ud68c\uc7a5/\ubd80\ud559... 2012/11/05 \ub514\uc9c0\ud138 \uc2dc\uc2a4\ud15c \uc124\uacc41- [\uc2e4\uc2b5-\uc870\uad50] 2012/09/09 \ucef4\ud4e8\ud130\uacf5\ud559\ubd80 \ud559\uc0dd\ub4e4\uc744 \uc704\ud55c \ub18d\uad6c... 2014/10/06 \ud639\uc2dc \ud64d\uc9c4\ud45c \uad50\uc218\ub2d8\uc758 \ucef4\ud4e8\ud130 \uad6c... &nbsp; (2) 2014/10/06 \uc18c\ud504\ud2b8\uc6e8\uc5b4 \uac1c\ubc1c\ubcf4\uc548 \uacbd\uc9c4\ub300\ud68c \uac1c\ucd5c 2014/10/01 2015\ub144 \uc0c1\ubc18\uae30 \uc0bc\uc131 \uc18c\ud504\ud2b8\uc6e8\uc5b4 ... 2014/09/25 \uacfc \uc7a0\ubc14 \ubd88\ucd9c\uacf5\uc9c0\uc785\ub2c8\ub2e4!! 2014/09/23 2014\ub144 T-money(\ud55a\uad6d\uc2a4\ub9c8\ud2b8\uce74\ub4dc) ... 2014/10/14 \uc138\ub9bc\ud2f0\ub124\uc2a4\uc9c0(\uc8fc) \uc778\ub825 \ucc44\uc6a9 \uacf5\uace0 2014/09/30 (\uc8fc)\uc5e0\ud504\ub860\ud2f0\uc5b4 \uc2dc\uc2a4\ud15c \uc6b4\uc601/\uac1c\ubc1c ... 2014/09/15 \ucef4\ud4e8\ud130\uacf5\ud559\ubd80 \ud559\ubd80\uc0ac\ubb34\uc2e4 \uccad\ub144\uc778\ud134... 2014/08/06 (\uc8fc)\uc2e0\uc9c4\uc5e0\ud14d 2014/06/16 2014\ub144 \uc878\uc5c5... \uae40\uc7ac\uc6b0\ucc98\uc7a5... 2014\ub144 \uc2a4\uc2b9... \uc878\uc5c5\uc791\ud488 \ud3ec\uc0c1(\uacbd\uc9c4\ub300\ud68c) \uc548\ub0b4 2014/10/15 \ub300\ud559\uc6d0\uc0dd \ub300\uc0c1 \uc548\uc804\uad50\uc721 \uc548\ub0b4 10... 2014/10/14 [\ud2b9\uc131\ud654\uc0ac\uc5c5\ub2e8] \uc77c\ubcf8\uae30\uc220\ud0d0\ubc29 \uc120... 2014/10/13 2014\ub144 \ud558\ubc18\uae30 \ud154\ucf54\uc6e8\uc5b4(\uc8fc) \uc2e0\uc785... 2014/10/10 \uc878\uc5c5\uc791\ud488 \uc804\uc2dc\ud68c \ucef4\ud4e8\ud130\uacf5\ud559\ubd80 \uc778... 2014/10/07 \uc7ac\uacf5\uc9c0) 12\uc77c \ub9c8\uac10. \uc878\uc5c5\uc791\ud488 \ud3ec... 2014/10/04 2014\ub144 \uc878\uc5c5\uc791\ud488 \ucd5c\uc885\uacb0\uacfc \ubc1c\ud45c 2014/10/01 [\uae30\uc790\uc218\ucca9]700\u3392, \ub17c\uc7c1\uac70\ub9ac \ub420 \uc218... 2014-10-15 [\ud574\uc124]5\uc138\ub300 \ud1b5\uc2e0 \uc0c1\uc6a9\ud654 \u2018\uc131\ud07c\u2019 2014-10-15 `\uc2a4\ub9c8\ud2b8 \ubbf8\ub514\uc5b4`, \ubbf8\ub514\uc5b4 \uc0b0\uc5c5 \uad6c... 2014-10-15 \ubd88\ubc95 \ub300\ubd80\uad11\uace0\uc5d0 \uc4f0\uc778 \uc804\ud654\ubc88\ud638 ... 2014-10-15 \uc6b0\uccb4\uad6d \ucd94\uac00 \uc54c\ub730\ud3f0 \uc120\uc815 17\uc77c \uc774... 2014-10-15\n",
        "\n",
        "\n",
        "\uad6c\ub450\ubb38\uc790 \uc81c\uac70 \ud6c4 (\ubb38\uc790\uc5f4 \ud615\uc2dd)\n",
        "===========================================================================================================================\n",
        "\ucef4\ud4e8\ud130\uacf5\ud559\ubd80 \ud648\ud398\uc774\uc9c0 \ucef4\ud4e8\ud130\uacf5\ud559\ubd80  \uad50\uc721\ubaa9\ud45c  \ucc3e\uc544\uc624\uc2dc\ub294\uae38  \uc878\uc5c5\uc791\ud488  \uacf5\ud559\uc124\uacc4  \ucde8\uc5c5\uc870\uc0ac2014  \ucde8\uc5c5\uc870\uc0ac2013 \uad50\uc218\uc9c4  \ud559\uc0dd\ud68c \uc878\uc5c5\uc774\uc218\uc694\uac74  \ucef4\ud4e8\ud130SW  \ucef4\ud4e8\ud130HW  \ucef4\ud4e8\ud130\uc2a4\ub9c8\ud2b8IT  \ucef4\ud4e8\ud130\uc2dc\uc2a4\ud15c\uc751\uc6a9  \uc7a5\ud559\uc81c\ub3c4 \ubaa8\uc9d1\uc694\uac15  \uc785\uc2dcQA \uacf5\uc9c0\uc0ac\ud56d  \uc790\uc720\uac8c\uc2dc\ud310  \uc775\uba85\uac8c\uc2dc\ud310  \ucde8\uc5c5\uac8c\uc2dc\ud310  \ub3d9\ubb38\uac8c\uc2dc\ud310  \uc0ac\uc9c4\uac8c\uc2dc\ud310  \ud559\ubd80\uc0ac\uc9c4\uac94\ub7ec\ub9ac  \uace0\uc7a5\uc2e0\uace0\uac8c\uc2dc\ud310 \uac15\uc758\uc790\ub8cc\uc2e4  \uc77c\ubc18\uc790\ub8cc\uc2e4  \uc11c\uc2dd\ubc0f\uc591\uc2dd\uc790\ub8cc\uc2e4 \ub300\ud559\uc6d0\uc18c\uac1c  \uc5f0\uad6c\uc2e4\uc18c\uac1c  \ub300\ud559\uc6d0\uac8c\uc2dc\ud310 \uacf5\ud559\uc778\uc99d\uc548\ub0b4  \uacf5\ud559\uc778\uc99d\uac8c\uc2dc\ud310  C 20140327 \uacf5\ud559\uc124\uacc4 \ud3ec\uc2a4\ud130\ubc1c\ud45c\uacbd\uc9c4\ub300\ud68c \ud22c\ud45c 20131210 2013\ub144 \uc878\uc5c5\uc791\ud488 \ube0c\ub85c\uc154 20131007 \uc81c 4\ub300 \ucef4\ud4e8\ud130\uacf5\ud559\ubd80 \ud559\ud68c\uc7a5\ubd80\ud559 20121105 \ub514\uc9c0\ud138 \uc2dc\uc2a4\ud15c \uc124\uacc41 \uc2e4\uc2b5\uc870\uad50 20120909 \ucef4\ud4e8\ud130\uacf5\ud559\ubd80 \ud559\uc0dd\ub4e4\uc744 \uc704\ud55c \ub18d\uad6c 20141006 \ud639\uc2dc \ud64d\uc9c4\ud45c \uad50\uc218\ub2d8\uc758 \ucef4\ud4e8\ud130 \uad6c nbsp 2 20141006 \uc18c\ud504\ud2b8\uc6e8\uc5b4 \uac1c\ubc1c\ubcf4\uc548 \uacbd\uc9c4\ub300\ud68c \uac1c\ucd5c 20141001 2015\ub144 \uc0c1\ubc18\uae30 \uc0bc\uc131 \uc18c\ud504\ud2b8\uc6e8\uc5b4  20140925 \uacfc \uc7a0\ubc14 \ubd88\ucd9c\uacf5\uc9c0\uc785\ub2c8\ub2e4 20140923 2014\ub144 Tmoney\ud55a\uad6d\uc2a4\ub9c8\ud2b8\uce74\ub4dc  20141014 \uc138\ub9bc\ud2f0\ub124\uc2a4\uc9c0\uc8fc \uc778\ub825 \ucc44\uc6a9 \uacf5\uace0 20140930 \uc8fc\uc5e0\ud504\ub860\ud2f0\uc5b4 \uc2dc\uc2a4\ud15c \uc6b4\uc601\uac1c\ubc1c  20140915 \ucef4\ud4e8\ud130\uacf5\ud559\ubd80 \ud559\ubd80\uc0ac\ubb34\uc2e4 \uccad\ub144\uc778\ud134 20140806 \uc8fc\uc2e0\uc9c4\uc5e0\ud14d 20140616 2014\ub144 \uc878\uc5c5 \uae40\uc7ac\uc6b0\ucc98\uc7a5 2014\ub144 \uc2a4\uc2b9 \uc878\uc5c5\uc791\ud488 \ud3ec\uc0c1\uacbd\uc9c4\ub300\ud68c \uc548\ub0b4 20141015 \ub300\ud559\uc6d0\uc0dd \ub300\uc0c1 \uc548\uc804\uad50\uc721 \uc548\ub0b4 10 20141014 \ud2b9\uc131\ud654\uc0ac\uc5c5\ub2e8 \uc77c\ubcf8\uae30\uc220\ud0d0\ubc29 \uc120 20141013 2014\ub144 \ud558\ubc18\uae30 \ud154\ucf54\uc6e8\uc5b4\uc8fc \uc2e0\uc785 20141010 \uc878\uc5c5\uc791\ud488 \uc804\uc2dc\ud68c \ucef4\ud4e8\ud130\uacf5\ud559\ubd80 \uc778 20141007 \uc7ac\uacf5\uc9c0 12\uc77c \ub9c8\uac10 \uc878\uc5c5\uc791\ud488 \ud3ec 20141004 2014\ub144 \uc878\uc5c5\uc791\ud488 \ucd5c\uc885\uacb0\uacfc \ubc1c\ud45c 20141001 \uae30\uc790\uc218\ucca9700\u3392 \ub17c\uc7c1\uac70\ub9ac \ub420 \uc218 20141015 \ud574\uc1245\uc138\ub300 \ud1b5\uc2e0 \uc0c1\uc6a9\ud654 \u2018\uc131\ud07c\u2019 20141015 \uc2a4\ub9c8\ud2b8 \ubbf8\ub514\uc5b4 \ubbf8\ub514\uc5b4 \uc0b0\uc5c5 \uad6c 20141015 \ubd88\ubc95 \ub300\ubd80\uad11\uace0\uc5d0 \uc4f0\uc778 \uc804\ud654\ubc88\ud638  20141015 \uc6b0\uccb4\uad6d \ucd94\uac00 \uc54c\ub730\ud3f0 \uc120\uc815 17\uc77c \uc774 20141015\n",
        "\n",
        "\n",
        "\uc911\ubcf5\ub41c \ubb38\uc790 \uc81c\uc678 \ud6c4 (\ub9ac\uc2a4\ud2b8 \ud615\uc2dd)\n",
        "===========================================================================================================================\n",
        "\"\ucef4\ud4e8\ud130\uacf5\ud559\ubd80\"  \"\ud648\ud398\uc774\uc9c0\"  \"\uad50\uc721\ubaa9\ud45c\"  \"\ucc3e\uc544\uc624\uc2dc\ub294\uae38\"  \"\uc878\uc5c5\uc791\ud488\"  \"\uacf5\ud559\uc124\uacc4\"  \"\ucde8\uc5c5\uc870\uc0ac2014\"  \"\ucde8\uc5c5\uc870\uc0ac2013\"  \"\uad50\uc218\uc9c4\"  \"\ud559\uc0dd\ud68c\"  \"\uc878\uc5c5\uc774\uc218\uc694\uac74\"  \"\ucef4\ud4e8\ud130SW\"  \"\ucef4\ud4e8\ud130HW\"  \"\ucef4\ud4e8\ud130\uc2a4\ub9c8\ud2b8IT\"  \"\ucef4\ud4e8\ud130\uc2dc\uc2a4\ud15c\uc751\uc6a9\"  \"\uc7a5\ud559\uc81c\ub3c4\"  \"\ubaa8\uc9d1\uc694\uac15\"  \"\uc785\uc2dcQA\"  \"\uacf5\uc9c0\uc0ac\ud56d\"  \"\uc790\uc720\uac8c\uc2dc\ud310\"  \"\uc775\uba85\uac8c\uc2dc\ud310\"  \"\ucde8\uc5c5\uac8c\uc2dc\ud310\"  \"\ub3d9\ubb38\uac8c\uc2dc\ud310\"  \"\uc0ac\uc9c4\uac8c\uc2dc\ud310\"  \"\ud559\ubd80\uc0ac\uc9c4\uac94\ub7ec\ub9ac\"  \"\uace0\uc7a5\uc2e0\uace0\uac8c\uc2dc\ud310\"  \"\uac15\uc758\uc790\ub8cc\uc2e4\"  \"\uc77c\ubc18\uc790\ub8cc\uc2e4\"  \"\uc11c\uc2dd\ubc0f\uc591\uc2dd\uc790\ub8cc\uc2e4\"  \"\ub300\ud559\uc6d0\uc18c\uac1c\"  \"\uc5f0\uad6c\uc2e4\uc18c\uac1c\"  \"\ub300\ud559\uc6d0\uac8c\uc2dc\ud310\"  \"\uacf5\ud559\uc778\uc99d\uc548\ub0b4\"  \"\uacf5\ud559\uc778\uc99d\uac8c\uc2dc\ud310\"  \"C\"  \"20140327\"  \"\ud3ec\uc2a4\ud130\ubc1c\ud45c\uacbd\uc9c4\ub300\ud68c\"  \"\ud22c\ud45c\"  \"20131210\"  \"2013\ub144\"  \"\ube0c\ub85c\uc154\"  \"20131007\"  \"\uc81c\"  \"4\ub300\"  \"\ud559\ud68c\uc7a5\ubd80\ud559\"  \"20121105\"  \"\ub514\uc9c0\ud138\"  \"\uc2dc\uc2a4\ud15c\"  \"\uc124\uacc41\"  \"\uc2e4\uc2b5\uc870\uad50\"  \"20120909\"  \"\ud559\uc0dd\ub4e4\uc744\"  \"\uc704\ud55c\"  \"\ub18d\uad6c\"  \"20141006\"  \"\ud639\uc2dc\"  \"\ud64d\uc9c4\ud45c\"  \"\uad50\uc218\ub2d8\uc758\"  \"\ucef4\ud4e8\ud130\"  \"\uad6c\"  \"nbsp\"  \"2\"  \"\uc18c\ud504\ud2b8\uc6e8\uc5b4\"  \"\uac1c\ubc1c\ubcf4\uc548\"  \"\uacbd\uc9c4\ub300\ud68c\"  \"\uac1c\ucd5c\"  \"20141001\"  \"2015\ub144\"  \"\uc0c1\ubc18\uae30\"  \"\uc0bc\uc131\"  \"20140925\"  \"\uacfc\"  \"\uc7a0\ubc14\"  \"\ubd88\ucd9c\uacf5\uc9c0\uc785\ub2c8\ub2e4\"  \"20140923\"  \"2014\ub144\"  \"Tmoney\ud55a\uad6d\uc2a4\ub9c8\ud2b8\uce74\ub4dc\"  \"20141014\"  \"\uc138\ub9bc\ud2f0\ub124\uc2a4\uc9c0\uc8fc\"  \"\uc778\ub825\"  \"\ucc44\uc6a9\"  \"\uacf5\uace0\"  \"20140930\"  \"\uc8fc\uc5e0\ud504\ub860\ud2f0\uc5b4\"  \"\uc6b4\uc601\uac1c\ubc1c\"  \"20140915\"  \"\ud559\ubd80\uc0ac\ubb34\uc2e4\"  \"\uccad\ub144\uc778\ud134\"  \"20140806\"  \"\uc8fc\uc2e0\uc9c4\uc5e0\ud14d\"  \"20140616\"  \"\uc878\uc5c5\"  \"\uae40\uc7ac\uc6b0\ucc98\uc7a5\"  \"\uc2a4\uc2b9\"  \"\ud3ec\uc0c1\uacbd\uc9c4\ub300\ud68c\"  \"\uc548\ub0b4\"  \"20141015\"  \"\ub300\ud559\uc6d0\uc0dd\"  \"\ub300\uc0c1\"  \"\uc548\uc804\uad50\uc721\"  \"10\"  \"\ud2b9\uc131\ud654\uc0ac\uc5c5\ub2e8\"  \"\uc77c\ubcf8\uae30\uc220\ud0d0\ubc29\"  \"\uc120\"  \"20141013\"  \"\ud558\ubc18\uae30\"  \"\ud154\ucf54\uc6e8\uc5b4\uc8fc\"  \"\uc2e0\uc785\"  \"20141010\"  \"\uc804\uc2dc\ud68c\"  \"\uc778\"  \"20141007\"  \"\uc7ac\uacf5\uc9c0\"  \"12\uc77c\"  \"\ub9c8\uac10\"  \"\ud3ec\"  \"20141004\"  \"\ucd5c\uc885\uacb0\uacfc\"  \"\ubc1c\ud45c\"  \"\uae30\uc790\uc218\ucca9700\u3392\"  \"\ub17c\uc7c1\uac70\ub9ac\"  \"\ub420\"  \"\uc218\"  \"\ud574\uc1245\uc138\ub300\"  \"\ud1b5\uc2e0\"  \"\uc0c1\uc6a9\ud654\"  \"\u2018\uc131\ud07c\u2019\"  \"\uc2a4\ub9c8\ud2b8\"  \"\ubbf8\ub514\uc5b4\"  \"\uc0b0\uc5c5\"  \"\ubd88\ubc95\"  \"\ub300\ubd80\uad11\uace0\uc5d0\"  \"\uc4f0\uc778\"  \"\uc804\ud654\ubc88\ud638\"  \"\uc6b0\uccb4\uad6d\"  \"\ucd94\uac00\"  \"\uc54c\ub730\ud3f0\"  \"\uc120\uc815\"  \"17\uc77c\"  \"\uc774\" \n",
        "\n",
        "\n",
        "\uc0ac\uc804 \ud615\uc2dd\uc73c\ub85c (\ub2e8\uc5b4 \ucd9c\ub825\ud69f\uc218 \ucd9c\ub825)\n",
        "===========================================================================================================================\n",
        "{ '\uc785\uc2dcQA: 1', '\ucef4\ud4e8\ud130\uc2dc\uc2a4\ud15c\uc751\uc6a9: 1', '\uc548\uc804\uad50\uc721: 1', 'nbsp: 1', '\uacf5\uc9c0\uc0ac\ud56d: 1', '2013\ub144: 1', '\uc8fc\uc2e0\uc9c4\uc5e0\ud14d: 1', '\uc5f0\uad6c\uc2e4\uc18c\uac1c: 1', '\ubc1c\ud45c: 2', '\ubaa8\uc9d1\uc694\uac15: 1', '\ucde8\uc5c5\uac8c\uc2dc\ud310: 1', '\uc2e0\uc785: 1', '\uc778\ub825: 1', '\ub18d\uad6c: 1', '\uacfc: 2', '\uc54c\ub730\ud3f0: 1', '\ud574\uc1245\uc138\ub300: 1', '\uc218: 5', '17\uc77c: 1', '20140616: 1', '\uac15\uc758\uc790\ub8cc\uc2e4: 1', '\ub300\ud559\uc6d0\uc0dd: 1', '20140327: 1', '\uc878\uc5c5\uc791\ud488: 6', '\uc8fc\uc5e0\ud504\ub860\ud2f0\uc5b4: 1', '\uc878\uc5c5: 8', '\uc804\ud654\ubc88\ud638: 1', '2015\ub144: 1', '\ub3d9\ubb38\uac8c\uc2dc\ud310: 1', '\uae40\uc7ac\uc6b0\ucc98\uc7a5: 1', '\ub514\uc9c0\ud138: 1', '\ucd5c\uc885\uacb0\uacfc: 1', '20131007: 1', '20140806: 1', '\u2018\uc131\ud07c\u2019: 1', '\ub300\uc0c1: 1', '\uad50\uc218\uc9c4: 1', '\uc2a4\ub9c8\ud2b8: 3', '\ud559\ubd80\uc0ac\uc9c4\uac94\ub7ec\ub9ac: 1', '\uc704\ud55c: 1', '\uc0c1\ubc18\uae30: 1', '\ud559\uc0dd\ud68c: 1', '\uc6b0\uccb4\uad6d: 1', '4\ub300: 1', 'C: 1', '\ud22c\ud45c: 1', '\uac1c\ucd5c: 1', '\ud3ec\uc2a4\ud130\ubc1c\ud45c\uacbd\uc9c4\ub300\ud68c: 1', '\uad6c: 4', '\uc0bc\uc131: 1', '\uc120\uc815: 1', '\uc0ac\uc9c4\uac8c\uc2dc\ud310: 1', '\uacf5\ud559\uc778\uc99d\uc548\ub0b4: 1', '\ucef4\ud4e8\ud130SW: 1', '\ud559\uc0dd\ub4e4\uc744: 1', '\uad50\uc721\ubaa9\ud45c: 1', '20120909: 1', '\uc778: 6', '\ucde8\uc5c5\uc870\uc0ac2013: 1', '\ubd88\ucd9c\uacf5\uc9c0\uc785\ub2c8\ub2e4: 1', '\ucde8\uc5c5\uc870\uc0ac2014: 1', 'Tmoney\ud55a\uad6d\uc2a4\ub9c8\ud2b8\uce74\ub4dc: 1', '20141001: 2', '20141006: 2', '20141007: 1', '20141004: 1', '\uc138\ub9bc\ud2f0\ub124\uc2a4\uc9c0\uc8fc: 1', '\ucef4\ud4e8\ud130: 11', '\ud558\ubc18\uae30: 1', '\uc6b4\uc601\uac1c\ubc1c: 1', '\ucc3e\uc544\uc624\uc2dc\ub294\uae38: 1', '20121105: 1', '\ub17c\uc7c1\uac70\ub9ac: 1', '\ub300\ubd80\uad11\uace0\uc5d0: 1', '\uc7a5\ud559\uc81c\ub3c4: 1', '\ud648\ud398\uc774\uc9c0: 1', '\ud1b5\uc2e0: 1', '2014\ub144: 5', '\ub9c8\uac10: 1', '\uccad\ub144\uc778\ud134: 1', '\uc7a0\ubc14: 1', '\uc77c\ubcf8\uae30\uc220\ud0d0\ubc29: 1', '\uc804\uc2dc\ud68c: 1', '\uc4f0\uc778: 1', '2: 44', '\ud559\ud68c\uc7a5\ubd80\ud559: 1', '20141015: 6', '20141014: 2', '20141010: 1', '20141013: 1', '\uc124\uacc41: 1', '\ud154\ucf54\uc6e8\uc5b4\uc8fc: 1', '\uc790\uc720\uac8c\uc2dc\ud310: 1', '20131210: 1', '\ub420: 1', '\uacf5\uace0: 1', '\uc548\ub0b4: 3', '\ub300\ud559\uc6d0\uc18c\uac1c: 1', '\uacbd\uc9c4\ub300\ud68c: 3', '10: 21', '20140915: 1', '\uc120: 2', '\uc18c\ud504\ud2b8\uc6e8\uc5b4: 2', '12\uc77c: 1', '\ubbf8\ub514\uc5b4: 2', '\uc2dc\uc2a4\ud15c: 3', '\ucef4\ud4e8\ud130HW: 1', '\uc11c\uc2dd\ubc0f\uc591\uc2dd\uc790\ub8cc\uc2e4: 1', '\ud64d\uc9c4\ud45c: 1', '\ucef4\ud4e8\ud130\uacf5\ud559\ubd80: 6', '\uc2e4\uc2b5\uc870\uad50: 1', '\ud3ec\uc0c1\uacbd\uc9c4\ub300\ud68c: 1', '\ud2b9\uc131\ud654\uc0ac\uc5c5\ub2e8: 1', '\uc0b0\uc5c5: 1', '20140923: 1', '\ucd94\uac00: 1', '\ub300\ud559\uc6d0\uac8c\uc2dc\ud310: 1', '20140925: 1', '\uc7ac\uacf5\uc9c0: 1', '\uc81c: 2', '\ud3ec: 3', '\uc77c\ubc18\uc790\ub8cc\uc2e4: 1', '\ud559\ubd80\uc0ac\ubb34\uc2e4: 1', '\uc0c1\uc6a9\ud654: 1', '\uacf5\ud559\uc778\uc99d\uac8c\uc2dc\ud310: 1', '\uc775\uba85\uac8c\uc2dc\ud310: 1', '\ube0c\ub85c\uc154: 1', '\uc878\uc5c5\uc774\uc218\uc694\uac74: 1', '\uacf5\ud559\uc124\uacc4: 2', '20140930: 1', '\ucef4\ud4e8\ud130\uc2a4\ub9c8\ud2b8IT: 1', '\uace0\uc7a5\uc2e0\uace0\uac8c\uc2dc\ud310: 1', '\uae30\uc790\uc218\ucca9700\u3392: 1', '\ucc44\uc6a9: 1', '\uc774: 3', '\uac1c\ubc1c\ubcf4\uc548: 1', '\ubd88\ubc95: 1', '\uc2a4\uc2b9: 1', '\uad50\uc218\ub2d8\uc758: 1', '\ud639\uc2dc: 1', }\n"
       ]
      }
     ],
     "prompt_number": 3
    },
    {
     "cell_type": "markdown",
     "metadata": {},
     "source": [
      "1) \uc694\uad6c\uc0ac\ud56d 1. \uc21c\uc218 \ud14d\uc2a4\ud2b8 \uc548\uc5d0 \uc874\uc7ac\ud558\ub294 \ub2e8\uc5b4\ub4e4\uc5d0 \ub300\ud574 string \ubaa8\ub4c8\uc744 \ud65c\uc6a9\ud558\uc5ec \ubaa8\ub4e0 punctuation (\uad6c\ub450\ubb38\uc790)\ub97c \uc644\ubcbd\ud788 \uc81c\uac70\ud558\uc2dc\uc624.\n",
      "\n",
      "\uc6b0\uc120 \uae30\ubcf8\uc801\uc73c\ub85c \uad50\uc218\ub2d8\uc774 \uc800\ubc88\uc5d0 \uc62c\ub824\uc8fc\uc2e0 \uc18c\uc2a4\ub97c \uc0ac\uc6a9\ud558\uc600\ub2e4. \n",
      "\n",
      "\uc5ec\uae30\uc5d0 string \uc744 import\ud558\uace0 k = string.punctuation\ub97c \uc774\uc6a9\ud558\uc5ec \uad6c\ub450\ubb38\uc790\ub97c \uad6c\ubd84\ud55c\ub2e4.\n",
      "\n",
      "- \uc704\uc5d0 \ubcf4\uba74 \uc9c0\uc6cc\uc9c0\uc9c0 \uc54a\ub294 \ud2b9\uc218\ubb38\uc790\ub4e4\uc774 \uc788\ub294\ub370 \uc774\uac74 k\uc5d0 \ud3ec\ud568\ub418\uc9c0 \uc54a\ub294 \uad6c\ub450\ubb38\uc790\uc774\ub2e4. \uc774 k\ub97c \ub9ac\uc2a4\ud2b8\ud654\ud558\uc5ec k.append()\ub97c \uc774\uc6a9\ud558\uc5ec\n",
      "\n",
      "- \ucef4\uacf5\ud648\ud398\uc774\uc9c0\uc5d0 \uc788\ub294 \ub2e4\ub978 \ud2b9\uc218\ubb38\uc790\ub4e4\uc744 \ucd94\uac00\ud55c \ud6c4 \uc2e4\ud589\uc744 \uc2dc\ucf1c\ubcf4\uc558\ub294\ub370, \uae00\uc790\uac00 \uae68\uc9c4 \uc0c1\ud0dc\ub85c \ucd9c\ub825\ub418\uae38\ub798 \uae30\uc874\uc758 k\uc5d0\ub9cc \uc788\ub294 \uad6c\ub450\ubb38\uc790\ub9cc \uc81c\uac70\ud558\uc600\ub2e4.\n",
      "\n",
      "2) \uc694\uad6c\uc0ac\ud56d 2. \uc0ac\uc804 \ud615\uc2dd\uc73c\ub85c \ucd9c\ub825\n",
      "\n",
      "new_src = sourse.translate(None, k)\ub97c \uc774\uc6a9\ud558\uc5ec new_src\uc5d0 source\uc5d0\uc11c \uad6c\ub450\ubb38\uc790\ub97c \uc81c\uac70\ud55c \ub0b4\uc6a9\uc744 \uc800\uc7a5\ud55c\ub2e4.\n",
      "\n",
      "dictList = new_src.split() \ucc98\ub7fc dictList\ub97c \uc120\uc5b8\ud558\uace0 \uc5ec\uae30\uc5d0 new_src\ub97c \uacf5\ubc31\uc73c\ub85c \ubd84\ub9ac\ub41c \ub9ac\uc2a4\ud2b8\ud654\ud558\uc5ec \uc800\uc7a5\ud55c\ub2e4.\n",
      "\n",
      "tmp_list = []\ub97c \uc120\uc5b8\ud55c \ud6c4, \ubc18\ubcf5\ubb38\uc744 \uc774\uc6a9\ud558\uc5ec dictList[x]\uac00 tmp_list\uc5d0 \uc5c6\uc73c\uba74 tmp_list\uc5d0 append\ud55c\ub2e4. (\uc911\ubcf5\ub41c \ub2e8\uc5b4\ub97c \uc81c\uac70\ud55c \uacb0\uacfc\ub97c \uc5bb\ub294 \uacfc\uc815)\n",
      "\n",
      "values = []\ub97c \uc120\uc5b8\ud55c \ud6c4, values.append(new_src.count(tmp_list[x]))\ub97c \uc774\uc6a9\ud558\uc5ec new_src\uc5d0\uc11c tmp_list[x]\uac00 \uba87\ubc88 \uc0ac\uc6a9\ub418\uc5c8\ub294\uc9c0 \uacb0\uacfc\ub97c \uc800\uc7a5\ud55c\ub2e4.\n",
      "\n",
      "\uc5ec\uae30\uc11c tmp_list\ub294 \ud0a4\uac00 \ub418\uace0, values\ub294 \uac12\uc774 \ub41c\ub2e4. (\uc77c\ub2e8 \uac1c\ub150\uc740 \uadf8\ub807\uac8c \ub450\uc5c8\uace0..)\n",
      "\n",
      "dict(zip(keys, values))\ub97c \uc774\uc6a9\ud558\uc5ec \uacb0\uacfc\ub97c \ucd9c\ub825\ud558\uace0\uc790 \ud588\uc73c\ub098, \ud55c\uae00\uc774 \uae68\uc838\uc11c \ub098\uc624\ub294 \uad00\uacc4\ub85c for\ubb38\uc744 \uc774\uc6a9\ud558\uc5ec \uc0ac\uc804\ud615\uc2dd\uacfc \uc720\uc0ac\ud558\uac8c \ucd9c\ub825\ub418\ub3c4\ub85d \ud558\uc600\ub2e4.\n",
      "\n",
      "for x in range(len(tmp_list)) :\n",
      "    dic[tmp_list[x]] = values[x]\uc640\n",
      "    \n",
      "for key in dic.keys() :\n",
      "    print '\\'' + key + ':',\n",
      "    print str(dic[key]) + '\\'' + ',',\n",
      "\ub97c \uc774\uc6a9\ud558\uc5ec \ucd9c\ub825."
     ]
    },
    {
     "cell_type": "markdown",
     "metadata": {},
     "source": [
      " "
     ]
    },
    {
     "cell_type": "markdown",
     "metadata": {},
     "source": [
      "\ucc98\uc74c\uc5d0\ub294 \uc5c4\uccad \uc26c\uc6b4 \ubd80\ubd84\uc778\ub370\ub3c4 \ub9c9 \ubc84\ubc85\uac70\ub838\uc5c8\ub294\ub370 \uc9c0\uae08\uc740 \uc5b4\ub290\uc815\ub3c4 \ud30c\uc774\uc36c \ubb38\ubc95\uc5d0 \uc775\uc219\ud574\uc9c0\uace0 \uc788\ub294 \uac83 \uac19\ub2e4.\n",
      "\n",
      "\ub2e4\ub9cc \ub9ac\uc2a4\ud2b8 \ub0b4\ud3ec\uc758 \uacbd\uc6b0\uc5d0\ub294 \uc775\uc219\ud558\uc9c0 \uc54a\uc544\uc11c \uc778\uc9c0 \uc544\ubb34\ub9ac \ub72f\uc5b4\ubd10\ub3c4 \uc774\ud574\uac00 \uc798 \uc548\ub418\uc5c8\ub2e4. \uc77c\ubc18\uc801\uc778 for\ubb38\uc744 \ubcf4\uace0 \ubcf4\uba74 \uc774\ud574\uac00 \uac00\ub294\ub370,\n",
      "\n",
      "\ub9ac\uc2a4\ud2b8 \ub0b4\ud3ec\ub9cc \ub531 \ubd24\uc744 \uacbd\uc6b0\uc5d0\ub294 \ub3c4\ub300\uccb4 \uc774\uac8c \ubb54\uac00 \uc2f6\uae30\ub3c4 \ud558\uc600\ub2e4. \ub098\uc758 \uacbd\uc6b0\uc5d0\ub294 \uc77c\ubc18\uc801\uc778 for\ubb38\uc744 \uc0ac\uc6a9\ud558\ub294 \uac83\uc774 \uc9c1\uad00\uc801\uc73c\ub85c \uc774\ud574\ud558\uae30\uc5d0 \ub354 \uc88b\uc740 \uac83 \uac19\ub2e4. \n",
      "\n",
      "\uadf8\ub9ac\uace0 \ubb38\uc81c 1\ubc88\uc740 \uc194\uc9c1\ud788 \uc9c0\uae08\ub3c4 \uc774\ud574\uac00 \uc798 \uac00\uc9c0 \uc54a\ub294\ub2e4. \ub2e4\ub978 \ucd9c\ub825\uc758 \uacb0\uacfc\ubb3c\uc744 \ubcf4\uba74\uc11c \uadf8\ub0e5 \uc774\ub807\uaca0\uad6c\ub098 \ud558\uace0 \ub54c\ub824 \ub9de\ucd94\ub2e4\uc2dc\ud53c\ud558\uba70 \uc124\uba85\uc744 \uc801\uc5c8\ub294\ub370\n",
      "\n",
      "\uc774\uac83\uc774 \ub9de\ub294\uac74\uc9c0 \ud2c0\ub9b0\uac74\uc9c0 \uc798 \ubaa8\ub974\uaca0\ub2e4. \uacfc\uc81c\uac00 \ub108\ubb34 \ub9ce\uc544\uc11c (\ub2e4\ub978\uacfc\ubaa9 \ud3ec\ud568) \ub530\ub85c \ubcf5\uc2b5\uc744 \ub9ce\uc774 \ud558\uc9c0 \ubabb\ud588\ub294\ub370, \uc55e\uc73c\ub85c \uc2dc\uac04\uc744 \uc880 \ub354 \ub0b4\uc5b4 \uc55e\ubd80\ubd84\uc744 \ubcf5\uc2b5\ud558\uba74\uc11c\n",
      "\n",
      "\ubab0\ub790\ub358 \ubd80\ubd84\uc744 \ud655\uc2e4\ud788 \uc774\ud574\ud558\ub3c4\ub85d \ud574\uc57c\uaca0\ub2e4."
     ]
    }
   ],
   "metadata": {}
  }
 ]
}