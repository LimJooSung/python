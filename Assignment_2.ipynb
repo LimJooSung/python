{
 "metadata": {
  "name": "",
  "signature": "sha256:c2f284b65d5f3cead1854d53de14aca329319beb2d57f1f52250520ee0116b00"
 },
 "nbformat": 3,
 "nbformat_minor": 0,
 "worksheets": [
  {
   "cells": [
    {
     "cell_type": "markdown",
     "metadata": {},
     "source": [
      "#\ubb38\uc81c 1\n",
      "\n",
      "\ub2e4\uc74c 6\uac1c\uc758 Expression\uc5d0 \ub300\ud574 Evaluation \uacb0\uacfc \uac12\uc744 \ucd9c\ub825\ud558\uace0, \ud574\ub2f9 \uacb0\uacfc\uac00 \ub098\uc628 \uc774\uc720\uc5d0 \ub300\ud574 \uc124\uba85\ud558\uc2dc\uc624."
     ]
    },
    {
     "cell_type": "markdown",
     "metadata": {},
     "source": [
      "- 1 and 2 and 3 and 4"
     ]
    },
    {
     "cell_type": "code",
     "collapsed": false,
     "input": [
      "1 and 2 and 3 and 4"
     ],
     "language": "python",
     "metadata": {},
     "outputs": [
      {
       "metadata": {},
       "output_type": "pyout",
       "prompt_number": 1,
       "text": [
        "4"
       ]
      }
     ],
     "prompt_number": 1
    },
    {
     "cell_type": "markdown",
     "metadata": {},
     "source": [
      "'and'\uc640 'or'\uac00 \ud3ec\ud568\ub41c \ub17c\ub9ac\uc2dd\uc740 \uc2dd\uc758 \uacb0\uacfc \uac12\uc744 \ud310\uc815\ud558\ub294 \ub370 \ucd5c\uc885\uc801\uc73c\ub85c \uae30\uc5ec\ud55c \uac1d\uccb4\uc758 \uac12\uc744 \uc2dd\uc758 \uac12\uc73c\ub85c \ub9ac\ud134\ud55c\ub2e4.\n",
      "\n",
      "'None', '0', '0.0', '0L', '0.0+0.0j', '\"\"', '[]', '()', '{}'\ub294 \uac70\uc9d3\uc73c\ub85c \uac04\uc8fc\ub418\uace0 \ub098\uba38\uc9c0 \uac12\ub4e4\uc740 \ucc38\uc73c\ub85c \uac04\uc8fc\ub41c\ub2e4.\n",
      "\n",
      "\uac00\uc7a5 \ucc98\uc74c\uc5d0 '1', \uadf8 \ub4a4\uc5d0 'and'\uac00 \uc624\ubbc0\ub85c \ub4a4\uc5d0 \uac12\uc744 \ud655\uc778\ud574\uc57c\ud55c\ub2e4. '2'\uc5ed\uc2dc \ucc38\uc774\uace0 \ub4a4\uc5d0 'and'\uac00 \uc624\ubbc0\ub85c \ub4a4\uc5d0 \uac12\uc778 '3'\uc744 \ud655\uc778\ud55c\ub2e4.\n",
      "\n",
      "'3'\uc740 \ucc38\uc774\uace0 \ub4a4\uc5d0 'and', \ub05d\uc73c\ub85c '4'\ub97c \ud655\uc778\ud558\uace0 \ub098\uc11c\uc57c \ub17c\ub9ac\uc2dd\uc758 \uacb0\uacfc\uac12\uc744 \ud310\uc815\uac00\ub2a5\ud558\uac8c \ub41c\ub2e4. \ub530\ub77c\uc11c \ucd5c\uc885\uc801\uc73c\ub85c \uae30\uc5ec\ud55c '4'\ub97c \ub9ac\ud134\ud55c\ub2e4."
     ]
    },
    {
     "cell_type": "markdown",
     "metadata": {},
     "source": [
      "  "
     ]
    },
    {
     "cell_type": "markdown",
     "metadata": {},
     "source": [
      "- 1 or 2 or 3 or 4"
     ]
    },
    {
     "cell_type": "code",
     "collapsed": false,
     "input": [
      "1 or 2 or 3 or 4"
     ],
     "language": "python",
     "metadata": {},
     "outputs": [
      {
       "metadata": {},
       "output_type": "pyout",
       "prompt_number": 2,
       "text": [
        "1"
       ]
      }
     ],
     "prompt_number": 2
    },
    {
     "cell_type": "markdown",
     "metadata": {},
     "source": [
      "\uac00\uc7a5 \ucc98\uc74c\uc5d0 \ub098\uc628 '1'\uc758 \uac12\uc774 \ucc38\uc774\uace0 \ub4a4\uc5d0 'or'\uac00 \uc654\uc73c\ubbc0\ub85c \ub4a4\ub97c \ud655\uc778\ud560 \ud544\uc694 \uc5c6\uc774 \ub17c\ub9ac\uc2dd\uc758 \uacb0\uacfc\uac12\uc740 \ucc38\uc774\ub41c\ub2e4. \ub530\ub77c\uc11c \ucd5c\uc885\uc801\uc73c\ub85c \uae30\uc5ec\ud55c '1'\uc744 \ub9ac\ud134\ud55c\ub2e4."
     ]
    },
    {
     "cell_type": "markdown",
     "metadata": {},
     "source": [
      " "
     ]
    },
    {
     "cell_type": "markdown",
     "metadata": {},
     "source": [
      "- 1 and 2 or 3 and 4"
     ]
    },
    {
     "cell_type": "code",
     "collapsed": false,
     "input": [
      "1 and 2 or 3 and 4"
     ],
     "language": "python",
     "metadata": {},
     "outputs": [
      {
       "metadata": {},
       "output_type": "pyout",
       "prompt_number": 3,
       "text": [
        "2"
       ]
      }
     ],
     "prompt_number": 3
    },
    {
     "cell_type": "markdown",
     "metadata": {},
     "source": [
      "\uac00\uc7a5 \ucc98\uc74c\uc5d0 \ub098\uc628 '1'\uc758 \uac12\uc774 \ucc38\uc774\uace0 \ub4a4\uc5d0 'and'\uac00 \uc654\uc73c\ubbc0\ub85c \ub4a4\uc5d0 \uac12\uc744 \ud655\uc778\ud574\uc57c\ud55c\ub2e4. '2'\ub294 \ucc38\uc774\uace0 \ub4a4\uc5d0 or\uac00 \uc654\uc73c\ubbc0\ub85c \ub4a4\ub97c \ud655\uc778\ud560 \ud544\uc694 \uc5c6\uc774\n",
      "\n",
      "\uc774 \ub17c\ub9ac\uc2dd\uc758 \uacb0\uacfc \uac12\uc740\ucc38\uc774 \ub41c\ub2e4. \ub530\ub77c\uc11c \ucd5c\uc885\uc801\uc73c\ub85c \uae30\uc5ec\ud55c '2'\ub97c \ub9ac\ud134\ud55c\ub2e4."
     ]
    },
    {
     "cell_type": "markdown",
     "metadata": {},
     "source": [
      " "
     ]
    },
    {
     "cell_type": "markdown",
     "metadata": {},
     "source": [
      "- (1 and 2) or (3 and 4)"
     ]
    },
    {
     "cell_type": "code",
     "collapsed": false,
     "input": [
      "(1 and 2) or (3 and 4)"
     ],
     "language": "python",
     "metadata": {},
     "outputs": [
      {
       "metadata": {},
       "output_type": "pyout",
       "prompt_number": 1,
       "text": [
        "2"
       ]
      }
     ],
     "prompt_number": 1
    },
    {
     "cell_type": "markdown",
     "metadata": {},
     "source": [
      "\uad04\ud638\uac00 \uc788\uc73c\ubbc0\ub85c (1 and 2) -> (3 and 4) \uc21c\uc73c\ub85c \ud574\uc11d\ud574\uc57c\ud55c\ub2e4. (1 and 2)\uc758 \uacbd\uc6b0 '1'\uc774 \ucc38, \ub4a4\uc5d0 'and'\uac00 \ub098\uc654\uc73c\ubbc0\ub85c '2'\ub97c \ud655\uc778\ud55c\ub2e4. \n",
      "\n",
      "(1 and 2)\uc758 \uacb0\uacfc\uac12\uc774 \ucc38\uc774\uace0 \ub4a4\uc5d0 'or'\uac00 \uc624\ubbc0\ub85c \ub4a4\ub97c \ud655\uc778\ud560 \ud544\uc694\uac00 \uc5c6\ub2e4. \ub530\ub77c\uc11c \ucd5c\uc885\uc801\uc73c\ub85c \uae30\uc5ec\ud55c '2'\ub97c \ub9ac\ud134\ud55c\ub2e4."
     ]
    },
    {
     "cell_type": "markdown",
     "metadata": {},
     "source": [
      " "
     ]
    },
    {
     "cell_type": "markdown",
     "metadata": {},
     "source": [
      "- 1 or 2 and 3 or 4 "
     ]
    },
    {
     "cell_type": "code",
     "collapsed": false,
     "input": [
      "1 or 2 and 3 or 4"
     ],
     "language": "python",
     "metadata": {},
     "outputs": [
      {
       "metadata": {},
       "output_type": "pyout",
       "prompt_number": 2,
       "text": [
        "1"
       ]
      }
     ],
     "prompt_number": 2
    },
    {
     "cell_type": "markdown",
     "metadata": {},
     "source": [
      "'1'\uc758 \uac12\uc740 \ucc38, \ub4a4\uc5d0 'or'\uac00 \uc624\ubbc0\ub85c \ub4a4\ub97c \ud655\uc778\ud560 \ud544\uc694 \uc5c6\uc774 \ub17c\ub9ac\uc2dd\uc740 \ucc38\uc774\ub41c\ub2e4. \ub530\ub77c\uc11c \ucd5c\uc885\uc801\uc73c\ub85c \uae30\uc5ec\ud55c '1'\uc744 \ub9ac\ud134\ud55c\ub2e4."
     ]
    },
    {
     "cell_type": "markdown",
     "metadata": {},
     "source": [
      " "
     ]
    },
    {
     "cell_type": "markdown",
     "metadata": {},
     "source": [
      "- (1 or 2) and (3 or 4)"
     ]
    },
    {
     "cell_type": "code",
     "collapsed": false,
     "input": [
      "(1 or 2) and (3 or 4)"
     ],
     "language": "python",
     "metadata": {},
     "outputs": [
      {
       "metadata": {},
       "output_type": "pyout",
       "prompt_number": 3,
       "text": [
        "3"
       ]
      }
     ],
     "prompt_number": 3
    },
    {
     "cell_type": "markdown",
     "metadata": {},
     "source": [
      "\uad04\ud638\uac00 \uc788\uc73c\ubbc0\ub85c (1 or 2) -> and -> (3 or 4) \uc21c\uc73c\ub85c \ud574\uc11d\ud574\uc57c \ud55c\ub2e4. (1 or 2)\uc758 \uacbd\uc6b0 '1'\uc774 \ucc38, \ub4a4\uc5d0 'or'\uac00 \ub098\uc654\uc73c\ubbc0\ub85c '2'\ub97c \ud655\uc778\ud560 \ud544\uc694\uc5c6\uc774 \ucc38\uc774\ub2e4.\n",
      "\n",
      "(1 or 2) \ub4a4\uc5d0 'and'\uac00 \uc624\ubbc0\ub85c (3 or 4)\uc758 \uacb0\uacfc\uac12\uc774 \ud544\uc694\ud558\ub2e4. (3 or 4)\uc5d0\uc11c '3'\uc774 \ucc38, \ub4a4\uc5d0 'or'\uac00 \ub098\uc654\uc73c\ubbc0\ub85c '4'\ub97c \ud655\uc778\ud560 \ud544\uc694\uc5c6\uc774 \ucc38\uc774\ub2e4.\n",
      "\n",
      "\ub530\ub77c\uc11c 1 and 3\uc758 \uaf34\uc774 \ub418\uba70, \uc774\ub294 '1'\uc774 \ucc38, \ub4a4\uc5d0 'and'\uac00 \uc624\ubbc0\ub85c '3'\uc744 \ud655\uc778\ud574\uc57c\ud55c\ub2e4. '3'\uc744 \ud655\uc778\ud55c \ud6c4 \uacb0\uacfc\uac12\uc740 \ucc38\uc774\ub418\uba70, \ucd5c\uc885\uc801\uc73c\ub85c \uae30\uc5ec\ud55c '3'\uc744 \ub9ac\ud134\ud55c\ub2e4."
     ]
    },
    {
     "cell_type": "markdown",
     "metadata": {},
     "source": [
      " "
     ]
    },
    {
     "cell_type": "markdown",
     "metadata": {},
     "source": [
      "# \ubb38\uc81c 2\n",
      "\n",
      "7/5, -7/5, -(7/5)\uc758 \uacb0\uacfc\ub97c \ud655\uc778\ud558\uace0 \uac01\uac01\uc774 \uacb0\uacfc\uac00 \uc65c \uadf8\ub807\uac8c \ub098\uc624\ub294\uc9c0 \uc124\uba85\ud558\uc2dc\uc624."
     ]
    },
    {
     "cell_type": "markdown",
     "metadata": {},
     "source": [
      "- 7 / 5"
     ]
    },
    {
     "cell_type": "code",
     "collapsed": false,
     "input": [
      "7 / 5"
     ],
     "language": "python",
     "metadata": {},
     "outputs": [
      {
       "metadata": {},
       "output_type": "pyout",
       "prompt_number": 4,
       "text": [
        "1"
       ]
      }
     ],
     "prompt_number": 4
    },
    {
     "cell_type": "markdown",
     "metadata": {},
     "source": [
      "'/'\ub294 \uc2dd\uc758 \ubaab\uc758 \uac12\uc744 \ubc18\ud658\ud55c\ub2e4. 7\uc744 5\ub85c \ub098\ub204\uba74 \ubaab\uc774 1, \ub098\uba38\uc9c0\uac00 2\uc774\ubbc0\ub85c \ubaab\uc758 \uac12\uc778 1\uc744 \ub9ac\ud134\ud55c\ub2e4.\n",
      "\n",
      "\uc81c\uc218\uac00 5\uc778 \uacbd\uc6b0 \ub098\uba38\uc9c0\ub294 0 ~ 4\ub9cc \uac00\ub2a5\ud558\ub2e4."
     ]
    },
    {
     "cell_type": "markdown",
     "metadata": {},
     "source": [
      " "
     ]
    },
    {
     "cell_type": "markdown",
     "metadata": {},
     "source": [
      "- -7 / 5"
     ]
    },
    {
     "cell_type": "code",
     "collapsed": false,
     "input": [
      "-7 / 5"
     ],
     "language": "python",
     "metadata": {},
     "outputs": [
      {
       "metadata": {},
       "output_type": "pyout",
       "prompt_number": 5,
       "text": [
        "-2"
       ]
      }
     ],
     "prompt_number": 5
    },
    {
     "cell_type": "markdown",
     "metadata": {},
     "source": [
      "-7\uc744 5\ub85c \ub098\ub204\uba74 \ubaab\uc774 -2, \ub098\uba38\uc9c0\uac00 3\uc774\ubbc0\ub85c \ubaab\uc758 \uac12\uc778 -2\ub97c \ub9ac\ud134\ud55c\ub2e4."
     ]
    },
    {
     "cell_type": "markdown",
     "metadata": {},
     "source": [
      " "
     ]
    },
    {
     "cell_type": "markdown",
     "metadata": {},
     "source": [
      "- -(7 / 5)"
     ]
    },
    {
     "cell_type": "code",
     "collapsed": false,
     "input": [
      "-(7 / 5)"
     ],
     "language": "python",
     "metadata": {},
     "outputs": [
      {
       "metadata": {},
       "output_type": "pyout",
       "prompt_number": 6,
       "text": [
        "-1"
       ]
      }
     ],
     "prompt_number": 6
    },
    {
     "cell_type": "markdown",
     "metadata": {},
     "source": [
      "\uad04\ud638\uac00 \uc788\uc73c\ubbc0\ub85c (7 / 5)\ub97c \uba3c\uc800 \ucc98\ub9ac\ud55c \ud6c4 \uc55e\uc5d0 -\uac00 \ubd99\ub294\ub2e4. \ub530\ub77c\uc11c 7 / 5\uc758 \ub9ac\ud134\uac12\uc778 1\uc5d0 -\uac00 \ubd99\uc740 -1\uc744 \ub9ac\ud134\ud55c\ub2e4."
     ]
    },
    {
     "cell_type": "markdown",
     "metadata": {},
     "source": [
      " "
     ]
    },
    {
     "cell_type": "markdown",
     "metadata": {},
     "source": [
      "# \ubb38\uc81c 3\n",
      "\n",
      "\ud0a4\ubcf4\ub4dc\ub85c \uc815\uc218\uac12\uc744 \uc785\ub825 \ubc1b\uace0 \uadf8 \uac12\uc774 \uc591\uc218\uc778\uc9c0 \uc74c\uc218\uc778\uc9c0\ub97c \ube44\ud2b8 \uc5f0\uc0b0\uc790\ub97c \uc774\uc6a9\ud558\uc5ec \ud310\ub2e8\ud558\ub294 \ud504\ub85c\uadf8\ub7a8\uc744 \uc791\uc131\ud558\uc2dc\uc624."
     ]
    },
    {
     "cell_type": "code",
     "collapsed": false,
     "input": [
      "num = input('int : ')\n",
      "\n",
      "if (~num > 0) :\n",
      "    print 'negative number'\n",
      "elif (~num == -1) :\n",
      "    print '0'\n",
      "else :\n",
      "    print 'positive number'"
     ],
     "language": "python",
     "metadata": {},
     "outputs": [
      {
       "name": "stdout",
       "output_type": "stream",
       "stream": "stdout",
       "text": [
        "int : 50\n"
       ]
      },
      {
       "output_type": "stream",
       "stream": "stdout",
       "text": [
        "positive number\n"
       ]
      }
     ],
     "prompt_number": 7
    },
    {
     "cell_type": "markdown",
     "metadata": {},
     "source": [
      "num = input('int : ')\ub97c \ud1b5\ud574 \uc815\uc218\ub97c \uc785\ub825\ubc1b\ub294\ub2e4.\n",
      "\n",
      "\uc870\uac74\ubb38\uacfc \ube44\ud2b8\uc5f0\uc0b0\uc790 '~'\ub97c \uc774\uc6a9\ud558\uc5ec 1\uc758\ubcf4\uc218\ub85c \ubc18\uc804\uc2dc\ud0a8\ub2e4. (\ucd5c\uc0c1\uc704\ube44\ud2b8\uac00 \ubc14\ub00c\ubbc0\ub85c \ubd80\ud638\uac00 \ubc14\ub00c\uac8c \ub41c\ub2e4.)\n",
      "\n",
      "\uc785\ub825\ud55c num\uc744 \ubc18\uc804\uc2dc\ud0a8 \uac12\uc774 0\ubcf4\ub2e4 \ud06c\uba74 negative number(\uc74c\uc758\uc815\uc218)\uc774\uace0 0\ubcf4\ub2e4 \uc791\uc73c\uba74 positive number(\uc591\uc758\uc815\uc218)\uac00 \ub41c\ub2e4.\n",
      "\n",
      "\uc591\uc758\uc815\uc218\ub3c4 \uc74c\uc758\uc815\uc218\ub3c4 \uc544\ub2cc 0\uc758 \uacbd\uc6b0\ub294 ~num\uc774 -1\uc778 \uacbd\uc6b0\uc774\ubbc0\ub85c \ub530\ub85c \ucc98\ub9ac\ud574\uc900\ub2e4."
     ]
    },
    {
     "cell_type": "markdown",
     "metadata": {},
     "source": [
      " "
     ]
    },
    {
     "cell_type": "markdown",
     "metadata": {},
     "source": [
      "# \ubb38\uc81c 4\n",
      "\n",
      "\ub450 \uac1c\uc758 \ub9ac\uc2a4\ud2b8\ub97c \uc778\uc790\ub85c \ubc1b\uc544\uc11c \uadf8 \ub450\uac1c\uc758 \ub9ac\uc2a4\ud2b8\uc5d0 \ub300\ud55c '\ud569\uc9d1\ud569'\uc744 \ubc18\ud658\ud558\ub294 \ud568\uc218 list_union(lista, listb)\ub97c \uc791\uc131\ud558\uc2dc\uc624."
     ]
    },
    {
     "cell_type": "code",
     "collapsed": false,
     "input": [
      "def list_union(lista = [1, 2, 3], listb = [4, 5, 6]) :\n",
      "    union = []\n",
      "    a_len = len(lista)\n",
      "    b_len = len(listb)\n",
      "    for x in range(a_len) :\n",
      "        if (lista[x] in union) :\n",
      "            continue\n",
      "        else :\n",
      "            union.append(lista[x])\n",
      "    for x in range(b_len) :\n",
      "        if (listb[x] in union) :\n",
      "            continue\n",
      "        else :\n",
      "            union.append(listb[x])\n",
      "    union.sort()\n",
      "    print union\n",
      "    \n",
      "list_union()\n",
      "list_union([-1, -3, 1, 1, 2], [-3, -1, 1, 3, 5])"
     ],
     "language": "python",
     "metadata": {},
     "outputs": [
      {
       "output_type": "stream",
       "stream": "stdout",
       "text": [
        "[1, 2, 3, 4, 5, 6]\n",
        "[-3, -1, 1, 2, 3, 5]\n"
       ]
      }
     ],
     "prompt_number": 8
    },
    {
     "cell_type": "markdown",
     "metadata": {},
     "source": [
      "def list_union(lista = [1, 2, 3], listb = [4, 5, 6]) : \ub97c \uc774\uc6a9\ud558\uc5ec list_union \ud568\uc218\ub97c \uc815\uc758\ud55c\ub2e4. (lista = [1, 2, 3], listb = [4, 5, 6]\uc740 \ub514\ud3f4\ud2b8\uac12)\n",
      "\n",
      "\ub450 \ub9ac\uc2a4\ud2b8\uc758 \ud569\uc744 \uc800\uc7a5\ud560 \ube48 \ub9ac\uc2a4\ud2b8 union\uc744 \uc0dd\uc131\ud55c\ub2e4.\n",
      "\n",
      "lista\uc758 \uae38\uc774 a_len\uacfc listb\uc758 \uae38\uc774 b_len\uc744 \uad6c\ud55c \ud6c4, \ubc18\ubcf5\ubb38\uacfc \uc870\uac74\ubb38\uc744 \uc801\uc808\ud788 \uc774\uc6a9\ud558\uc5ec union\uc5d0 \uac12\uc744 append\ud55c\ub2e4.\n",
      "\n",
      "union\uc5d0 \uc788\ub294 \uac12\uacfc lista\uc640 listb\uc5d0 \uc788\ub294 \uc6d0\uc18c\ub4e4\uc758 \uac12\uc744 \uac01\uac01 \ube44\uad50\ud558\uc5ec, union\uc5d0 \uc5c6\uc73c\uba74 union \ub9ac\uc2a4\ud2b8\uc5d0 \uac12\uc744 append\ud55c\ub2e4.\n",
      "\n",
      "union.sort()\ub97c \uc774\uc6a9\ud558\uc5ec union\uc5d0 \uc800\uc7a5\ub41c \uac12\uc744 \uc624\ub984\ucc28\uc21c\uc73c\ub85c \uc815\ub82c\ud55c\ub2e4."
     ]
    },
    {
     "cell_type": "markdown",
     "metadata": {},
     "source": [
      " "
     ]
    },
    {
     "cell_type": "markdown",
     "metadata": {},
     "source": [
      "# \ubb38\uc81c 5\n",
      "\n",
      "\uacbd\ub85c\uc5d0 \ud574\ub2f9\ud558\ub294 \ubb38\uc790\uc5f4 1\uac1c\ub97c \uc785\ub825 \ubc1b\uc544 \uadf8 \uc548\uc5d0 \ub514\ub809\ud1a0\ub9ac \uacbd\ub85c\uba85\uacfc \ud30c\uc77c\uba85\uc744 \ubd84\ub9ac\ud558\uc5ec \ub9ac\uc2a4\ud2b8\ub85c \ubc18\ud658\ud558\ub294 \ud568\uc218 div_path(s)\ub97c \uc791\uc131\ud558\uc2dc\uc624."
     ]
    },
    {
     "cell_type": "code",
     "collapsed": false,
     "input": [
      "def div_path(s = '/usr/local/bin/python') :\n",
      "    print s.rsplit('/', 1)\n",
      "    \n",
      "div_path('/home/joosung/python/test.py')"
     ],
     "language": "python",
     "metadata": {},
     "outputs": [
      {
       "output_type": "stream",
       "stream": "stdout",
       "text": [
        "['/usr/local/bin', 'python']\n",
        "['/home/joosung/python', 'test.py']\n"
       ]
      }
     ],
     "prompt_number": 3
    },
    {
     "cell_type": "markdown",
     "metadata": {},
     "source": [
      "def div_path() : \ub97c \uc774\uc6a9\ud558\uc5ec \ud568\uc218\ub97c \uc815\uc758\ud55c\ub2e4. \n",
      "\n",
      "\ub9e4\uac1c\ubcc0\uc218\ub85c \uc804\ub2ec\ub418\ub294 \ubb38\uc790\uc5f4 s\uc758 \ub514\ud3f4\ud2b8\uac12\uc73c\ub85c '/usr/local/bin/python'\uc744 \uc124\uc815\ud55c\ub2e4.\n",
      "\n",
      "print rsplit('/', 1)\uc744 \uc774\uc6a9\ud558\uc5ec, \uc624\ub978\ucabd\uc73c\ub85c\ubd80\ud130 \ud55c\ubc88\ub9cc \ubd84\ub9ac\ud558\uc5ec \uc5bb\uc740 \uac01 \uc6d0\uc18c\ub4e4\uc744 \ub9ac\uc2a4\ud2b8\uc5d0 \ub123\uc5b4\uc11c \ubc18\ud658\ud55c\ub2e4. \n",
      "\n",
      "\ub530\ub77c\uc11c \ub9ac\uc2a4\ud2b8\uc758 \uccab\ubc88\uc9f8 \uc6d0\uc18c\uc5d0\ub294 \ub514\ub809\ud1a0\ub9ac\uac00, \ub450\ubc88\uc9f8 \uc6d0\uc18c\uc5d0\ub294 \ud30c\uc77c\uba85\uc774 \uc800\uc7a5\ub418\uace0, \ub9c8\uc9c0\ub9c9\uc73c\ub85c \ub9ac\uc2a4\ud2b8\ub97c \ucd9c\ub825\ud55c\ub2e4."
     ]
    },
    {
     "cell_type": "markdown",
     "metadata": {},
     "source": [
      " "
     ]
    },
    {
     "cell_type": "markdown",
     "metadata": {},
     "source": [
      "# \ubb38\uc81c 6\n",
      "\n",
      "\uc6f9 URL\ub85c \uc9c0\uc815\ub41c \uc6f9\ud398\uc774\uc9c0\ub97c \ubb38\uc790\uc5f4\ub85c \uac00\uc838\uc640 1) \ubaa8\ub4e0 HTML \ud0dc\uadf8 \ubc0f CSS\uc640 Javascript\ub97c \uc81c\uc678\ud55c \uc21c\uc218 \ud14d\uc2a4\ud2b8\ub9cc\uc744 \ucd9c\ub825\ud558\uace0, 2) \uadf8 \uc21c\uc218 \ud14d\uc2a4\ud2b8 \uc548\uc5d0 \uc874\uc7ac\ud558\ub294 \ub2e8\uc5b4\uac00 \ucd1d \uba87\uac1c\uc778\uc9c0 \ucd9c\ub825\ud558\ub294 \ud504\ub85c\uadf8\ub7a8\uc744 \uc791\uc131\ud558\uc2dc\uc624."
     ]
    },
    {
     "cell_type": "code",
     "collapsed": false,
     "input": [
      "import urllib\n",
      "\n",
      "s = urllib.urlopen('http://www.envid.com/').read()\n",
      "extract_text = \"\"\n",
      "\n",
      "for x in range(len(s)) :\n",
      "    if (s.find('<style') == 0) :\n",
      "        s = s[s.find('</style>') + 8 :]\n",
      "    elif (s.find('<STYLE') == 0) :\n",
      "        s = s[s.find('</STYLE>') + 8 :]\n",
      "    elif (s.find('<script') == 0) :\n",
      "        s = s[s.find('</script>') + 9 :]\n",
      "    elif (s.find('<SCRIPT') == 0) :\n",
      "        s = s[s.find('</SCRIPT>') + 9 :]\n",
      "    elif (s.find('<') == 0) :\n",
      "        s = s[s.find('>') + 1 :]\n",
      "    else :\n",
      "        extract_text = extract_text + s[ : s.find('<')]\n",
      "        s  = s[s.find('<') : ]\n",
      "\n",
      "wordList = extract_text.split()\n",
      "s = \" \".join(wordList)\n",
      "\n",
      "print s\n",
      "print len(wordList)"
     ],
     "language": "python",
     "metadata": {},
     "outputs": [
      {
       "output_type": "stream",
       "stream": "stdout",
       "text": [
        "envid.com - \ucd5c\uc0c1\uc758 en vid \ucd9c\ucc98\uc640 \uc815\ubcf4\ucc98. \uc774 \uc6f9\uc0ac\uc774\ud2b8\ub294 \ud310\ub9e4\uc6a9\uc785\ub2c8\ub2e4! envid.com \ucd94\ucc9c \ub9c1\ud06c\uc774 \ud398\uc774\uc9c0\ub294&nbsp;\uc138\ub3c4\uc758 \ub3c4\uba54\uc778 \ud30c\ud0b9\uc744 \ud1b5\ud574 \ubb34\ub8cc\ub85c \uc81c\uacf5\ub418\ub294 \ud398\uc774\uc9c0\uc785\ub2c8\ub2e4. Disclaimer: Domain owner and Sedo maintain no relationship with third party advertisers. Reference to any specific service or trade mark is not controlled by Sedo or domain owner and does not constitute or imply its association, endorsement or recommendation.\ub3c4\uba54\uc778 \uad6c\uc785\ub3c4\uba54\uc778 envid.com\uc744 \uad6c\uc785\ud558\uc2e4 \uc218 \uc788\uc2b5\ub2c8\ub2e4!\n",
        "64\n"
       ]
      }
     ],
     "prompt_number": 94
    },
    {
     "cell_type": "markdown",
     "metadata": {},
     "source": [
      "import urllib\ub97c \uc774\uc6a9\ud558\uc5ec '\ud2b9\uc815 \ud648\ud398\uc774\uc9c0'\ub85c\ubd80\ud130 \uc18c\uc2a4\ucf54\ub4dc\ub97c \uc77d\uc5b4\uc628\ub2e4.\n",
      "\n",
      "s\uc5d0 \uadf8 \uc18c\uc2a4\ucf54\ub4dc\ub97c \uc800\uc7a5\ud558\uace0, \ud14d\uc2a4\ud2b8\ub97c \ucd94\ucd9c\ud558\uc5ec \uc800\uc7a5\ud560 \ube48 \ubb38\uc790\uc5f4 extract_text\ub97c \uc0dd\uc131\ud55c\ub2e4.\n",
      "\n",
      "\ubb38\uc790\uc5f4 s\uc758 \uae38\uc774\ub9cc\ud07c for\ubb38\uc744 \ub3cc\uba74\uc11c <style, <STYLE, <script, <SCRIPT, < \ub85c \uc2dc\uc791\ud558\ub294 \ubd80\ubd84\ub4e4\uc744 \ucc3e\ub294\ub2e4.\n",
      "\n",
      "(\ub9c8\uc9c0\ub9c9\uc5d0 '>'\uac00 \ud3ec\ud568\ud558\uc5ec find\ud560 \uacbd\uc6b0 \uac12\uc744 \uc81c\ub300\ub85c \ucd9c\ub825\ud558\uc9c0 \uc54a\ub294\ub2e4.)\n",
      "\n",
      "'<'\ub85c \uc2dc\uc791\ud558\ub294 \uac83\uc740 \uc55e\uc758 \ubaa8\ub4e0 \uacbd\uc6b0\ub97c \ud3ec\ud568\ud558\ubbc0\ub85c \ucc98\ub9ac\uac00 \uc81c\ub300\ub85c \ub418\uc9c0 \uc54a\ub294\ub2e4. \ub530\ub77c\uc11c \uc55e\uc5d0\uac83\ub4e4\uc744 \uc218\ud589\ud55c \ud6c4\uc5d0 \ub9c8\uc9c0\ub9c9\uc73c\ub85c \uc2dc\ud589\ud55c\ub2e4.\n",
      "\n",
      "\uc870\uac74\uc744 \ub9cc\uc871\ud558\ub294 \uacbd\uc6b0 find\ub97c \uc774\uc6a9\ud558\uc5ec s\uc5d0\uc11c </style>, </STYLE>, </script>, </SCRIPT>, > \uac01\uac01\uc758 \uc704\uce58\ub97c \ucc3e\uc740 \ud6c4, \n",
      "\n",
      "\ub9c8\uc9c0\ub9c9 \uaebd\uc1e0\ub97c \ud3ec\ud568\ud558\uc5ec \ud55c\uce78 \uc9c0\ub098\uac00\ub3c4\ub85d +\ub97c \ucde8\ud574\uc900\ub2e4.\n",
      "\n",
      "\uadf8 \ubd80\ubd84\ubd80\ud130 \uc2dc\uc791\ud574\uc11c s\uc758 \ub05d\uae4c\uc9c0\ub97c s\uc5d0 \uc800\uc7a5\ud55c\ub2e4. -> (<> </> \ub0b4\uc6a9\uc774 \uc0ad\uc81c\ub418\ub294 \ubd80\ubd84.)\n",
      "\n",
      "\uadf8\ubc16\uc758 \uacbd\uc6b0(\uc21c\uc218\ud14d\uc2a4\ud2b8)\uc5d0\ub294 \ube48\ubb38\uc790\uc5f4 extract_text\uc5d0 \ucc98\uc74c\ubd80\ud130 \uaebd\uc1e0\uac00 \uc2dc\uc791\ud558\ub294 '<'(\uaebd\uc1e0\ud3ec\ud568x)\ubd80\ubd84\uae4c\uc9c0 \uc800\uc7a5\ud55c\ub2e4.\n",
      "\n",
      "\uc774 \uacfc\uc815\uc744 \uacc4\uc18d\ud574\uc11c \ubc18\ubcf5\ud55c\ub2e4.\n",
      "\n",
      "wordList\ub77c\ub294 \ubb38\uc790\uc5f4\uc744 \uc800\uc7a5\ud558\ub294 list\ub97c \ud558\ub098 \uc0dd\uc131\ud558\uc5ec extract_text\uc5d0 \uc800\uc7a5\ub41c \uc21c\uc218 \ud14d\uc2a4\ud2b8\ub4e4\uc744 \uacf5\ubc31\uc73c\ub85c \ubd84\ub9ac\ud558\uc5ec \uc9d1\uc5b4\ub123\ub294\ub2e4.\n",
      "\n",
      "s = \" \".join(wordList) \ub97c \uc774\uc6a9\ud558\uc5ec wordList\uc758 \uac01 \uc778\ub371\uc2a4\uc5d0 \uc800\uc7a5\ub41c \ubb38\uc790\uc5f4\ub4e4\uc744, s\uc5d0 \uacf5\ubc31\uc744 \ud3ec\ud568\ud560 \uc218 \uc788\ub3c4\ub85d \uc800\uc7a5\ud55c\ub2e4."
     ]
    },
    {
     "cell_type": "markdown",
     "metadata": {},
     "source": [
      " "
     ]
    },
    {
     "cell_type": "markdown",
     "metadata": {},
     "source": [
      "\uc9c0\ub09c \uacfc\uc81c\uc5d0 \ube44\ud574\uc11c \ud30c\uc774\uc36c\uc758 \uc7a5\uc810\uc744 \ud6e8\uc52c \uc81c\ub300\ub85c \uc54c\uc218 \uc788\uac8c \ud574\uc900 \uacfc\uc81c\uc600\ub2e4. \n",
      "\n",
      "C\uc5b8\uc5b4\ub77c\uba74 \ud1a0\ud070\uac19\uc740 \uac83\ub4e4\uc744 \ud65c\uc6a9\ud558\uc5ec \uc5b4\ub835\uac8c \ub2e8\uc5b4\ub97c \ucd94\ucd9c\ud574\uc57c\ud558\uc9c0\ub9cc \ud30c\uc774\uc36c\uc5d0\uc11c\ub294 \ub2e8\uc21c\ud788 \ub9cc\ub4e4\uc5b4\uc9c4 \ud568\uc218\ub9cc\uc744 \uc774\uc6a9\ud558\uc5ec \ucd94\ucd9c\ud560 \uc218 \uc788\ub2e4\ub294\uac8c \uad49\uc7a5\ud788 \uc88b\uc558\ub2e4.\n",
      "\n",
      "6\ubc88\uac19\uc740 \uacbd\uc6b0\uc5d0\ub294 \ub098\ub294 \uc644\uc804 \ucc98\uc74c \ubcf4\ub294 \uac83\uc774\ub77c\uc11c \ud558\uba74\uc11c\ub3c4 \uc815\ub9d0 \uc2e0\uae30\ud558\uc600\ub2e4. \ub2e8\uc21c\ud788 \uc8fc\uc18c\ub97c \uc785\ub825\ud55c\uac83 \ub9cc\uc73c\ub85c \uadf8 \ud648\ud398\uc774\uc9c0\uc758 \uc18c\uc2a4\ucf54\ub4dc\uac00 \ucd9c\ub825\ub418\ub2c8 \ub9d0\uc774\ub2e4.\n",
      "\n",
      "\uacfc\uc81c\ub97c \ud574\uacb0\ud574 \ub098\uac00\uba74\uc11c \ub290\ub080\uac70\uc9c0\ub9cc, \uc544\uc9c1\uc740 C\uc5b8\uc5b4\uc5d0 \uc775\uc219\ud574\uc838 \uc788\ub294\uc9c0\ub77c \ud30c\uc774\uc36c \ubb38\ubc95\uc5d0 \uc5b4\uae0b\ub098\ub294 \ud45c\ud604\ub4e4\uc744 \uc790\uc8fc \uc4f0\ub294 \uacbd\ud5a5\uc774 \uc788\ub294 \uac83 \uac19\ub2e4.\n",
      "\n",
      "\uc775\uc219\ud558\uc9c0 \uc54a\uc544\uc11c \ubc18\ubcf5\ubb38\uacfc \uc870\uac74\ubb38, \ubb38\uc790\uc5f4\uc744 \ucc98\ub9ac\ud558\ub294\ub370 \uad49\uc7a5\ud788 \uc560\ub97c \ub9ce\uc774 \uba39\uc5c8\ub2e4. C\uc600\uc73c\uba74 \uae08\ubc29 \ud588\uc744\ud150\ub370\ud558\ub294 \ubd80\ubd84\ub4e4\uc774 \uaf64\ub098 \uc788\uc5c8\ub2e4.\n",
      "\n",
      "\ud63c\uc790\ud798\uc73c\ub85c \ud558\uae30 \uc5b4\ub824\uc6b4 \ubd80\ubd84\uc740 \uce5c\uad6c\ub4e4\uacfc \uc758\ub17c\ud558\uace0 \uba38\ub9ac\ub97c \ub9de\ub300\uc5b4 \ud574\uacb0\ud558\uc600\uc73c\uba70, \ub098\uc758 \uc0dd\uac01\uacfc \ub2e4\ub978 \uce5c\uad6c\ub4e4\uc758 \uc18c\uc2a4\ub97c \ubcf4\ub294 \uac83\ub3c4 \ub9ce\uc740 \uacf5\ubd80\uac00 \ub418\uc5c8\ub2e4.\n",
      "\n",
      "\uc55e\uc73c\ub85c \uacc4\uc18d\ud574\uc11c \uc5f4\uc2ec\ud788 \uc218\uc5c5\uc744 \ub4e3\uace0 \uacfc\uc81c\ub97c \ud574\ub098\uac04\ub2e4\uba74\uc11c \ud30c\uc774\uc36c\uc5d0 \ube68\ub9ac \uc775\uc219\ud574\uc9c0\ub3c4\ub85d \ub178\ub825\ud574\uc57c\uaca0\ub2e4."
     ]
    }
   ],
   "metadata": {}
  }
 ]
}