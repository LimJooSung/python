{
 "metadata": {
  "name": "",
  "signature": "sha256:cc8734370b3a9c843a326781c18e969e4a086079bff957eaffd5db12fcca69c3"
 },
 "nbformat": 3,
 "nbformat_minor": 0,
 "worksheets": [
  {
   "cells": [
    {
     "cell_type": "markdown",
     "metadata": {},
     "source": [
      "# \ubb38\uc81c 1\ubc88\n",
      "\n",
      "a=\"Hello Python\" \ubb38\uc790\uc5f4\uc744 Slicing\uacfc \uc5f0\uacb0 \uc5f0\uc0b0\uc790 (+)\ub97c \uc0ac\uc6a9\ud558\uc5ec \"Python Hello\"\ub85c \ubcc0\uacbd\ud558\uc2dc\uc624."
     ]
    },
    {
     "cell_type": "code",
     "collapsed": false,
     "input": [
      "a = \"Hello Python\"\n",
      "a = a[6:] + a[5:6] + a[0:5]   \n",
      "print a"
     ],
     "language": "python",
     "metadata": {},
     "outputs": [
      {
       "output_type": "stream",
       "stream": "stdout",
       "text": [
        "Python Hello\n"
       ]
      }
     ],
     "prompt_number": 1
    },
    {
     "cell_type": "markdown",
     "metadata": {},
     "source": [
      "a\uc5d0 \ubb38\uc790\uc5f4 \"Hello Python\"\uc744 \uc785\ub825 \ud6c4, \uc2ac\ub77c\uc774\uc2f1\uc744 \uc774\uc6a9\ud558\uc5ec \uc21c\uc11c\ub97c \ubc14\uafd4 \ucd9c\ub825\ud55c\ub2e4.\n",
      "\n",
      "a = a[6:] + a[5:6] + a[0:5] \uc5d0\uc11c a[5:6]\uc740 \uacf5\ubc31\uc744 \uc758\ubbf8\ud55c\ub2e4. (a[5]\uc640 \ub3d9\uc77c)"
     ]
    },
    {
     "cell_type": "markdown",
     "metadata": {},
     "source": [
      "\n"
     ]
    },
    {
     "cell_type": "markdown",
     "metadata": {},
     "source": [
      "# \ubb38\uc81c 2\ubc88\n",
      "\n",
      "b=\"Hello Python World\" \ubb38\uc790\uc5f4\uc744 Slicing\uacfc \uc5f0\uacb0 \uc5f0\uc0b0\uc790 (+)\ub97c \uc0ac\uc6a9\ud558\uc5ec \"World Python Hello\"\ub85c \ubcc0\uacbd\ud558\uc2dc\uc624."
     ]
    },
    {
     "cell_type": "code",
     "collapsed": false,
     "input": [
      "b = \"Hello Python World\"\n",
      "b = b[13:] + b[12:13] + b[6:12] + b[5:6] + b[0:5]   \n",
      "print b"
     ],
     "language": "python",
     "metadata": {},
     "outputs": [
      {
       "output_type": "stream",
       "stream": "stdout",
       "text": [
        "World Python Hello\n"
       ]
      }
     ],
     "prompt_number": 2
    },
    {
     "cell_type": "markdown",
     "metadata": {},
     "source": [
      "b\uc5d0 \ubb38\uc790\uc5f4 \"Hello Python World\"\ub97c \uc785\ub825 \ud6c4, \uc2ac\ub77c\uc774\uc2f1\uc744 \uc774\uc6a9\ud558\uc5ec \uc21c\uc11c\ub97c \ubc14\uafd4 \ucd9c\ub825\ud55c\ub2e4.\n",
      "\n",
      "b = b[13:] + b[12:13] + b[6:12] + b[5:6] + b[0:5] \uc5d0\uc11c b[12:13], b[5:6]\uc740 \uacf5\ubc31\uc744 \uc758\ubbf8\ud55c\ub2e4. (\uac01\uac01 b[12], b[5]\uc640 \ub3d9\uc77c)"
     ]
    },
    {
     "cell_type": "markdown",
     "metadata": {},
     "source": [
      "\n"
     ]
    },
    {
     "cell_type": "markdown",
     "metadata": {},
     "source": [
      "# \ubb38\uc81c 3\ubc88\n",
      "\n",
      "c=\"Hello\"\ub97c \"olleH\"\ub85c \ubcc0\uacbd\ud558\uc2dc\uc624."
     ]
    },
    {
     "cell_type": "code",
     "collapsed": false,
     "input": [
      "c = \"Hello\"\n",
      "c = c[::-1]  \n",
      "print c"
     ],
     "language": "python",
     "metadata": {},
     "outputs": [
      {
       "output_type": "stream",
       "stream": "stdout",
       "text": [
        "olleH\n"
       ]
      }
     ],
     "prompt_number": 3
    },
    {
     "cell_type": "markdown",
     "metadata": {},
     "source": [
      "c\uc5d0 \ubb38\uc790\uc5f4 \"Hello\"\ub97c \uc785\ub825 \ud6c4, \uc2ac\ub77c\uc774\uc2f1\uc744 \uc774\uc6a9\ud558\uc5ec \uc5ed\uc21c\uc73c\ub85c \ucd9c\ub825\ud55c\ub2e4.\n",
      "\n",
      "c = c[::-1]\uc5d0\uc11c \uac00\uc7a5 \ub05d\uc790\ub9ac\uc5d0\uc11c\uc758 -1\uc740 \uc5ed\uc21c\uc73c\ub85c \ucd9c\ub825\ud568\uc744 \uc758\ubbf8\ud55c\ub2e4."
     ]
    },
    {
     "cell_type": "markdown",
     "metadata": {},
     "source": [
      "\n"
     ]
    },
    {
     "cell_type": "markdown",
     "metadata": {},
     "source": [
      "# \ubb38\uc81c 4 - 1\ubc88\n",
      "\n",
      "s[0], s[0][0], s[0][0][0]\uc740 \uac01\uac01 \uc5b4\ub5a4 \uac12\uc774 \ub098\uc624\ub294\uc9c0 \ud655\uc778\ud558\uace0 \uadf8 \uc774\uc720\ub97c \ub098\ub984\ub300\ub85c \uc124\uba85\ud574 \ubcf4\uc2dc\uc624."
     ]
    },
    {
     "cell_type": "code",
     "collapsed": false,
     "input": [
      "s = \"python\"\n",
      "print s[0],       \n",
      "print s[0][0],    \n",
      "print s[0][0][0]  "
     ],
     "language": "python",
     "metadata": {},
     "outputs": [
      {
       "output_type": "stream",
       "stream": "stdout",
       "text": [
        "p p p\n"
       ]
      }
     ],
     "prompt_number": 4
    },
    {
     "cell_type": "markdown",
     "metadata": {},
     "source": [
      "print s[0]       -> 1\ucc28\uc6d0 \ubc30\uc5f4\uc758 \uac1c\ub150\uc73c\ub85c, s[0]\uc740 \ubb38\uc790\uc5f4\uc758 \uccab\ubc88\uc9f8 \uc778\ub371\uc2a4(\ubc30\uc5f4\uc774\ub984=\uc2dc\uc791\uc8fc\uc18c), \uc989 'p'\ub97c \uac00\ub9ac\ud0a8\ub2e4.\n",
      "\n",
      "print s[0][0]    -> 2\ucc28\uc6d0 \ubc30\uc5f4\uc758 \uac1c\ub150\uc73c\ub85c, \uc5ed\uc2dc \uc2dc\uc791\uc8fc\uc18c\ub97c \uac00\ub9ac\ud0a4\ubbc0\ub85c 'p'\ub97c \ucd9c\ub825\ud55c\ub2e4. \uadf8\ub7ec\ub098 s[0][1]\ubd80\ud130\ub294 error \ubc1c\uc0dd...\n",
      "\n",
      "print s[0][0][0] -> 3\ucc28\uc6d0 \ubc30\uc5f4\uc758 \uac1c\ub150\uc73c\ub85c, \uc5ed\uc2dc \uc2dc\uc791\uc8fc\uc18c\ub97c \uac00\ub9ac\ud0a4\ubbc0\ub85c 'p'\ub97c \ucd9c\ub825\ud55c\ub2e4. \uadf8\ub7ec\ub098 s[0][0][1]\ubd80\ud130\ub294 error \ubc1c\uc0dd..."
     ]
    },
    {
     "cell_type": "markdown",
     "metadata": {},
     "source": [
      "\n"
     ]
    },
    {
     "cell_type": "markdown",
     "metadata": {},
     "source": [
      "# \ubb38\uc81c 4 - 2\ubc88\n",
      "\n",
      "s[-100], s[100]\uc740 \uac12\uc774 \ub098\uc624\ub294\uc9c0 \uc5d0\ub7ec\uac00 \ub098\uc624\ub294\uc9c0 \ud655\uc778\ud558\uace0 \uadf8 \uacb0\uacfc\uc5d0 \ub300\ud55c \uc774\uc720\ub97c \ub098\ub984\ub300\ub85c \uc124\uba85\ud574 \ubcf4\uc2dc\uc624."
     ]
    },
    {
     "cell_type": "code",
     "collapsed": false,
     "input": [
      "s = \"python\"\n",
      "print s[-100],  \n",
      "print s[100]     "
     ],
     "language": "python",
     "metadata": {},
     "outputs": [
      {
       "ename": "IndexError",
       "evalue": "string index out of range",
       "output_type": "pyerr",
       "traceback": [
        "\u001b[1;31m---------------------------------------------------------------------------\u001b[0m\n\u001b[1;31mIndexError\u001b[0m                                Traceback (most recent call last)",
        "\u001b[1;32m<ipython-input-5-216e357a6b8d>\u001b[0m in \u001b[0;36m<module>\u001b[1;34m()\u001b[0m\n\u001b[0;32m      1\u001b[0m \u001b[0ms\u001b[0m \u001b[1;33m=\u001b[0m \u001b[1;34m\"python\"\u001b[0m\u001b[1;33m\u001b[0m\u001b[0m\n\u001b[1;32m----> 2\u001b[1;33m \u001b[1;32mprint\u001b[0m \u001b[0ms\u001b[0m\u001b[1;33m[\u001b[0m\u001b[1;33m-\u001b[0m\u001b[1;36m100\u001b[0m\u001b[1;33m]\u001b[0m\u001b[1;33m,\u001b[0m\u001b[1;33m\u001b[0m\u001b[0m\n\u001b[0m\u001b[0;32m      3\u001b[0m \u001b[1;32mprint\u001b[0m \u001b[0ms\u001b[0m\u001b[1;33m[\u001b[0m\u001b[1;36m100\u001b[0m\u001b[1;33m]\u001b[0m\u001b[1;33m\u001b[0m\u001b[0m\n",
        "\u001b[1;31mIndexError\u001b[0m: string index out of range"
       ]
      }
     ],
     "prompt_number": 5
    },
    {
     "cell_type": "markdown",
     "metadata": {},
     "source": [
      "s = \"python\"\uc740 \uc778\ub371\uc2a4 \ubc94\uc704 0~5\uae4c\uc9c0, \uc989 \uae38\uc774\uac00 6\uc778 \ubb38\uc790\uc5f4 \ubc30\uc5f4\uc774\ub2e4.\n",
      "\n",
      "s[-100], s[100]\uc740 \uc774 \ubc94\uc704\ub97c \ubc97\uc5b4\ub098\ubbc0\ub85c error\uac00 \ubc1c\uc0dd\ud55c\ub2e4."
     ]
    },
    {
     "cell_type": "markdown",
     "metadata": {},
     "source": [
      "\n"
     ]
    },
    {
     "cell_type": "markdown",
     "metadata": {},
     "source": [
      "# \ubb38\uc81c 4 - 3\ubc88\n",
      "\n",
      "s[-100, 100]\uc740 \uac12\uc774 \ub098\uc624\ub294\uc9c0 \uc5d0\ub7ec\uac00 \ub098\uc624\ub294\uc9c0 \ud655\uc778\ud558\uace0 \uadf8 \uacb0\uacfc\uc5d0 \ub300\ud55c \uc774\uc720\ub97c \ub098\ub984\ub300\ub85c \uc124\uba85\ud574 \ubcf4\uc2dc\uc624."
     ]
    },
    {
     "cell_type": "code",
     "collapsed": false,
     "input": [
      "s = \"python\"\n",
      "print s[-100, 100]   "
     ],
     "language": "python",
     "metadata": {},
     "outputs": [
      {
       "ename": "TypeError",
       "evalue": "string indices must be integers, not tuple",
       "output_type": "pyerr",
       "traceback": [
        "\u001b[1;31m---------------------------------------------------------------------------\u001b[0m\n\u001b[1;31mTypeError\u001b[0m                                 Traceback (most recent call last)",
        "\u001b[1;32m<ipython-input-6-c725c687966f>\u001b[0m in \u001b[0;36m<module>\u001b[1;34m()\u001b[0m\n\u001b[0;32m      1\u001b[0m \u001b[0ms\u001b[0m \u001b[1;33m=\u001b[0m \u001b[1;34m\"python\"\u001b[0m\u001b[1;33m\u001b[0m\u001b[0m\n\u001b[1;32m----> 2\u001b[1;33m \u001b[1;32mprint\u001b[0m \u001b[0ms\u001b[0m\u001b[1;33m[\u001b[0m\u001b[1;33m-\u001b[0m\u001b[1;36m100\u001b[0m\u001b[1;33m,\u001b[0m \u001b[1;36m100\u001b[0m\u001b[1;33m]\u001b[0m\u001b[1;33m\u001b[0m\u001b[0m\n\u001b[0m",
        "\u001b[1;31mTypeError\u001b[0m: string indices must be integers, not tuple"
       ]
      }
     ],
     "prompt_number": 6
    },
    {
     "cell_type": "markdown",
     "metadata": {},
     "source": [
      "\ubc30\uc5f4\uc740 '\uba87 \ubc88\uc9f8 \uc778\ub371\uc2a4'\uc640 \uac19\uc774 '\uc815\uc218'\ubc88\uc9f8 \uc778\ub371\uc2a4\ub97c \uac00\ub9ac\ud0a8\ub2e4.\n",
      "\n",
      "\ub530\ub77c\uc11c s[-100, 100]\uacfc \uac19\uc774 \ud29c\ud50c\uc744 \uc778\ub371\uc2a4\ub97c \uac00\ub9ac\ud0a4\ub294 \ubc29\uc2dd\uc73c\ub85c \uc0ac\uc6a9\ud558\uba74 error\uac00 \ubc1c\uc0dd\ud55c\ub2e4."
     ]
    },
    {
     "cell_type": "markdown",
     "metadata": {},
     "source": [
      "\n"
     ]
    },
    {
     "cell_type": "markdown",
     "metadata": {},
     "source": [
      "# \ubb38\uc81c 4 - 4\ubc88\n",
      "\n",
      "s[1:-1]\uc758 \uacb0\uacfc\ub97c \ud655\uc778\ud558\uace0 \uadf8 \uacb0\uacfc\uc5d0 \ub300\ud55c \uc774\uc720\ub97c \uc815\ud655\ud558\uac8c \uc124\uba85\ud558\uc2dc\uc624."
     ]
    },
    {
     "cell_type": "code",
     "collapsed": false,
     "input": [
      "s = \"python\"\n",
      "print s[1:-1]   "
     ],
     "language": "python",
     "metadata": {},
     "outputs": [
      {
       "output_type": "stream",
       "stream": "stdout",
       "text": [
        "ytho\n"
       ]
      }
     ],
     "prompt_number": 7
    },
    {
     "cell_type": "markdown",
     "metadata": {},
     "source": [
      "s[1]\uc740 'y', s[-1]\uc740 'n'\uc744 \uac00\ub9ac\ud0a8\ub2e4.\n",
      "\n",
      "\ub530\ub77c\uc11c s[1]\uc744 \ud3ec\ud568\ud558\uace0 s[-1]\uc744 \ud3ec\ud568\ud558\uc9c0 \uc54a\ub294 \ubc94\uc704. \uc989 'ytho'\ub97c \ucd9c\ub825\ud55c\ub2e4."
     ]
    },
    {
     "cell_type": "markdown",
     "metadata": {},
     "source": [
      "\n"
     ]
    },
    {
     "cell_type": "markdown",
     "metadata": {},
     "source": [
      "# \ubb38\uc81c 4 - 5\ubc88\n",
      "\n",
      "s[3:-3]\uc758 \uacb0\uacfc\ub97c \ud655\uc778\ud558\uace0 \uadf8 \uacb0\uacfc\uc5d0 \ub300\ud55c \uc774\uc720\ub97c \uc815\ud655\ud558\uac8c \uc124\uba85\ud558\uc2dc\uc624."
     ]
    },
    {
     "cell_type": "code",
     "collapsed": false,
     "input": [
      "s = \"python\"\n",
      "print s[3:-3]  "
     ],
     "language": "python",
     "metadata": {},
     "outputs": [
      {
       "output_type": "stream",
       "stream": "stdout",
       "text": [
        "\n"
       ]
      }
     ],
     "prompt_number": 8
    },
    {
     "cell_type": "markdown",
     "metadata": {},
     "source": [
      "s[3]\uc740 'h', s[-3] \uc5ed\uc2dc 'h'\ub97c \uac00\ub9ac\ud0a8\ub2e4. \n",
      "\n",
      "\ub530\ub77c\uc11c s[3]\uc744 \ud3ec\ud568\ud558\uace0 s[-3]\uc744 \ud3ec\ud568\ud558\uc9c0 \uc54a\ub294 \ubc94\uc704. \uc989 \uc544\ubb34\uac83\ub3c4 \ucd9c\ub825\ud558\uc9c0 \uc54a\ub294\ub2e4."
     ]
    },
    {
     "cell_type": "markdown",
     "metadata": {},
     "source": [
      "\n"
     ]
    },
    {
     "cell_type": "markdown",
     "metadata": {},
     "source": [
      "# \ubb38\uc81c 5\ubc88\n",
      "\n",
      "for\ubb38\uc744 \ud65c\uc6a9\ud558\uc5ec 1\ubd80\ud130 100\uc0ac\uc774\uc758 \ud640\uc218\ub97c \ucd9c\ub825\ud558\uc2dc\uc624."
     ]
    },
    {
     "cell_type": "code",
     "collapsed": false,
     "input": [
      "for x in range(1, 101) :  \n",
      "    if x % 2 != 0 :     \n",
      "        print x,"
     ],
     "language": "python",
     "metadata": {},
     "outputs": [
      {
       "output_type": "stream",
       "stream": "stdout",
       "text": [
        "1 3 5 7 9 11 13 15 17 19 21 23 25 27 29 31 33 35 37 39 41 43 45 47 49 51 53 55 57 59 61 63 65 67 69 71 73 75 77 79 81 83 85 87 89 91 93 95 97 99\n"
       ]
      }
     ],
     "prompt_number": 9
    },
    {
     "cell_type": "markdown",
     "metadata": {},
     "source": [
      "for x in range(1, 101)  -> \ubc18\ubcf5\ubb38\uc758 \ubc94\uc704\ub97c \uc124\uc815 (1\ubd80\ud130 100\uae4c\uc9c0)\n",
      "\n",
      "if x % 2 != 0           -> \ud640\uc218\uac00 \ub418\ub294 \uc870\uac74\uc744 \uc124\uc815"
     ]
    },
    {
     "cell_type": "markdown",
     "metadata": {},
     "source": [
      "\n"
     ]
    },
    {
     "cell_type": "markdown",
     "metadata": {},
     "source": [
      "# \ubb38\uc81c 6\ubc88\n",
      "\n",
      "while\ubb38\uc744 \ud65c\uc6a9\ud558\uc5ec 1\ubd80\ud130 100\uc0ac\uc774\uc758 \uc9dd\uc218\uc758 \ud569\uc744 \uacc4\uc0b0\ud558\uc5ec \ucd9c\ub825\ud558\uc2dc\uc624."
     ]
    },
    {
     "cell_type": "code",
     "collapsed": false,
     "input": [
      "sum = 0   \n",
      "x = 1\n",
      "\n",
      "while x < 101 :      \n",
      "    x += 1\n",
      "    if x % 2 == 0 :  \n",
      "        sum += x\n",
      "print sum"
     ],
     "language": "python",
     "metadata": {},
     "outputs": [
      {
       "output_type": "stream",
       "stream": "stdout",
       "text": [
        "2550\n"
       ]
      }
     ],
     "prompt_number": 10
    },
    {
     "cell_type": "markdown",
     "metadata": {},
     "source": [
      "sum = 0           -> \ud569\uc744 \uc800\uc7a5\ud560 sum\uc744 0\uc73c\ub85c \ucd08\uae30\ud654\n",
      "\n",
      "x = 1             -> x\ub294 1\ubd80\ud130 \uc2dc\uc791\ud558\ubbc0\ub85c x\ub97c 1\ub85c \ucd08\uae30\ud654\n",
      "\n",
      "while x < 101 :   -> \ubc18\ubcf5\ubb38\uc758 \ubc94\uc704\ub97c 100\uae4c\uc9c0\ub85c \uc124\uc815. \ubc18\ubcf5\ubb38\uc774 \ud55c\ubc88 \uc644\ub8cc\ub418\uba74 x\ub97c 1 \uc99d\uac00\uc2dc\ud0a8\ub2e4.\n",
      "\n",
      "if x % 2 == 0 :   -> \uc9dd\uc218 \uc870\uac74\uc744 \uc124\uc815\ud558\uc5ec \uc9dd\uc218\uc77c \uacbd\uc6b0 sum\uc5d0 \uadf8 \uac12\uc744 \ub354\ud558\uc5ec \uc800\uc7a5"
     ]
    },
    {
     "cell_type": "markdown",
     "metadata": {},
     "source": [
      "\n"
     ]
    },
    {
     "cell_type": "markdown",
     "metadata": {},
     "source": [
      "# \ubb38\uc81c 7\ubc88\n",
      "\n",
      "\uc678\ubd80\ub85c \ubd80\ud130 \uc815\uc218\ub97c \uc785\ub825\ubc1b\uc544\uc11c 1\ubd80\ud130 \uadf8 \uc0ac\uc774\uc5d0 \uc874\uc7ac\ud558\ub294 \uc18c\uc218 (Prime number)\ub97c \ucd9c\ub825\ud558\ub294 \ud30c\uc774\uc36c \ud504\ub85c\uadf8\ub7a8\uc744 \uc791\uc131\ud558\uc2dc\uc624."
     ]
    },
    {
     "cell_type": "code",
     "collapsed": false,
     "input": [
      "num = input('int : ') \n",
      "\n",
      "for i in range(2, num + 1) :     \n",
      "    for j in range(2, i + 1) :   \n",
      "        if i % j == 0 :  \n",
      "            if i == j :   \n",
      "                print i, \n",
      "                break\n",
      "            break"
     ],
     "language": "python",
     "metadata": {},
     "outputs": [
      {
       "name": "stdout",
       "output_type": "stream",
       "stream": "stdout",
       "text": [
        "int : 50\n"
       ]
      },
      {
       "output_type": "stream",
       "stream": "stdout",
       "text": [
        "2 3 5 7 11 13 17 19 23 29 31 37 41 43 47\n"
       ]
      }
     ],
     "prompt_number": 11
    },
    {
     "cell_type": "markdown",
     "metadata": {},
     "source": [
      "num = input('int : ')          -> \uc815\uc218\ub97c \ud558\ub098 \uc785\ub825\ubc1b\ub294\ub2e4.\n",
      "\n",
      "for i in range(2, num + 1) :   -> 2\ubd80\ud130 num\uae4c\uc9c0\uc758 \uc18c\uc218\ub97c \uad6c\ud558\uae30 \uc704\ud55c \ubc18\ubcf5\ubb38 \ubc94\uc704 \uc124\uc815\n",
      "\n",
      "for j in range(2, i + 1) :     -> 2\ubd80\ud130 \uac80\uc0ac\ud560 \uc18c\uc218\uae4c\uc9c0 \ubc18\ubcf5\ud558\uae30 \uc704\ud55c \ubc94\uc704 \uc124\uc815\n",
      "\n",
      "if i % j == 0 :                -> i\ub97c j\ub85c \ub098\ub220\uc11c \ub098\uba38\uc9c0\uac00 0\uc778 \uacbd\uc6b0\uc758 \uc870\uac74\ubb38\n",
      "\n",
      "if i == j :                    -> \ub098\uba38\uc9c0\uac00 0\uc778 \uacbd\uc6b0 \uc911, \ub098\ub220\uc9c0\ub294 \uac12\uc774 1\uc744 \ud3ec\ud568\ud558\uc5ec \uc790\uae30 \uc790\uc2e0\ubfd0\uc774\uba74 \uc18c\uc218\n",
      "\n",
      "break                          -> \ud574\ub2f9 \uc870\uac74\uc744 \ub9cc\uc871 \ud560 \uc2dc \uadf8 \ub8e8\ud504\ub97c \ud0c8\ucd9c"
     ]
    },
    {
     "cell_type": "markdown",
     "metadata": {},
     "source": [
      "  "
     ]
    },
    {
     "cell_type": "markdown",
     "metadata": {},
     "source": [
      "\n",
      "\n",
      "\uc9c0\uae08\uae4c\uc9c0\ub294 \uad49\uc7a5\ud788 \uc26c\uc6b4 \ub2e8\uacc4\uc600\uae30 \ub54c\ubb38\uc5d0, \uacfc\uc81c\ub97c \ud558\ub294 \ub370 \uc788\uc5b4\uc11c \ubb34\ub9ac\ub294 \ubcc4\ub85c \uc5c6\uc5c8\uc2b5\ub2c8\ub2e4. (\uc5c5\ub85c\ub4dc \ud558\ub294 \ubc29\ubc95 \uc81c\uc678)\n",
      "\n",
      "\ud558\uc9c0\ub9cc, C\uc5b8\uc5b4\ub098 JAVA \uc2a4\ud0c0\uc77c\uc5d0\ub9cc \ub108\ubb34 \uc775\uc219\ud574\uc838 \uc788\uc5b4\uc11c, \ubc18\ubcf5\ubb38\uacfc \uc870\uac74\ubb38\ub4e4\uc744 \uc0ac\uc6a9\ud560 \ub54c \ub300\uad04\ud638 \uc5c6\uc774 \uc5b4\ub5bb\uac8c \uae54\ub054\ud558\uac8c\n",
      "\n",
      "\uc798 \ucc98\ub9ac\ud560 \uc218 \uc788\ub294\uc9c0\uc5d0 \ub300\ud574\uc11c\ub294 \uace0\ubbfc\uc744 \uc880 \ub9ce\uc774 \ud558\uac8c \ub418\uc5c8\uc2b5\ub2c8\ub2e4.\n",
      "\n",
      "\uc774\ubc88 \uacfc\uc81c\ub97c \ud574\uacb0\ud574 \ubd04\uc73c\ub85c\uc368, Python\uc744 \ubcf8\uaca9\uc801\uc73c\ub85c \ub2e4\ub8e8\uae30\uc5d0 \uc55e\uc11c \uaf2d \uc54c\uc544\uc57c\ud560 \ubb38\ubc95\ub4e4\uc744 \uc81c\ub300\ub85c \ud55c\ubc88 \uc9da\uace0 \ub118\uc5b4\uac08 \uc218 \uc788\uc5c8\ub358 \uac83 \uac19\uc2b5\ub2c8\ub2e4.\n",
      "\n",
      "\ucc98\uc74c \uc218\uc5c5 \uc2dc\uac04\uc5d0 acroedit, source tree, canopy, github \ub4f1\uc744 \uc124\uce58\ud558\uace0, ipython notebook\uacfc \uc774\uac83\ub4e4\uc744 \uc774\uc6a9\ud574\uc11c \uacfc\uc81c\ub97c \uc81c\ucd9c\ud574\uc57c\ud55c\ub2e4\uace0 \ub4e4\uc5c8\uc744\ub54c\ub294\n",
      "\n",
      "\ubb54\uac00 \ub9c9\ub9c9\ud558\uace0 \ub2f5\ub2f5\ud55c \uae30\ubd84\uc774\uc5c8\uc5c8\uc2b5\ub2c8\ub2e4. \ud558\uc9c0\ub9cc \ub9c9\uc0c1 \uc774\uac83\uc744 \uc774\uc6a9\ud574\uc11c \uacfc\uc81c\ub97c \ud574\uacb0\ud558\uace0, \uc62c\ub9ac\ub294 \uacfc\uc815 \ub4f1 \uc77c\ub828\uc758 \ubc29\ubc95\ub4e4\uc744 \uc5bc\ucd94 \ud130\ub4dd\ud558\uace0 \ub098\ub2c8\n",
      "\n",
      "\uc0c8\ub85c \ub3c4\uc785\ub418\uc5c8\ub2e4\ub294 \uc774 \ubc29\ubc95\uc774 \uc2e0\uc120\ud558\uba74\uc11c \uc7ac\ubc0c\ub2e4\ub294 \ub290\ub08c\ub3c4 \uc870\uae08 \ubc1b\uc558\uc2b5\ub2c8\ub2e4.\n",
      "\n",
      "\uc774\ubc88\uc5d0 \uace0\uc0dd\ud55c\ub9cc\ud07c \ub2e4\uc74c \uacfc\uc81c\ub97c \uc81c\ucd9c\ud560 \ub54c\uc5d0\ub294 \uc774\ubc88\ubcf4\ub2e4\ub294 \uc880 \uc218\uc6d4\ud558\uc9c0 \uc54a\uc744\uae4c \uc0dd\uac01\ub429\ub2c8\ub2e4. \n",
      "\n"
     ]
    }
   ],
   "metadata": {}
  }
 ]
}