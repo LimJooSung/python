{
 "metadata": {
  "name": "",
  "signature": "sha256:a3a31db3e706ebc4b50713493e528986a6785c37e5be415bb4b334771cfe122f"
 },
 "nbformat": 3,
 "nbformat_minor": 0,
 "worksheets": [
  {
   "cells": [
    {
     "cell_type": "code",
     "collapsed": false,
     "input": [
      "# \ubb38\uc81c 1\ubc88\n",
      "\n",
      "a = \"Hello Python\"\n",
      "a = a[6:] + a[5:6] + a[0:5]   # a[5:6] = a[5] -> \uacf5\ubc31 \uc785\ub825\n",
      "print a"
     ],
     "language": "python",
     "metadata": {},
     "outputs": [
      {
       "output_type": "stream",
       "stream": "stdout",
       "text": [
        "Python Hello\n"
       ]
      }
     ],
     "prompt_number": 1
    },
    {
     "cell_type": "code",
     "collapsed": false,
     "input": [
      "# \ubb38\uc81c 2\ubc88\n",
      "\n",
      "b = \"Hello Python World\"\n",
      "b = b[13:] + b[12:13] + b[6:12] + b[5:6] + b[0:5]   # b[12:13], b[5:6] = b[12], b[5] -> \uacf5\ubc31 \uc785\ub825\n",
      "print b"
     ],
     "language": "python",
     "metadata": {},
     "outputs": [
      {
       "output_type": "stream",
       "stream": "stdout",
       "text": [
        "World Python Hello\n"
       ]
      }
     ],
     "prompt_number": 2
    },
    {
     "cell_type": "code",
     "collapsed": false,
     "input": [
      "# \ubb38\uc81c 3\ubc88\n",
      "\n",
      "c = \"Hello\"\n",
      "c = c[::-1]   # \uac00\uc7a5 \ub05d \uc790\ub9ac\uc5d0\uc11c\uc758 -1\uc740 \uc5ed\uc21c\uc73c\ub85c \ucd9c\ub825\ud568\uc744 \uc758\ubbf8\n",
      "print c"
     ],
     "language": "python",
     "metadata": {},
     "outputs": [
      {
       "output_type": "stream",
       "stream": "stdout",
       "text": [
        "olleH\n"
       ]
      }
     ],
     "prompt_number": 3
    },
    {
     "cell_type": "code",
     "collapsed": false,
     "input": [
      "# \ubb38\uc81c 4-1\ubc88\n",
      "\n",
      "s = \"python\"\n",
      "print s[0],        # 1\ucc28\uc6d0 \ubc30\uc5f4\uc758 \uac1c\ub150\uc73c\ub85c, s[0]\uc740 \ubb38\uc790\uc5f4\uc758 \uccab\ubc88\uc9f8 \uc778\ub371\uc2a4(\uc2dc\uc791\uc8fc\uc18c), \uc989 'p'\ub97c \uac00\ub9ac\ud0a8\ub2e4.\n",
      "print s[0][0],     # 2\ucc28\uc6d0 \ubc30\uc5f4\uc758 \uac1c\ub150\uc73c\ub85c, \uc2dc\uc791\uc8fc\uc18c\ub97c \uac00\ub9ac\ud0a4\ubbc0\ub85c 'p'\ub97c \ucd9c\ub825\ud55c\ub2e4. \uadf8\ub7ec\ub098 s[0][1]\ubd80\ud130\ub294 error \ubc1c\uc0dd...\n",
      "print s[0][0][0]   # 3\ucc28\uc6d0 \ubc30\uc5f4\uc758 \uac1c\ub150\uc73c\ub85c, \uc2dc\uc791\uc8fc\uc18c\ub97c \uac00\ub9ac\ud0a4\ubbc0\ub85c 'p'\ub97c \ucd9c\ub825\ud55c\ub2e4. \uadf8\ub7ec\ub098 s[0][0][1]\ubd80\ud130\ub294 error \ubc1c\uc0dd..."
     ],
     "language": "python",
     "metadata": {},
     "outputs": [
      {
       "output_type": "stream",
       "stream": "stdout",
       "text": [
        "p p p\n"
       ]
      }
     ],
     "prompt_number": 4
    },
    {
     "cell_type": "code",
     "collapsed": false,
     "input": [
      "# \ubb38\uc81c 4-2\ubc88\n",
      "\n",
      "s = \"python\"\n",
      "print s[-100],   # s = \"python\"\uc740 \uc778\ub371\uc2a4 \ubc94\uc704 0~5\uae4c\uc9c0, \uc989 \uae38\uc774\uac00 6\uc778 \ubb38\uc790\uc5f4 \ubc30\uc5f4\uc774\ub2e4.\n",
      "print s[100]     # s[-100], s[100]\uc740 \uc774 \ubc94\uc704\ub97c \ubc97\uc5b4\ub098\ubbc0\ub85c error\uac00 \ubc1c\uc0dd\ud55c\ub2e4."
     ],
     "language": "python",
     "metadata": {},
     "outputs": [
      {
       "ename": "IndexError",
       "evalue": "string index out of range",
       "output_type": "pyerr",
       "traceback": [
        "\u001b[1;31m---------------------------------------------------------------------------\u001b[0m\n\u001b[1;31mIndexError\u001b[0m                                Traceback (most recent call last)",
        "\u001b[1;32m<ipython-input-5-dc2bac58ea88>\u001b[0m in \u001b[0;36m<module>\u001b[1;34m()\u001b[0m\n\u001b[0;32m      2\u001b[0m \u001b[1;33m\u001b[0m\u001b[0m\n\u001b[0;32m      3\u001b[0m \u001b[0ms\u001b[0m \u001b[1;33m=\u001b[0m \u001b[1;34m\"python\"\u001b[0m\u001b[1;33m\u001b[0m\u001b[0m\n\u001b[1;32m----> 4\u001b[1;33m \u001b[1;32mprint\u001b[0m \u001b[0ms\u001b[0m\u001b[1;33m[\u001b[0m\u001b[1;33m-\u001b[0m\u001b[1;36m100\u001b[0m\u001b[1;33m]\u001b[0m\u001b[1;33m,\u001b[0m   \u001b[1;31m# s = \"python\"\uc740 \uc778\ub371\uc2a4 \ubc94\uc704 0~5\uae4c\uc9c0, \uc989 \uae38\uc774\uac00 6\uc778 \ubb38\uc790\uc5f4 \ubc30\uc5f4\uc774\ub2e4.\u001b[0m\u001b[1;33m\u001b[0m\u001b[0m\n\u001b[0m\u001b[0;32m      5\u001b[0m \u001b[1;32mprint\u001b[0m \u001b[0ms\u001b[0m\u001b[1;33m[\u001b[0m\u001b[1;36m100\u001b[0m\u001b[1;33m]\u001b[0m     \u001b[1;31m# s[-100], s[100]\uc740 \uc774 \ubc94\uc704\ub97c \ubc97\uc5b4\ub098\ubbc0\ub85c error\uac00 \ubc1c\uc0dd\ud55c\ub2e4.\u001b[0m\u001b[1;33m\u001b[0m\u001b[0m\n",
        "\u001b[1;31mIndexError\u001b[0m: string index out of range"
       ]
      }
     ],
     "prompt_number": 5
    },
    {
     "cell_type": "code",
     "collapsed": false,
     "input": [
      "# \ubb38\uc81c 4-3\ubc88\n",
      "\n",
      "s = \"python\"\n",
      "print s[-100, 100]   # \ubc30\uc5f4\uc740 '\uba87 \ubc88\uc9f8 \uc778\ub371\uc2a4'\uc640 \uac19\uc774 '\uc815\uc218' \ubc88\uc9f8 \uc778\ub371\uc2a4\ub97c \uac00\ub9ac\ud0a8\ub2e4.\n",
      "                     # \ub530\ub77c\uc11c s[-100, 100]\uacfc \uac19\uc774 \ud29c\ud50c\uc744 \uac00\ub9ac\ud0a4\uba74 error\uac00 \ubc1c\uc0dd\ud55c\ub2e4."
     ],
     "language": "python",
     "metadata": {},
     "outputs": [
      {
       "ename": "TypeError",
       "evalue": "string indices must be integers, not tuple",
       "output_type": "pyerr",
       "traceback": [
        "\u001b[1;31m---------------------------------------------------------------------------\u001b[0m\n\u001b[1;31mTypeError\u001b[0m                                 Traceback (most recent call last)",
        "\u001b[1;32m<ipython-input-6-014c0b45526e>\u001b[0m in \u001b[0;36m<module>\u001b[1;34m()\u001b[0m\n\u001b[0;32m      2\u001b[0m \u001b[1;33m\u001b[0m\u001b[0m\n\u001b[0;32m      3\u001b[0m \u001b[0ms\u001b[0m \u001b[1;33m=\u001b[0m \u001b[1;34m\"python\"\u001b[0m\u001b[1;33m\u001b[0m\u001b[0m\n\u001b[1;32m----> 4\u001b[1;33m \u001b[1;32mprint\u001b[0m \u001b[0ms\u001b[0m\u001b[1;33m[\u001b[0m\u001b[1;33m-\u001b[0m\u001b[1;36m100\u001b[0m\u001b[1;33m,\u001b[0m \u001b[1;36m100\u001b[0m\u001b[1;33m]\u001b[0m   \u001b[1;31m# \ubc30\uc5f4\uc740 '\uba87 \ubc88\uc9f8 \uc778\ub371\uc2a4'\uc640 \uac19\uc774 '\uc815\uc218' \ubc88\uc9f8 \uc778\ub371\uc2a4\ub97c \uac00\ub9ac\ud0a8\ub2e4.\u001b[0m\u001b[1;33m\u001b[0m\u001b[0m\n\u001b[0m\u001b[0;32m      5\u001b[0m                      \u001b[1;31m# \ub530\ub77c\uc11c s[-100, 100]\uacfc \uac19\uc774 \ud29c\ud50c\uc744 \uac00\ub9ac\ud0a4\uba74 error\uac00 \ubc1c\uc0dd\ud55c\ub2e4.\u001b[0m\u001b[1;33m\u001b[0m\u001b[1;33m\u001b[0m\u001b[0m\n",
        "\u001b[1;31mTypeError\u001b[0m: string indices must be integers, not tuple"
       ]
      }
     ],
     "prompt_number": 6
    },
    {
     "cell_type": "code",
     "collapsed": false,
     "input": [
      "# \ubb38\uc81c 4-4\ubc88\n",
      "\n",
      "s = \"python\"\n",
      "print s[1:-1]   # s[1]\uc740 'y', s[-1]\uc740 'n'\uc744 \uac00\ub9ac\ud0a8\ub2e4. \ub530\ub77c\uc11c s[1]\uc744 \ud3ec\ud568\ud558\uace0 \n",
      "                # s[-1]\uc744 \ud3ec\ud568\ud558\uc9c0 \uc54a\ub294 \ubc94\uc704. \uc989 'ytho'\ub97c \ucd9c\ub825\ud55c\ub2e4."
     ],
     "language": "python",
     "metadata": {},
     "outputs": [
      {
       "output_type": "stream",
       "stream": "stdout",
       "text": [
        "ytho\n"
       ]
      }
     ],
     "prompt_number": 7
    },
    {
     "cell_type": "code",
     "collapsed": false,
     "input": [
      "# \ubb38\uc81c 4-5\ubc88\n",
      "\n",
      "s = \"python\"\n",
      "print s[3:-3]   # s[3]\uc740 'h', s[-3] \uc5ed\uc2dc 'h'\ub97c \uac00\ub9ac\ud0a8\ub2e4. \ub530\ub77c\uc11c s[3]\uc744 \ud3ec\ud568\ud558\uace0\n",
      "                # s[-3]\uc744 \ud3ec\ud568\ud558\uc9c0 \uc54a\ub294 \ubc94\uc704. \uc989 \uc544\ubb34\uac83\ub3c4 \ucd9c\ub825\ud558\uc9c0 \uc54a\ub294\ub2e4."
     ],
     "language": "python",
     "metadata": {},
     "outputs": [
      {
       "output_type": "stream",
       "stream": "stdout",
       "text": [
        "\n"
       ]
      }
     ],
     "prompt_number": 8
    },
    {
     "cell_type": "code",
     "collapsed": false,
     "input": [
      "# \ubb38\uc81c 5\ubc88\n",
      "\n",
      "for x in range(1, 101) :  # \uc870\uac74\ubb38\uc758 \ubc94\uc704 \uc124\uc815 (1~100)\n",
      "    if x % 2 != 0 :       # \ud640\uc218 \uc870\uac74\uc744 \uc124\uc815\n",
      "        print x,"
     ],
     "language": "python",
     "metadata": {},
     "outputs": [
      {
       "output_type": "stream",
       "stream": "stdout",
       "text": [
        "1 3 5 7 9 11 13 15 17 19 21 23 25 27 29 31 33 35 37 39 41 43 45 47 49 51 53 55 57 59 61 63 65 67 69 71 73 75 77 79 81 83 85 87 89 91 93 95 97 99\n"
       ]
      }
     ],
     "prompt_number": 9
    },
    {
     "cell_type": "code",
     "collapsed": false,
     "input": [
      "# \ubb38\uc81c 6\ubc88\n",
      "\n",
      "sum = 0   # sum\uc744 0\uc73c\ub85c \ucd08\uae30\ud654\n",
      "x = 0\n",
      "\n",
      "while x < 101 :       # \ubc18\ubcf5\ubb38\uc758 \ubc94\uc704 \uc124\uc815\n",
      "    x += 1\n",
      "    if x % 2 == 0 :   # \uc9dd\uc218 \uc870\uac74\uc744 \uc124\uc815\n",
      "        sum += x\n",
      "print sum"
     ],
     "language": "python",
     "metadata": {},
     "outputs": [
      {
       "output_type": "stream",
       "stream": "stdout",
       "text": [
        "2550\n"
       ]
      }
     ],
     "prompt_number": 10
    },
    {
     "cell_type": "code",
     "collapsed": false,
     "input": [
      "# \ubb38\uc81c 7\ubc88\n",
      "\n",
      "num = input('int : ')   # \uc815\uc218 \uc785\ub825\n",
      "\n",
      "for i in range(2, num + 1) :     # 2\ubd80\ud130 num\uae4c\uc9c0\uc758 \uc18c\uc218\ub97c \uad6c\ud558\uae30 \uc704\ud55c \ubc18\ubcf5\ubb38\n",
      "    for j in range(2, i + 1) :   # 2\ubd80\ud130 \uac80\uc0ac\ud560 \uc18c\uc218\uae4c\uc9c0 \ubc18\ubcf5\n",
      "        if i % j == 0 :   # i\ub97c j\ub85c \ub098\ub220\uc11c \ub098\uba38\uc9c0\uac00 0\uc778 \uacbd\uc6b0\n",
      "            if i == j :   # \ub098\uba38\uc9c0\uac00 0\uc778 \uacbd\uc6b0 \uc911, \ub098\ub220\uc9c0\ub294 \uac12\uc774 1\ud3ec\ud568 \uc790\uae30 \uc790\uc2e0\ubfd0 \uc774\uba74 \uc18c\uc218\n",
      "                print i, \n",
      "                break\n",
      "            break"
     ],
     "language": "python",
     "metadata": {},
     "outputs": [
      {
       "name": "stdout",
       "output_type": "stream",
       "stream": "stdout",
       "text": [
        "int : 50\n"
       ]
      },
      {
       "output_type": "stream",
       "stream": "stdout",
       "text": [
        "2 3 5 7 11 13 17 19 23 29 31 37 41 43 47\n"
       ]
      }
     ],
     "prompt_number": 11
    },
    {
     "cell_type": "markdown",
     "metadata": {},
     "source": [
      "\n",
      "\n",
      "\n",
      "\n",
      "\n"
     ]
    },
    {
     "cell_type": "markdown",
     "metadata": {},
     "source": [
      " "
     ]
    },
    {
     "cell_type": "markdown",
     "metadata": {},
     "source": [
      "  "
     ]
    },
    {
     "cell_type": "markdown",
     "metadata": {},
     "source": [
      "\n",
      "\n",
      "\uc9c0\uae08\uae4c\uc9c0\ub294 \uad49\uc7a5\ud788 \uc26c\uc6b4 \ub2e8\uacc4\uc600\uae30 \ub54c\ubb38\uc5d0, \uacfc\uc81c\ub97c \ud558\ub294 \ub370 \uc788\uc5b4 \ubb34\ub9ac\ub294 \ubcc4\ub85c \uc5c6\uc5c8\uc2b5\ub2c8\ub2e4.\n",
      "\n",
      "(\uadf8\uc800 source tree, github\uc744 \uc0ac\uc6a9\ud558\ub294 \ubc29\ubc95\ub54c\ubb38\uc5d0 \uc560\ub97c \uc880 \uba39\uc5c8\uc2b5\ub2c8\ub2e4..)\n",
      "\n",
      "C\uc5b8\uc5b4\ub098 JAVA \uc2a4\ud0c0\uc77c\uc5d0\ub9cc \ub108\ubb34 \uc775\uc219\ud574\uc838 \uc788\uc5b4\uc11c, \ubc18\ubcf5\ubb38\uacfc \uc870\uac74\ubb38\ub4e4\uc744 \uc0ac\uc6a9\ud560 \ub54c \ub300\uad04\ud638 \uc5c6\uc774 \uc5b4\ub5bb\uac8c \uae54\ub054\ud558\uac8c\n",
      "\n",
      "\uc798 \ucc98\ub9ac\ud560 \uc218 \uc788\ub294\uc9c0\uc5d0 \ub300\ud574\uc11c\ub294 \uace0\ubbfc\uc744 \uc880 \ub9ce\uc774 \ud558\uac8c \ub418\uc5c8\uc2b5\ub2c8\ub2e4.\n",
      "\n",
      "\uc774\ubc88 \uacfc\uc81c\ub97c \ud574\uacb0\ud568\uc73c\ub85c\uc368, Python\uc744 \ubcf8\uaca9\uc801\uc73c\ub85c \ub2e4\ub8e8\uae30\uc5d0 \uc55e\uc11c \uaf2d \uc54c\uc544\uc57c\ud560 \ubb38\ubc95\ub4e4\uc744 \uc81c\ub300\ub85c \ud55c\ubc88 \uc9da\uace0 \ub118\uc5b4\uac08 \uc218 \uc788\uc5c8\uc2b5\ub2c8\ub2e4.\n",
      "\n",
      "\ub2e4\ub9cc, \uc81c\uac00 \uc0ac\uc6a9\ud558\ub294 \ub178\ud2b8\ubd81\uc5d0\uc11c canopy \uc124\uce58\uac00 \uc81c\ub300\ub85c \ub418\uc9c0 \uc54a\uc544 \uadf8\ub0e5 ipython\uc744 \uc0ac\uc6a9\ud558\uace0 \uc788\ub294\ub370,\n",
      "\n",
      "\ud639\uc2dc \uacc4\uc18d\ud574\uc11c \uc218\uc5c5\uc744 \ub4e3\ub2e4\uac00 canopy\uc5d0\uc11c\ub9cc \uc27d\uac8c \ud560 \uc218 \uc788\ub294 \ubd80\ubd84\ub4e4\uc774 \uc788\uc744\uae4c\ubd10 \uc880 \uac71\uc815\uc774 \ub429\ub2c8\ub2e4.\n",
      "\n"
     ]
    }
   ],
   "metadata": {}
  }
 ]
}