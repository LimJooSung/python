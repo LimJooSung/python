{
 "metadata": {
  "name": "",
  "signature": "sha256:13730f95114b1d8cf43b6fa8be2a648b6db0e0bf71c65298b8120fb6f9bc3045"
 },
 "nbformat": 3,
 "nbformat_minor": 0,
 "worksheets": [
  {
   "cells": [
    {
     "cell_type": "markdown",
     "metadata": {},
     "source": [
      "# \ubb38\uc81c 1\ubc88\n",
      "\ud30c\uc77c s.txt \ub0b4\uc758 \ub2e4\uc74c \ub0b4\uc6a9\uacfc \ud568\uaed8 \uc544\ub798 \ubb38\uc81c\uc758 \ucf54\ub4dc\ub97c \uc81c\uc2dc\ud558\uc2dc\uc624. \n",
      "\n",
      "    pig ham\n",
      "\n",
      "    cat dog\n",
      "\n",
      "    ham bird\n",
      "\n",
      "    dog pig"
     ]
    },
    {
     "cell_type": "markdown",
     "metadata": {},
     "source": [
      "- 1) \ud30c\uc77c s.txt\uc744 \uc77d\uc5b4\uc11c \uac01 \ub77c\uc778\ub4e4\uc5d0 \uc788\ub294 \uccab \ubc88\uc9f8 \ub2e8\uc5b4(\ubb38\uc790\uc5f4)\ub4e4\uc744 \uae30\uc900\uc73c\ub85c \ub77c\uc778\ubcc4 \uc815\ub82c\ud6c4 \ud30c\uc77c s1.txt\uc5d0 \uadf8 \uacb0\uacfc\ub97c \uae30\ub85d\ud558\ub294 \ucf54\ub4dc\ub97c \uc791\uc131\ud558\uc2dc\uc624. \uc989, \ud504\ub85c\uadf8\ub7a8 \uc218\ud589 \ud6c4 s1.txt\uc5d0 \uc788\ub294 \ud30c\uc77c \ub0b4\uc6a9\uc740 \ub2e4\uc74c\uacfc \uac19\ub2e4.\n",
      "\n",
      "    cat dog\n",
      "\n",
      "    dog pig\n",
      "\n",
      "    ham bird\n",
      "\n",
      "    pig ham"
     ]
    },
    {
     "cell_type": "code",
     "collapsed": false,
     "input": [
      "import os\n",
      "\n",
      "print os.getcwd()"
     ],
     "language": "python",
     "metadata": {},
     "outputs": [
      {
       "output_type": "stream",
       "stream": "stdout",
       "text": [
        "C:\\Users\\\ufffd\ufffd\ufffd\ufffd\ufffd\n"
       ]
      }
     ],
     "prompt_number": 31
    },
    {
     "cell_type": "markdown",
     "metadata": {},
     "source": [
      "\"C:\\Users\\\uc0ac\uc6a9\uc790\""
     ]
    },
    {
     "cell_type": "code",
     "collapsed": false,
     "input": [
      "s = \"\"\"\n",
      "pig ham\n",
      "cat dog\n",
      "ham bird\n",
      "dog pig\n",
      "\"\"\"\n",
      "f = open('s.txt', 'w')\n",
      "f.write(s) #\ubb38\uc790\uc5f4\uc744 \ud30c\uc77c\uc5d0 \uae30\ub85d\n",
      "f.close()"
     ],
     "language": "python",
     "metadata": {},
     "outputs": [],
     "prompt_number": 2
    },
    {
     "cell_type": "markdown",
     "metadata": {},
     "source": [
      "\uc704\uc758 \uacbd\ub85c \"C:\\Users\\\uc0ac\uc6a9\uc790\"\uc5d0, \ubb38\uc790\uc5f4 s\uc5d0 \uc800\uc7a5\ub41c \ub0b4\uc6a9\uc744 s.txt\uc5d0 \uae30\ub85d\ud558\uc5ec \ud14d\uc2a4\ud2b8\ud30c\uc77c \ud615\ud0dc\ub85c \uc800\uc7a5\ud55c\ub2e4."
     ]
    },
    {
     "cell_type": "code",
     "collapsed": false,
     "input": [
      "f = file('s.txt') # f = open('t.txt', 'r')\uacfc \ub3d9\uc77c\n",
      "s = f.read()\n",
      "print s"
     ],
     "language": "python",
     "metadata": {},
     "outputs": [
      {
       "output_type": "stream",
       "stream": "stdout",
       "text": [
        "\n",
        "pig ham\n",
        "cat dog\n",
        "ham bird\n",
        "dog pig\n",
        "\n"
       ]
      }
     ],
     "prompt_number": 3
    },
    {
     "cell_type": "markdown",
     "metadata": {},
     "source": [
      "s.txt\uc5d0 \uc800\uc7a5\ub41c \ub0b4\uc6a9\uc744 \uc77d\uc5b4\uc628\ub2e4."
     ]
    },
    {
     "cell_type": "code",
     "collapsed": false,
     "input": [
      "f = open('s.txt')\n",
      "\n",
      "lines = []\n",
      "\n",
      "for tmpLine in f.readlines():\n",
      "    lines.append(tmpLine)\n",
      "    lines = sorted(lines)\n",
      "\n",
      "f.close()\n",
      "#print lines\n",
      "\n",
      "# s2.txt\uc5d0 \ub0b4\uc6a9 \uc800\uc7a5\n",
      "f = open('s1.txt', 'w+')\n",
      "f.write(''.join(lines))\n",
      "\n",
      "f.seek(0)\n",
      "print f.read()\n",
      "\n",
      "f.close()"
     ],
     "language": "python",
     "metadata": {},
     "outputs": [
      {
       "output_type": "stream",
       "stream": "stdout",
       "text": [
        "\n",
        "cat dog\n",
        "dog pig\n",
        "ham bird\n",
        "pig ham\n",
        "\n"
       ]
      }
     ],
     "prompt_number": 1
    },
    {
     "cell_type": "markdown",
     "metadata": {},
     "source": [
      "\uc0c8\ub85c\uc6b4 \ub9ac\uc2a4\ud2b8\ub97c \uc0dd\uc131\ud558\uc5ec s.txt\uc5d0 \uc800\uc7a5\ub41c \ub0b4\uc6a9\uc744 \ub9ac\uc2a4\ud2b8\uc5d0 append\uc2dc\ud0a8\ub2e4.\n",
      "\n",
      "\uadf8 \ub9ac\uc2a4\ud2b8\ub97c \ud568\uc218 sorted()\ub97c \uc774\uc6a9\ud558\uc5ec \uc815\ub82c\ud55c\ub2e4.\n",
      "\n",
      "f.write() \ud568\uc218\ub97c \uc774\uc6a9\ud558\uc5ec lines\uc5d0 \uc800\uc7a5\ub41c \ub0b4\uc6a9\uc744 \ub77c\uc778\ub2e8\uc704\ub85c \ud30c\uc77c\uc5d0 \uc4f4 \ud6c4 \uadf8\uac83\uc744 \uc77d\uc5b4\uc628\ub2e4."
     ]
    },
    {
     "cell_type": "markdown",
     "metadata": {},
     "source": [
      " "
     ]
    },
    {
     "cell_type": "markdown",
     "metadata": {},
     "source": [
      "-  2) \ud30c\uc77c s.txt\uc744 \uc77d\uc5b4\uc11c \uac01 \ub77c\uc778\ub4e4\uc5d0 \uc788\ub294 \ub450 \ubc88\uc9f8 \ub2e8\uc5b4(\ubb38\uc790\uc5f4)\ub4e4\uc744 \uae30\uc900\uc73c\ub85c \ub77c\uc778\ubcc4 \uc815\ub82c\ud6c4 \ud30c\uc77c s2.txt\uc5d0 \uadf8 \uacb0\uacfc\ub97c \uae30\ub85d\ud558\ub294 \ucf54\ub4dc\ub97c \uc791\uc131\ud558\uc2dc\uc624. \uc989, \ud504\ub85c\uadf8\ub7a8 \uc218\ud589 \ud6c4 s2.txt\uc5d0 \uc788\ub294 \ud30c\uc77c \ub0b4\uc6a9\uc740 \ub2e4\uc74c\uacfc \uac19\ub2e4.\n",
      "\n",
      "    ham bird\n",
      "\n",
      "    cat dog\n",
      "\n",
      "    pig ham\n",
      "\n",
      "    dog pig"
     ]
    },
    {
     "cell_type": "code",
     "collapsed": false,
     "input": [
      "# 1\ubc88\uc9f8 \uc778\ub371\uc2a4\ub85c \ube44\uad50\ud558\uae30 \uc704\ud55c \uc815\uc758\n",
      "#====================================\n",
      "def mycmp(a1, a2) :\n",
      "    a1 = a1[1]\n",
      "    a2 = a2[1]\n",
      "    return cmp(a1, a2)\n",
      "#====================================\n",
      "\n",
      "f = open('s.txt')\n",
      "\n",
      "lines = []\n",
      "\n",
      "for tmpLine in f.readlines():\n",
      "    lines.append(tmpLine)\n",
      "#print lines\n",
      "\n",
      "lines2 = []\n",
      "for tmpLine2 in lines :\n",
      "    lines2.append(tmpLine2.split())   \n",
      "#print lines2\n",
      "del lines2[0]\n",
      "\n",
      "\n",
      "# mycmp\ub97c \uc774\uc6a9\ud558\uc5ec \ub9ac\uc2a4\ud2b8 \uc815\ub82c\n",
      "#====================================\n",
      "for tmp in lines2 :\n",
      "    lines2 = sorted(lines2, mycmp)\n",
      "    #lines2.sort(mycmp, key=None, reverse=False)\n",
      "#print lines2\n",
      "#====================================\n",
      "\n",
      "tmpList = []\n",
      "for tmp in lines2 :\n",
      "    tmpList.append(' '.join(tmp))\n",
      "#print tmpList\n",
      "\n",
      "f.close()\n",
      "\n",
      "\n",
      "# s2.txt\uc5d0 \ub0b4\uc6a9 \uc800\uc7a5\n",
      "#====================================\n",
      "f = open('s2.txt', 'w+')\n",
      "f.write('\\n'.join(tmpList))\n",
      "\n",
      "f.seek(0)\n",
      "print f.read()\n",
      "\n",
      "f.close()\n",
      "#===================================="
     ],
     "language": "python",
     "metadata": {},
     "outputs": [
      {
       "output_type": "stream",
       "stream": "stdout",
       "text": [
        "ham bird\n",
        "cat dog\n",
        "pig ham\n",
        "dog pig\n"
       ]
      }
     ],
     "prompt_number": 13
    },
    {
     "cell_type": "markdown",
     "metadata": {},
     "source": [
      "def\ub97c \uc774\uc6a9\ud55c mycmp\uc815\uc758\ub97c \ud1b5\ud574 1\ubc88\uc9f8 \uc778\ub371\uc2a4\ub85c \ube44\uad50\ud560 \uc218 \uc788\ub3c4\ub85d \ud55c\ub2e4.\n",
      "\n",
      "s.txt\ud30c\uc77c \ub9e8 \uccab\ubd80\ubd84\uc5d0 \uacf5\ubc31\uc774 \uc788\uc73c\ubbc0\ub85c, \ub9ac\uc2a4\ud2b8\ub85c \ub9cc\ub4e0 \ud6c4 del lines2[0]\uc744 \ud1b5\ud574 \uacf5\ubc31\ubd80\ubd84\uc744 \uc9c0\uc6cc\uc900\ub2e4. (\ucc98\uc74c \uc800\uc7a5\ud560\ub54c\ubd80\ud130 \uacf5\ubc31\uc744 \uc5c6\uc774 \uc800\uc7a5\ud560 \uc218\ub3c4 \uc788\uc74c)\n",
      "\n",
      "\uadf8\ub807\uac8c\ub418\uba74 [['ham', 'bird'], ['cat', 'dog'], ['pig', 'ham'], ['dog', 'pig']]\ud615\ud0dc\ub85c \uc800\uc7a5\uc774 \ub418\ub294\ub370\n",
      "\n",
      "\uc774 \ud615\ud0dc\ub85c\ub294 f.write()\uac00 \uc548\ub418\ubbc0\ub85c \ub9ac\uc2a4\ud2b8 \ub0b4\uc758 \ub9ac\uc2a4\ud2b8\ub4e4\uc744 \ubb38\uc790\uc5f4\ub85c \ud569\uce60 \ud544\uc694\uac00 \uc788\ub2e4."
     ]
    },
    {
     "cell_type": "markdown",
     "metadata": {},
     "source": [
      " - 3) \ud30c\uc77c s.txt\uc744 \uc77d\uc5b4\uc11c \uac01 \ub77c\uc778\ub4e4\uc5d0 \uc788\ub294 \ubaa8\ub4e0 \ub2e8\uc5b4\ub4e4\uc744 \uc21c\ucc28\uc801\uc73c\ub85c \ub2e4\uc2dc \ub098\uc5f4\ud558\ub418 \uac01 \ub77c\uc778\uc5d0 \uc138 \uac1c\uc758 \ub2e8\uc5b4\ub4e4\uc774 \uc624\ub3c4\ub85d \ud558\uc5ec s3.txt\uc5d0 \uae30\ub85d\ud558\ub294 \ucf54\ub4dc\ub97c \uc791\uc131\ud558\uc2dc\uc624. \uc989, \ud504\ub85c\uadf8\ub7a8 \uc218\ud589 \ud6c4 s3.txt\uc5d0 \uc788\ub294 \ud30c\uc77c \ub0b4\uc6a9\uc740 \ub2e4\uc74c\uacfc \uac19\ub2e4.\n",
      "\n",
      "    pig ham cat\n",
      "\n",
      "    dog ham bird\n",
      "\n",
      "    dog pig"
     ]
    },
    {
     "cell_type": "code",
     "collapsed": false,
     "input": [
      "# s.txt\ub97c \uc5f4\uc5b4 \ub77c\uc778\ubcc4\ub85c \uc77d\uc5b4\ub4e4\uc5ec \ub9ac\uc2a4\ud2b8\ub85c \uc800\uc7a5\n",
      "#====================================\n",
      "f = open('s.txt')\n",
      "\n",
      "lines = []\n",
      "for tmpLine in f.readlines():\n",
      "    lines.append(tmpLine)\n",
      "#print lines\n",
      "#====================================\n",
      "\n",
      "\n",
      "# \\n\uc744 \uc81c\uac70\ud558\uc5ec \ubb38\uc790\uc5f4\ub9cc\uc744 \ub9ac\uc2a4\ud2b8\uc5d0 \uc800\uc7a5\n",
      "#====================================\n",
      "lines2 = []\n",
      "for tmpLine2 in lines :\n",
      "    lines2.append(tmpLine2.split())   #\uacf5\ubc31\uc73c\ub85c \ubd84\ub9ac\ud55c \ub9ac\uc2a4\ud2b8\ub97c \ub9ac\uc2a4\ud2b8\uc5d0 \uc800\uc7a5\n",
      "del lines2[0]    # s.txt\uc5d0 \uc800\uc7a5\ub41c \\n\uc744 \uc81c\uac70\n",
      "#print lines2\n",
      "#====================================\n",
      "\n",
      "\n",
      "# \ub9ac\uc2a4\ud2b8 \ub0b4\uc758 \ub9ac\uc2a4\ud2b8\ub97c \uc5c6\uc560\uace0 \ud558\ub098\uc758 \ub9ac\uc2a4\ud2b8\uc5d0 \ubb38\uc790\uc5f4\uc744 \uc800\uc7a5\n",
      "#====================================\n",
      "tmpList = []\n",
      "for tmp in lines2 :\n",
      "    tmpList.append(' '.join(tmp))\n",
      "#print tmpList\n",
      "#====================================\n",
      "\n",
      "\n",
      "# \ub9ac\uc2a4\ud2b8\ub0b4\uc758 \ubb38\uc790\ub4e4\uc744 \ud558\ub098\uc758 \ubb38\uc790\uc5f4\ub85c \uc800\uc7a5\n",
      "#====================================\n",
      "tmpStr = ' '.join(tmpList)\n",
      "#print tmpStr\n",
      "#====================================\n",
      "\n",
      "\n",
      "# \ubb38\uc790\uc5f4\uc744 \uacf5\ubc31\uc744 \uae30\uc900\uc73c\ub85c \ub098\ub204\uc5b4 \ub9ac\uc2a4\ud2b8\uc5d0 \uc800\uc7a5\n",
      "#====================================\n",
      "tmpList3 = tmpStr.split(' ')\n",
      "#print tmpList3\n",
      "#====================================\n",
      "\n",
      "\n",
      "# 3\uac1c\uc529 \ub04a\uc5b4\uc11c \ucd9c\ub825\n",
      "#====================================\n",
      "tmpList4 = []\n",
      "tmpList5 = []\n",
      "for x in range(len(tmpList3)) :\n",
      "    tmpList4.append(tmpList3[x])\n",
      "    if len(tmpList4) % 3 == 0 :\n",
      "        tmpList5.append(' '.join(tmpList4))\n",
      "        del tmpList4[0:3]\n",
      "tmpList5.append(' '.join(tmpList4))\n",
      "#print tmpList5\n",
      "\n",
      "f.close()\n",
      "#====================================\n",
      "\n",
      "\n",
      "# s3.txt\uc5d0 \ub0b4\uc6a9 \uc800\uc7a5\n",
      "#====================================\n",
      "f = open('s3.txt', 'w+')\n",
      "f.write('\\n'.join(tmpList5))\n",
      "\n",
      "f.seek(0)\n",
      "print f.read()\n",
      "\n",
      "f.close()\n",
      "#===================================="
     ],
     "language": "python",
     "metadata": {},
     "outputs": [
      {
       "output_type": "stream",
       "stream": "stdout",
       "text": [
        "pig ham cat\n",
        "dog ham bird\n",
        "dog pig\n"
       ]
      }
     ],
     "prompt_number": 67
    },
    {
     "cell_type": "markdown",
     "metadata": {},
     "source": [
      "< \uac04\ub2e8\ud55c \uc124\uba85\uc740 \uc8fc\uc11d\uc73c\ub85c \ucc98\ub9ac >\n",
      "\n",
      "\ud575\uc2ec\uc778 3\uac1c\uc529 \ub04a\uc5b4\uc11c \ucd9c\ub825\ud558\ub294 \ubd80\ubd84 : \n",
      "\n",
      "-> \uc6b0\uc120 tmpList4\uc640 tmpLIst5\ub97c \uc120\uc5b8\ud55c\ub2e4. \n",
      "\n",
      "-> tmpList3\uc758 \uae38\uc774\ubbfc\ud07c for\ubb38\uc744 \ub3cc\uba74\uc11c \uadf8\ub3d9\uc548 tmpList4[x]\uc758 \ub9ac\uc2a4\ud2b8\uc5d0 tmpList3[x]\uc758 \ub0b4\uc6a9\uc744 \uc800\uc7a5\ud55c\ub2e4.\n",
      "\n",
      "-> tmpList4\uc758 \uae38\uc774\uac00 3\uc774 \ub418\uba74 join\uc744 \uc774\uc6a9\ud558\uc5ec \ud558\ub098\uc758 \ubb38\uc790\uc5f4\ub85c \ub9cc\ub4e0 \ud6c4 tmpList5\uc5d0 append\ud55c\ub2e4. \n",
      "\n",
      "-> tmpList4\uc758 \uc778\ub371\uc2a4 0\ubd80\ud130 3\uae4c\uc9c0 \uc800\uc7a5\ub41c \ub370\uc774\ud130\ub97c \uc9c0\uc6b4\ub2e4.\n",
      "\n",
      "-> 3\uc73c\ub85c \ub098\ub204\uc5b4\ub5a8\uc5b4\uc9c0\uc9c0 \uc54a\uace0 \ub05d\ub098\ub294 \uacbd\uc6b0, for\ubb38 \ubc16\uc5d0\uc11c tmpList4\uc5d0 \ub0a8\uc544\uc788\ub294 \ub370\uc774\ud130\ub97c tmpList5\uc5d0 append\ud55c\ub2e4."
     ]
    },
    {
     "cell_type": "markdown",
     "metadata": {},
     "source": [
      " "
     ]
    },
    {
     "cell_type": "markdown",
     "metadata": {},
     "source": [
      "# \ubb38\uc81c 2\ubc88\n",
      "\n",
      "\ub2e4\uc74c\uacfc \uac19\uc740 \uc870\uac74\ub4e4\uc744 \ucc38\uace0\ud558\uc5ec \ud68c\uc6d0 \uac00\uc785 \ubc0f \ub85c\uadf8\uc778 \ud504\ub85c\uadf8\ub7a8\uc744 \uc791\uc131\ud558\uc2dc\uc624. \n",
      "\n",
      "1) \ud504\ub85c\uadf8\ub7a8 \uc2dc\uc791 \ud6c4 \ub2e4\uc74c\uacfc \uac19\uc740 \uba54\uc2dc\uc9c0\uac00 \ucd9c\ub825\ub418\uc5b4 1, 2, 3 \uc911 \ud558\ub098\uc758 \uac12\uc744 \uc785\ub825 \ubc1b\ub3c4\ub85d \ud55c\ub2e4.\n",
      "\n",
      "Welcome to Our Service\n",
      "\n",
      "\n",
      "1. Sign Up\n",
      "\n",
      "2. Sign In\n",
      "\n",
      "3. Quit\n",
      "\n",
      "\n",
      "2) 1\uc744 \uc120\ud0dd\ud558\uba74 ID, Password, Name, School\uc758 4\uac00\uc9c0 \uc815\ubcf4\ub97c \uc785\ub825\ubc1b\uc544 \ud30c\uc77c\uc5d0 \uc800\uc7a5\ud558\ub294 \ud504\ub85c\uadf8\ub7a8\uc744 \uc791\uc131\ud55c\ub2e4.\n",
      "\n",
      "    2-1) \uc785\ub825\ub41c \ub0b4\uc6a9\uc740 access \ub77c\ub294 \uc774\ub984\uc758 \ud30c\uc77c \ub0b4\uc5d0 \uc800\uc7a5\ub41c\ub2e4. \n",
      "\n",
      "    2-2) access \ud30c\uc77c\uc758 \uac01 \ub77c\uc778\uc5d0\ub294 \uac00\uc785\ub41c \ud68c\uc6d0 \uac01\uac01\uc758 \uc815\ubcf4\uac00 \"id: password, name, school\" \ud615\ud0dc\ub85c \uc800\uc7a5\ub41c\ub2e4. \n",
      "\n",
      "    2-3) \uc989, \uac00\uc785 \ud68c\uc6d0\uc774 10\uba85\uc774\uba74 access \ud30c\uc77c \ub0b4\uc5d0 \ub77c\uc778 \uc218\ub3c4 \uc815\ud655\ud788 10\uc774\ub2e4. \n",
      "\n",
      "    2-4) \uc554\ud638\ud654 \ubc29\uc2dd\uc740 sha \ubaa8\ub4c8\uc744 \ud65c\uc6a9\ud55c\ub2e4. sha \ubaa8\ub4c8 \ud65c\uc6a9 \ubc29\ubc95\uc740 \ubcf8 \ubb38\uc81c\uc758 \ub9c8\uc9c0\ub9c9\uc5d0 \uc81c\uc2dc\ub41c sha \ud65c\uc6a9 \uc608\ub97c \ucc38\uace0\ud55c\ub2e4.\n",
      "\n",
      "   - \uc989, access \ud30c\uc77c \ub0b4\uc5d0 password \uc815\ubcf4\ub294 \uc554\ud638\ud654 \ub418\uc5b4 \uc800\uc7a5\ub418\uc5b4\uc57c \ud55c\ub2e4. \n",
      "\n",
      "    2-5) \ud68c\uc6d0 \uc815\ubcf4\ub97c \uc785\ub825 \ubc1b\uc744 \ub54c id\ub97c \uc785\ub825 \ubc1b\uc740 \uc9c1\ud6c4 access\ub97c \ud655\uc778\ud558\uc5ec \uc774\ubbf8 \uc874\uc7ac\ud558\ub294 id\uac00 \uc785\ub825\ub418\uc5c8\ub2e4\uba74 \ub2e4\uc74c \uba54\uc2dc\uc9c0\ub97c \ucd9c\ub825\ud558\uace0 id \uc815\ubcf4\ub97c \ub2e4\uc2dc \uc785\ub825\ubc1b\ub294\ub2e4.\n",
      "\n",
      "\n",
      "   - Sorry, the entered ID is already used. \n",
      "   \n",
      "3) 2\ub97c \uc120\ud0dd\ud558\uba74 ID, Password\uc758 2\uac00\uc9c0 \uc815\ubcf4\ub97c \uc785\ub825\ubc1b\ub294 \ud504\ub85c\uadf8\ub7a8\uc744 \uc791\uc131\ud55c\ub2e4.\n",
      "\n",
      "    3-1) \uc785\ub825\ub41c ID \uc815\ubcf4\uac00 access\uc5d0 \uc874\uc7ac\ud558\uc9c0 \uc54a\uc73c\uba74 \ub2e4\uc74c\uacfc \uac19\uc740 \uba54\uc2dc\uc9c0\ub97c \ucd9c\ub825\ud558\uace0 \ub2e4\uc2dc \uc785\ub825\ubc1b\ub294\ub2e4.\n",
      "\n",
      "        Sorry, you are not a registered member. \n",
      "\n",
      "    3-2) \uc785\ub825\ub41c ID\uac00 \uc62c\ubc14\ub974\uac8c \uc874\uc7ac\ud558\uc9c0\ub9cc Password \uc815\ubcf4\uac00 access \ud30c\uc77c\uc5d0 \uc788\ub294 \uc815\ubcf4\uc640 \ubd88\uc77c\uce58 \ud558\uba74 \ub2e4\uc74c\uacfc \uac19\uc740 \uba54\uc2dc\uc9c0\ub97c \ucd9c\ub825\ud558\uace0 \ub2e4\uc2dc \uc785\ub825\ubc1b\ub294\ub2e4.\n",
      "\n",
      "        Sorry, the entered password is not correct. \n",
      "\n",
      "        \uc774 \ub54c\uc5d0\ub3c4 \uc0ac\uc6a9\uc790\uac00 \uc785\ub825\ud55c \ud328\uc2a4\uc6cc\ub4dc \uc815\ubcf4\uc640 \ud568\uaed8 sha \ubaa8\ub4c8\uc774 \ud65c\uc6a9\ub418\uc5b4\uc57c \ud55c\ub2e4. \n",
      "\n",
      "    3-3) \uc785\ub825\ub41c ID\uc640 Password\uac00 \ubaa8\ub450 \uc62c\ubc14\ub974\uba74 \ub2e4\uc74c\uacfc \uac19\uc740 \uba54\uc2dc\uc9c0\ub97c \ucd9c\ub825\ud55c\ub2e4.\n",
      "\n",
      "        Hello [name]! \n",
      "\n",
      "        \uc704 [name]\uc5d0\ub294 access\uc5d0 \uae30\ub85d\ub418\uc5b4 \uc788\ub294 name \uc815\ubcf4\ub97c \ucd9c\ub825\ud55c\ub2e4. \n",
      "\n",
      "4) 3\uc744 \uc120\ud0dd\ud558\uba74 \ud504\ub85c\uadf8\ub7a8\uc774 \ub05d\ub09c\ub2e4. "
     ]
    },
    {
     "cell_type": "code",
     "collapsed": false,
     "input": [
      "import sha\n",
      "\n",
      "# \uba54\ub274 \ucd9c\ub825 \ubd80\ubd84\n",
      "def menu():\n",
      "    print \"Welcome To Our Service\"\n",
      "    print \"[ \ud68c\uc6d0\uac00\uc785 : 1     \ub85c\uadf8\uc778 : 2     \uc885\ub8cc : 3 ]\"\n",
      "\n",
      "# \ud68c\uc6d0\uac00\uc785 \ubd80\ubd84\n",
      "def sign_Up() :\n",
      "    f = open('access.txt', 'a+')\n",
      "    s = f.read()\n",
      "    s.split(':')             #  ':'\ub97c \uae30\uc900\uc73c\ub85c \ucabc\uac2c\n",
      "    lines = s.splitlines()   #  \ub77c\uc778\ubcc4\ub85c \ub9ac\uc2a4\ud2b8\ub85c \ub9cc\ub4e4\uc5b4 \uc800\uc7a5\n",
      "    \n",
      "    idLine = []\n",
      "    for line in lines :\n",
      "        idLine.append(line.split(':'))\n",
      "    \n",
      "    Id = raw_input('ID : ')\n",
      "    # \uc544\uc774\ub514 \uc874\uc7ac\uc5ec\ubd80 \ud655\uc778\n",
      "    for x in range(len(idLine)) :\n",
      "        if Id in idLine[x][0] :\n",
      "            print \"Sorry, the entered ID is already used.\"\n",
      "            Id = raw_input('ID : ')\n",
      "    pw = raw_input('Password : ')\n",
      "    name = raw_input('Name : ')\n",
      "    school = raw_input('School : ')\n",
      "    \n",
      "    # \ud328\uc2a4\uc6cc\ub4dc \uc554\ud638\ud654\ud558\uc5ec \uc800\uc7a5\n",
      "    pw_encrypted = sha.new(pw).hexdigest()\n",
      "\n",
      "    stuInfo = []\n",
      "    # stuInfo\uc5d0 \uc815\ubcf4 \uc800\uc7a5\n",
      "    stuInfo.append(Id)\n",
      "    stuInfo.append(pw_encrypted)\n",
      "    stuInfo.append(name)\n",
      "    stuInfo.append(school)\n",
      "    \n",
      "    stuInfo[0] = Id + ':'           # id: \ubc29\uc2dd\uc73c\ub85c \ucd9c\ub825\ud558\uae30 \uc704\ud568\n",
      "    stuInfo[1] = pw_encrypted + ',' # \ub098\uba38\uc9c0 \uc815\ubcf4\ub4e4\uc744 ','\ub97c \uc774\uc6a9\ud558\uc5ec \uad6c\ubd84\n",
      "    stuInfo[2] = name + ','\n",
      "    \n",
      "    f.close()\n",
      "    \n",
      "    f = open('access.txt', 'a+')\n",
      "    f.write(''.join(stuInfo))  # stuInfo \ub9ac\uc2a4\ud2b8\uc5d0 \uc800\uc7a5\ub41c \ub0b4\uc6a9\uc744 \ud30c\uc77c\uc5d0 \uc500\n",
      "    f.write('\\n')              # \ub77c\uc778\ubcc4\ub85c \uc800\uc7a5\ud558\uae30 \uc704\ud568\n",
      "\n",
      "    f.seek(0)\n",
      "    print f.read()\n",
      "\n",
      "    f.close()\n",
      "\n",
      "# \ub85c\uadf8\uc778 \ubd80\ubd84\n",
      "def sign_In() :\n",
      "    f = open('access.txt', 'a+')\n",
      "    \n",
      "    s = f.read()\n",
      "    s.split(':')             #  ':'\ub97c \uae30\uc900\uc73c\ub85c \ucabc\uac2c\n",
      "    lines = s.splitlines()   #  \ub77c\uc778\ubcc4\ub85c \ub9ac\uc2a4\ud2b8\ub85c \ub9cc\ub4e4\uc5b4 \uc800\uc7a5\n",
      "    \n",
      "    # id \ubd80\ubd84\uc744 ':'\uc744 \uae30\uc900\uc73c\ub85c \ub098\ub204\uc5b4 \uc800\uc7a5\n",
      "    idLine = []\n",
      "    for line in lines :\n",
      "        idLine.append(line.split(':'))\n",
      "        \n",
      "    # id\ub97c \uc81c\uc678\ud55c \ub098\uba38\uc9c0\ubd80\ubd84\uc744 ','\ub97c \uae30\uc900\uc73c\ub85c \ub098\ub204\uc5b4 \uc800\uc7a5\n",
      "    passwordLine = []\n",
      "    for x in range(len(idLine)) :\n",
      "        passwordLine.append(idLine[x][1].split(','))\n",
      "        \n",
      "    # id\uc758 \uc874\uc7ac \uc5ec\ubd80\ub97c \ud655\uc778\ud558\ub294 \ubc18\ubcf5\ubb38\n",
      "    x = 0\n",
      "    while x == 0 : \n",
      "        x = 1\n",
      "        Id = raw_input('ID : ') \n",
      "        for x in range(len(idLine)):\n",
      "            if idLine[x][0] == Id:\n",
      "                x = 1\n",
      "                break\n",
      "            else:\n",
      "                x = 0\n",
      "        if x == 0 :\n",
      "            print \"Sorry, you are not a registered member.\"\n",
      "     \n",
      "    # password\uc758 \uc77c\uce58 \uc5ec\ubd80\ub97c \ud655\uc778\ud558\ub294 \ubc18\ubcf5\ubb38\n",
      "    y = 0      \n",
      "    while y == 0: \n",
      "        y = 1                \n",
      "        pw = raw_input(\"Password : \")\n",
      "        pw_encrypted = sha.new(pw).hexdigest()\n",
      "        if passwordLine[x][0] == pw_encrypted :\n",
      "            y = 1\n",
      "            break\n",
      "        else:\n",
      "            y = 0\n",
      "        if y == 0 :\n",
      "            print \"Sorry, the entered password is not correct.\"\n",
      "    print \n",
      "    print \"Hello %s!\" % (passwordLine[x][1])\n",
      "                \n",
      "    f.close()\n",
      "    \n",
      "def quit() :\n",
      "    print \"Bye for now~ bro~!\"\n",
      "\n",
      "# \uba54\ub274\ud654\uba74 \ucd9c\ub825\n",
      "menu()\n",
      "\n",
      "sel = input('select : ')\n",
      "\n",
      "if sel == 1 :\n",
      "    sign_Up()\n",
      "elif sel == 2 :\n",
      "    sign_In()\n",
      "elif sel == 3 :\n",
      "    quit()\n",
      "else :\n",
      "    print \"Invalid Input!\""
     ],
     "language": "python",
     "metadata": {},
     "outputs": [
      {
       "output_type": "stream",
       "stream": "stdout",
       "text": [
        "Welcome To Our Service\n",
        "[ \ud68c\uc6d0\uac00\uc785 : 1     \ub85c\uadf8\uc778 : 2     \uc885\ub8cc : 3 ]\n"
       ]
      },
      {
       "name": "stdout",
       "output_type": "stream",
       "stream": "stdout",
       "text": [
        "select : 2\n"
       ]
      },
      {
       "name": "stdout",
       "output_type": "stream",
       "stream": "stdout",
       "text": [
        "ID : lim3496\n"
       ]
      },
      {
       "output_type": "stream",
       "stream": "stdout",
       "text": [
        "Sorry, you are not a registered member\n"
       ]
      },
      {
       "name": "stdout",
       "output_type": "stream",
       "stream": "stdout",
       "text": [
        "ID : limjs2468\n"
       ]
      },
      {
       "name": "stdout",
       "output_type": "stream",
       "stream": "stdout",
       "text": [
        "Password: dlawn78\n"
       ]
      },
      {
       "output_type": "stream",
       "stream": "stdout",
       "text": [
        "\n",
        "Hello joosung!\n"
       ]
      }
     ],
     "prompt_number": 3
    },
    {
     "cell_type": "markdown",
     "metadata": {},
     "source": [
      "< \uac04\ub2e8\ud55c \uc124\uba85\ub4e4\uc740 \ucf54\ub4dc\uc5d0 \uc8fc\uc11d\uc73c\ub85c \ucc98\ub9ac >\n",
      "\n",
      "1. sign_Up \ubd80\ubd84 (\uac19\uc740 \uc544\uc774\ub514 \uac00\uc785 \uc548\ub418\ub294 \ubd80\ubd84)\n",
      "\n",
      "-> ':'\ub97c \uae30\uc900\uc73c\ub85c id\uc640 \ub098\uba38\uc9c0 \ubd80\ubd84\uc73c\ub85c \ub098\ub204\uc5b4 \ub9ac\uc2a4\ud2b8\ub85c \uc800\uc7a5(idLine) -> idLine[x][0] \ubd80\ubd84\uc5d0 ID\uac00 \uc800\uc7a5\ub428 \n",
      "\n",
      "-> idLine[x][0]\uc744 \ud655\uc778\ud558\uba74\uc11c \ub3d9\uc77cID \uc874\uc7ac\uc5ec\ubd80 \ud655\uc778\n",
      "\n",
      "2. sign_In \ubd80\ubd84 \n",
      "\n",
      "-> ':'\ub97c \uae30\uc900\uc73c\ub85c id\uc640 \ub098\uba38\uc9c0 \ubd80\ubd84\uc73c\ub85c \ub098\ub204\uc5b4 \ub9ac\uc2a4\ud2b8\ub85c \uc800\uc7a5(idLine) -> \ub098\uba38\uc9c0 \ubd80\ubd84\uc744 ','\ub97c \uae30\uc900\uc73c\ub85c \ub098\ub204\uc5b4 \ub9ac\uc2a4\ud2b8\ub85c \uc800\uc7a5(passwordLine)\n",
      "\n",
      "-> idLine \ub9ac\uc2a4\ud2b8\ub97c \ub3cc\uba74\uc11c id\uc758 \uc874\uc7ac\uc5ec\ubd80\ub97c \ud655\uc778\ud558\uc5ec \uacb0\uacfc\ub97c \ubc18\ud658\ud55c\ub2e4. \uc874\uc7ac\ud558\uba74 \ubc18\ubcf5\ubb38\uc744 \ube60\uc838\ub098\uc628\ub2e4.\n",
      "\n",
      "-> passwordLine \ub9ac\uc2a4\ud2b8\ub97c \ub3cc\uba74\uc11c pw\uc758 \uc77c\uce58\uc5ec\ubd80\ub97c \ud655\uc778\ud558\uc5ec \uacb0\uacfc\ub97c \ubc18\ud658\ud55c\ub2e4. \uc874\uc7ac\ud558\uba74 \uc815\uc0c1\uc801\uc73c\ub85c \uacb0\uacfc\ub97c \ucd9c\ub825\ud558\uace0 \ud2c0\ub9ac\uba74 password\ub97c \uc7ac\uc785\ub825\ud55c\ub2e4."
     ]
    },
    {
     "cell_type": "markdown",
     "metadata": {},
     "source": [
      " "
     ]
    },
    {
     "cell_type": "markdown",
     "metadata": {},
     "source": [
      "# \ubb38\uc81c 3\ubc88\n",
      "\n",
      " range() \ud568\uc218\uc640 \uc720\uc0ac\ud55c frange() \ud568\uc218\ub97c \ub2e4\uc74c \uc870\uac74\uc744 \ucc38\uace0\ud558\uc5ec \ub9cc\ub4dc\uc2dc\uc624.\n",
      " \n",
      "1) frange()\uc758 \uc778\uc790 \uad6c\uc131\uc740 \ub2e4\uc74c\uacfc \uac19\uc774 range\uc640 \ub3d9\uc77c\ud558\uc9c0\ub9cc \uac01 \uc778\uc218\ub4e4\uc740 \uc74c\uc218\ub97c \ubc1b\uc9c0 \uc54a\ub294\ub2e4\uace0 \uac00\uc815\ud55c\ub2e4.\n",
      "\n",
      "    range(stop)\n",
      "\n",
      "    range(start, stop[, step])\n",
      "\n",
      "\n",
      "2) frange() \ud568\uc218\uc758 \uc778\uc790\uc5d0 \ub300\ud55c \uae30\ubcf8 \uc2dc\uc791(start) \uac12\uc740 0.0\uc774\uace0, \uae30\ubcf8 \ub2e8\uacc4(step) \uac12\uc740 0.1\uc774\ub2e4. \n",
      "\n",
      "3) frange \uc0ac\uc6a9 \uc608\n",
      "\n",
      "    3-1) frange(0.5)\n",
      "\n",
      "        [0.0, 0.1, 0.2, 0.3, 0.4] \n",
      "\n",
      "    3-2) frange(1.0, 2.0)\n",
      "\n",
      "        [1.0, 1.1, 1.2, 1.3, 1.4, 1.5, 1.6, 1.7, 1.8, 1.9] \n",
      "\n",
      "    3-3) frange(2.2, 4.0, 0.5)\n",
      "\n",
      "        [2.2, 2.7, 3.2, 3.7] "
     ]
    },
    {
     "cell_type": "markdown",
     "metadata": {},
     "source": [
      "- decimal\uc744 \uc0ac\uc6a9\ud558\uc9c0 \uc54a\uace0 \ucf54\ub529"
     ]
    },
    {
     "cell_type": "code",
     "collapsed": false,
     "input": [
      "def frange(start, stop = None, step = None) :\n",
      "    if stop == None:\n",
      "        stop = start + 0.0\n",
      "        start = 0.0\n",
      "\n",
      "    if step == None:\n",
      "        step = 0.1\n",
      "    \n",
      "    # \ubc18\ubcf5\ubb38\uc744 \uc704\ud55c \ubcc0\uc218\ub97c \uad6c\ud558\ub294 \uacfc\uc815\n",
      "    cnt = 0\n",
      "    result = start\n",
      "    while 1 :\n",
      "        if result < stop :\n",
      "            result += step\n",
      "            cnt += 1\n",
      "        else :\n",
      "            break;\n",
      "    \n",
      "    # \uacb0\uacfc\ub97c \ub9ac\uc2a4\ud2b8\ub85c \uc800\uc7a5\ud558\uc5ec \ucd9c\ub825\ud558\ub294 \ubc18\ubcf5\ubb38\n",
      "    x = 0\n",
      "    resultList = []\n",
      "    while 1 :\n",
      "        resultList.append(start)\n",
      "        start += step     \n",
      "        if x == cnt-1 :\n",
      "            break\n",
      "        else :\n",
      "            x += 1\n",
      "    print resultList\n",
      "    print\n",
      "    \n",
      "frange(0.5)\n",
      "frange(1.0, 2.0)\n",
      "frange(2.2, 4.0, 0.5)"
     ],
     "language": "python",
     "metadata": {},
     "outputs": [
      {
       "output_type": "stream",
       "stream": "stdout",
       "text": [
        "[0.0, 0.1, 0.2, 0.30000000000000004, 0.4]\n",
        "\n",
        "[1.0, 1.1, 1.2000000000000002, 1.3000000000000003, 1.4000000000000004, 1.5000000000000004, 1.6000000000000005, 1.7000000000000006, 1.8000000000000007, 1.9000000000000008]\n",
        "\n",
        "[2.2, 2.7, 3.2, 3.7]\n",
        "\n"
       ]
      }
     ],
     "prompt_number": 1
    },
    {
     "cell_type": "markdown",
     "metadata": {},
     "source": [
      "\uc778\uc790\uac00 \ud558\ub098\uc77c \ub54c, \uc2e4\uc81c\uc801\uc778 \ub0b4\uc6a9\uc73c\ub85c\ub294 stop\uc774\uc9c0\ub9cc \uc77c\ubc18\uc778\uc790 \uc55e\uc5d0 \ub514\ud3f4\ud2b8 \uc778\uc790\uac00 \uc62c \uc218 \uc5c6\uc73c\ubbc0\ub85c \n",
      "\n",
      " if stop == None:\n",
      " \n",
      "        stop = start + 0.0\n",
      "        \n",
      "        start = 0.0\n",
      "        \n",
      " \ub97c \uc774\uc6a9\ud558\uc5ec \ucc98\ub9ac\ud55c\ub2e4. \ucc98\uc74c\uc5d0\ub294 for\ubb38\uc744 \uc774\uc6a9\ud558\uc5ec \ubb38\uc790\ud615\ud0dc\ub85c 0.0 0.1 0.2 0.3 0.4 \ucc98\ub7fc \ucd9c\ub825\ud558\ub824\uace0 \ud558\uc600\uc73c\ub098,\n",
      " \n",
      " \ubb38\uc81c\ub97c \ubcf4\ub2c8 \ub9ac\uc2a4\ud2b8\ud615\ud0dc\ub85c \ucd9c\ub825\uc774 \ub418\uc5b4\uc788\uc5b4 \ub9ac\uc2a4\ud2b8\ub85c \uc800\uc7a5\ud558\uc5ec \ucd9c\ub825\uc744 \uc2dc\ud0b4 (\ubcf4\uc774\ub294 \uacb0\uacfc\uac12\uacfc \uac19\uc774 \uc624\ucc28\uac00 \uadf8\ub300\ub85c \ucd9c\ub825\ub428\uc744 \ubcfc \uc218 \uc788\ub2e4.)\n",
      " \n",
      " < \uad50\uc218\ub2d8\uaed8\uc11c \uc774\ubd80\ubd84\uc740 \uadf8\ub0e5 \ub118\uc5b4\uac00\ub3c4 \uc88b\ub2e4\uace0 \ud558\uc168\uc73c\ubbc0\ub85c \ub530\ub85c \ucc98\ub9ac\ub294 \ud558\uc9c0 \uc54a\uc74c >"
     ]
    },
    {
     "cell_type": "markdown",
     "metadata": {},
     "source": [
      " "
     ]
    },
    {
     "cell_type": "markdown",
     "metadata": {},
     "source": [
      "# \ubb38\uc81c 4\ubc88\n",
      "\n",
      "\uac00\ubcc0\uc778\uc218\ub97c \ubc1b\ub294 \ud568\uc218 sum()\uc744 \ub2e4\uc74c\uacfc \uac19\uc740 \uc870\uac74\uc744 \ucc38\uace0\ud558\uc5ec \uad6c\ud604\ud558\uc2dc\uc624\n",
      "\n",
      "1) sum() \uc0ac\uc6a9 \uc608 \n",
      "\n",
      "    sum()\n",
      "        0 \n",
      "    sum(1, 2)\n",
      "        3 \n",
      "    sum(1, 2, 3, 4, 5)\n",
      "        15 \n",
      "    sum(1, 5, 7, 2, -10)\n",
      "        5 "
     ]
    },
    {
     "cell_type": "code",
     "collapsed": false,
     "input": [
      "def sum(a, *arg):\n",
      "    result = a\n",
      "    \n",
      "    for x in arg :\n",
      "        result += x\n",
      "    \n",
      "    print result\n",
      "\n",
      "sum(1)\n",
      "sum(1, 2)\n",
      "sum(1, 2, 3, 4, 5)\n",
      "sum(1, 5, 7, 2, -10)"
     ],
     "language": "python",
     "metadata": {},
     "outputs": [
      {
       "output_type": "stream",
       "stream": "stdout",
       "text": [
        "1\n",
        "3\n",
        "15\n",
        "5\n"
       ]
      }
     ],
     "prompt_number": 72
    },
    {
     "cell_type": "markdown",
     "metadata": {},
     "source": [
      "def\ub97c \uc774\uc6a9\ud558\uc5ec sum(a, *arg)\ud568\uc218\ub97c \uc815\uc758\ud55c\ub2e4. (\ud568\uc218 \uc815\uc758\uc2dc \uc77c\ubc18\uc801\uc778 \uc778\uc218 \uc120\uc5b8 \ub4a4\uc5d0 *var \ud615\uc2dd\uc758 \uc778\uc218\ub85c \uac00\ubcc0 \uc778\uc218\ub97c \uc120\uc5b8\ud560 \uc218 \uc788\uc74c)\n",
      "\n",
      "result\uac12\uc744 \uc77c\ubc18 \uc778\uc218 a\ub85c \ucd08\uae30\ud654\ud55c\ub2e4.\n",
      "\n",
      "\ud568\uc218\uc815\uc758 \ub0b4\ubd80\uc5d0\uc11c for\ubb38\uc744 \uc774\uc6a9\ud558\uc5ec result\uc5d0 \uac00\ubcc0\uc778\uc218\ub4e4\uc744 \ub354\ud574\uc11c \uc800\uc7a5\ud55c\ub2e4."
     ]
    },
    {
     "cell_type": "markdown",
     "metadata": {},
     "source": [
      " "
     ]
    },
    {
     "cell_type": "markdown",
     "metadata": {},
     "source": [
      "# \ubb38\uc81c 5\ubc88\n",
      "\n",
      "\uc5ec\ub7ec \ub2e8\uc5b4\ub85c \uc774\ub8e8\uc5b4\uc9c4 \ubb38\uc790\uc5f4\uc744 \uc785\ub825\ubc1b\uc544 \uac01 \ub2e8\uc5b4\uc758 \uccab\uae00\uc790\ub85c \uc774\ub8e8\uc5b4\uc9c4 \ub2e8\uc5b4\ub97c \ub300\ubb38\uc790\ub85c \ucd9c\ub825\ud558\ub294 myinitial() \ud568\uc218\ub97c \ub2e4\uc74c \uc870\uac74\uc744 \ucc38\uace0\ud558\uc5ec \uc791\uc131\ud558\uc2dc\uc624.\n",
      "\n",
      "1) split, map, join \ud568\uc218\ub97c \ubaa8\ub450 \uc774\uc6a9\ud574\uc57c \ud55c\ub2e4. \n",
      "\n",
      "2) myinitial() \ud568\uc218 \uc0ac\uc6a9 \uc608\n",
      "\n",
      "myinitial(\"as soon as possible\")\n",
      "\n",
      "ASAP "
     ]
    },
    {
     "cell_type": "code",
     "collapsed": false,
     "input": [
      "def change(word) :\n",
      "    lowerToUpper = word.upper()\n",
      "    return lowerToUpper\n",
      "\n",
      "def myinitial(string) :\n",
      "    tmpList = string.split(' ')\n",
      "    \n",
      "    wordList = []\n",
      "    for x in range(len(tmpList)) :\n",
      "        wordList.append(tmpList[x][0])\n",
      "     \n",
      "    tmpWord = map(change, wordList) \n",
      "    word = ''.join(tmpWord)\n",
      "    \n",
      "    print word\n",
      "\n",
      "myinitial('as soon as possible')\n",
      "myinitial('my name is limjoosung')"
     ],
     "language": "python",
     "metadata": {},
     "outputs": [
      {
       "output_type": "stream",
       "stream": "stdout",
       "text": [
        "ASAP\n",
        "MNIL\n"
       ]
      }
     ],
     "prompt_number": 30
    },
    {
     "cell_type": "markdown",
     "metadata": {},
     "source": [
      "\uc18c\ubb38\uc790\ub97c \ub300\ubb38\uc790\ub85c \ubc14\uafb8\uc5b4\uc8fc\ub294 \ud568\uc218 change()\ub97c \uc6b0\uc120 \uc815\uc758\ud55c\ub2e4. (\ubcc0\ud654\ub41c \ub300\ubb38\uc790\ub97c \ub9ac\ud134)\n",
      "\n",
      "myinitial()\ud568\uc218\n",
      "\n",
      "-> \uacf5\ubc31\uc744 \uae30\uc900\uc73c\ub85c \ubb38\uc790\uc5f4\uc744 \ucabc\uac1c\uc5b4 tmpList\ub85c \uc800\uc7a5 -> wordList\ub97c \uc0dd\uc131, \ubc18\ubcf5\ubb38\uc744 \ub3cc\uba74\uc11c tmpList\uc5d0 \uac01 \uc778\ub371\uc2a4\uc5d0 \uc800\uc7a5\ub41c \ubb38\uc790\uc758 \uccab\uae00\uc790\ub97c wordList\uc5d0 \uc800\uc7a5\n",
      "\n",
      "-> map\uc744 \uc774\uc6a9\ud558\uc5ec wordList\uc758 \uac01 \uc6d0\uc18c\uac12\ub4e4\uc744 change\uc5d0 \uc801\uc6a9\ud558\uc5ec \ubc18\ud658\ub41c \uac12\uc744 tmpWord\uc5d0 \uc800\uc7a5 -> join()\uc744 \uc774\uc6a9\ud558\uc5ec \ub9ac\uc2a4\ud2b8\ub97c \ubb38\uc790\uc5f4\ub85c \ubcc0\ud658"
     ]
    },
    {
     "cell_type": "markdown",
     "metadata": {},
     "source": [
      " "
     ]
    },
    {
     "cell_type": "markdown",
     "metadata": {},
     "source": [
      "# \ubb38\uc81c 6\ubc88\n",
      "\n",
      "\uc74c\uc774 \uc544\ub2cc \uc815\uc218 n\ub97c \uc785\ub825\ubc1b\uc73c\uba74 n! (factorial)\uc744 \uacc4\uc0b0\ud558\ub294 myfact() \ud568\uc218\ub97c \uc7ac\uadc0\uc801 \ud568\uc218\ub85c \uad6c\ud604\ud558\uc2dc\uc624. "
     ]
    },
    {
     "cell_type": "code",
     "collapsed": false,
     "input": [
      "def factorial(num) :\n",
      "    if num == 1 :\n",
      "        return 1\n",
      "    return num * factorial(num - 1)\n",
      "\n",
      "i = input('int :')\n",
      "\n",
      "print factorial(i)"
     ],
     "language": "python",
     "metadata": {},
     "outputs": [
      {
       "name": "stdout",
       "output_type": "stream",
       "stream": "stdout",
       "text": [
        "int :5\n"
       ]
      },
      {
       "output_type": "stream",
       "stream": "stdout",
       "text": [
        "120\n"
       ]
      }
     ],
     "prompt_number": 70
    },
    {
     "cell_type": "markdown",
     "metadata": {},
     "source": [
      "def\ub97c \uc774\uc6a9\ud558\uc5ec factorial()\ud568\uc218\ub97c \uc815\uc758\ud55c\ub2e4.\n",
      "\n",
      "\uc7ac\uadc0\ud568\uc218\ub97c \uc774\uc6a9\ud558\uc5ec factorial\uc744 \uacc4\uc0b0\ud558\uba70 1\uc529 \uac10\uc18c\uc2dc\ud0a8 \uac12\uc744 \ub300\uc785\ud558\uc5ec \ud568\uc218\ub97c \ud638\ucd9c\ud55c\ub2e4.\n",
      "\n",
      "num\uc774 1\uc774 \ub418\uba74 \ub9c8\uc9c0\ub9c9\uc73c\ub85c 1\uc744 \ub9ac\ud134\ud558\uc5ec factorial\uc758 \uacb0\uacfc\uac12\uc744 \ucd9c\ub825\ud558\uac8c \ub41c\ub2e4."
     ]
    },
    {
     "cell_type": "markdown",
     "metadata": {},
     "source": [
      " "
     ]
    },
    {
     "cell_type": "markdown",
     "metadata": {},
     "source": [
      "# \ubb38\uc81c 7\ubc88\n",
      "\n",
      "(\uc11c\uc220\ud615) import string \uacfc from string import * \uc758 \ucc28\uc774\uc810\uc744 \uc124\uba85\ud558\uc2dc\uc624. \n",
      "\n",
      "======================================================================"
     ]
    },
    {
     "cell_type": "markdown",
     "metadata": {},
     "source": [
      "import string \uacfc from string import * \ubaa8\ub450 string \ubaa8\ub4c8\uc744 \ubd88\ub7ec\uc624\ub294 \uac83\uc774\ub2e4.\n",
      "\n",
      "-> import string\uc758 \uacbd\uc6b0 \ud574\ub2f9 \ubaa8\ub4c8\uc5d0 \uc874\uc7ac\ud558\ub294\n",
      "\n",
      "'__'\ub85c \uc2dc\uc791\ub418\ub294 \uc774\ub984\ub4e4\uc744 \ud3ec\ud568\ud55c \ubaa8\ub4e0 \uc774\ub984\ub4e4\uc744 \ud604\uc7ac \uc774\ub984 \uacf5\uac04\uc73c\ub85c \ubd88\ub7ec\ub4e4\uc778\ub2e4.\n",
      "\n",
      "\n",
      "\n",
      "\n",
      "-> from string import * \uc758 \uacbd\uc6b0 \ud574\ub2f9 \ubaa8\ub4c8\uc5d0 \uc874\uc7ac\ud558\ub294 \n",
      "\n",
      "'__'\ub85c \uc2dc\uc791\ub418\ub294 \uc774\ub984\ub4e4\uc744 \uc81c\uc678\ud55c \ubaa8\ub4e0 \uc774\ub984\ub4e4\uc744 \ud604\uc7ac \uc774\ub984 \uacf5\uac04\uc73c\ub85c \ubd88\ub7ec\ub4e4\uc778\ub2e4. \n",
      "\n"
     ]
    },
    {
     "cell_type": "markdown",
     "metadata": {},
     "source": [
      " "
     ]
    },
    {
     "cell_type": "markdown",
     "metadata": {},
     "source": [
      "# \ubb38\uc81c 8\ubc88\n",
      "\n",
      "\uc774\uc804 Assignment 3\uc758 \ub9c8\uc9c0\ub9c9 \ubb38\uc81c\ub294 \uc6f9 URL\ub85c \uc9c0\uc815\ub41c \uc6f9\ud398\uc774\uc9c0\ub97c \ubb38\uc790\uc5f4\ub85c \uac00\uc838\uc640 \ubaa8\ub4e0 HTML \ud0dc\uadf8 \ubc0f CSS\uc640 Javascript\ub97c \uc81c\uc678\ud55c \uc21c\uc218 \ud14d\uc2a4\ud2b8\ub97c \uc5bb\uc5b4\ub0b4\uace0 \uadf8 \uc548\uc5d0 \uc874\uc7ac\ud558\ub294 \ub2e8\uc5b4\ub97c \ucd94\ucd9c\ud558\uc5ec \uac01 \ub2e8\uc5b4\ub4e4\uc5d0 \ub300\ud574 \ucd9c\ud604\ube48\ub3c4\ub97c \uc0ac\uc804\ud615\ud0dc({'world': 2, 'hello': 1, 'python': 1})\ub85c \uc800\uc7a5\ud558\uc5ec \ucd9c\ub825\ud558\ub294 \uac83\uc774\uc5c8\ub2e4. \uc774\ubc88\uc5d0\ub294 Assignment 3\ub97c \ud655\uc7a5\ud558\uc5ec \ub2e4\uc74c\uacfc \uac19\uc740 \uc870\uac74\uc744 \ub9cc\uc871\ud558\ub3c4\ub85d \uad6c\ud604\ud558\uc2dc\uc624. \n",
      "\n",
      "1) \uac01 URL\ub85c \uc9c0\uc815\ub41c \uc6f9\ud398\uc774\uc9c0\uc758 HTML \uc18c\uc2a4\ub97c \ud30c\uc77c\ub85c \uc800\uc7a5\ud558\uc2dc\uc624. \n",
      "\n",
      "    URL\uc774 http://URL \uc774\ub77c\uba74 \ud30c\uc77c\uba85\uc740 URL.html \uc774\ub2e4. \n",
      "\n",
      "    \uc608: URL\uc774 http://www.koreatech.ac.kr \uc774\ub77c\uba74 \ud30c\uc77c\uba85\uc740 www.koreatech.ac.kr.html \uc774\ub2e4. \n",
      "\n",
      "2) \ub2e8\uc5b4\uc758 \ucd9c\ud604\ube48\ub3c4\uac00 \ub2f4\uae34 \uc0ac\uc804 \uac1d\uccb4\ub97c \uc704 HTML \uc18c\uc2a4 \ud30c\uc77c\uacfc \ub3d9\uc77c\ud55c \ud3f4\ub354\uc5d0 \ud30c\uc77c\ub85c \uc800\uc7a5\ud558\uc2dc\uc624.\n",
      "\n",
      "    \uad50\uc7ac 11-2 \ud53c\ud074\ub9c1 \ubc29\ubc95\uc744 \ud65c\uc6a9\ud558\uc2dc\uc624. \n",
      "\n",
      "    URL\uc774 http://URL \uc774\ub77c\uba74 \ud30c\uc77c\uba85\uc740 URL.words.frequency \uc774\ub2e4. \n",
      "\n",
      "    \uc608: URL\uc774 http://www.koreatech.ac.kr \uc774\ub77c\uba74 \ud30c\uc77c\uba85\uc740 www.koreatech.ac.kr.words.frequency \uc774\ub2e4. \n",
      "\n",
      "3) \ucd5c\uc18c 5\uac1c \uc774\uc0c1\uc758 \uc6f9 \uc0ac\uc774\ud2b8\uc5d0 \ub300\ud55c HTML \uc18c\uc2a4 \ud30c\uc77c\uacfc \ub2e8\uc5b4 \ucd9c\ud604\ube48\ub3c4 \ud30c\uc77c\uc744 \uc800\uc7a5\ud558\uc2dc\uc624. \n",
      "\n",
      "    \uc989, \ucd1d 10\uac1c\uc758 \ud30c\uc77c\uc744 \ub3d9\uc77c\ud55c \ud3f4\ub354\uc5d0 \uc0dd\uc131\ud558\uc2dc\uc624. "
     ]
    },
    {
     "cell_type": "code",
     "collapsed": false,
     "input": [
      "import urllib\n",
      "import string\n",
      "import pickle\n",
      "\n",
      "k = string.punctuation\n",
      "\n",
      "source = urllib.urlopen(\"https://cms.kut.ac.kr/user/indexMain.action?siteId=arch\").read()\n",
      "\n",
      "#\n",
      "#======================================================\n",
      "len_source = len(source)\n",
      "\n",
      "source_new = None\n",
      "i = 0\n",
      "while (i < len_source):\n",
      "    found = False\n",
      "    if (found != True and source[i] == \"<\" and source[i+1 : i+7].lower() == \"script\"):\n",
      "        found = True;\n",
      "        j = i + 7;\n",
      "        while (True):\n",
      "            if (source[j] == \"<\" and source[j+1] == \"/\" and source[j+2 : j+8].lower() == \"script\"):\n",
      "                #print \"found - script\"\n",
      "                source = source[:i] + ' ' + source[j+9:]\n",
      "                break\n",
      "            j = j + 1\n",
      "            if (j > len_source):\n",
      "                break\n",
      "        len_source = len(source)\n",
      "    i = i + 1\n",
      "\n",
      "len_source = len(source)\n",
      "\n",
      "i = 0\n",
      "while (i < len_source):\n",
      "    found = False\n",
      "    if (found != True and source[i] == \"<\" and source[i+1 : i+6].lower() == \"style\"):\n",
      "        found = True;\n",
      "        j = i + 6;\n",
      "        while (True):\n",
      "            if (source[j] == \"<\" and source[j+1] == \"/\" and source[j+2 : j+7].lower() == \"style\"):\n",
      "                #print \"found - style\"\n",
      "                source = source[:i] + ' ' + source[j+8:]\n",
      "                break\n",
      "            j = j + 1\n",
      "            if (j > len_source):\n",
      "                break\n",
      "        len_source = len(source)\n",
      "    i = i + 1\n",
      "\n",
      "len_source = len(source)\n",
      "\n",
      "i = 0\n",
      "while (i < len_source):\n",
      "    found = False\n",
      "    if (found != True and source[i] == \"<\"):\n",
      "        found = True;\n",
      "        j = i + 1;\n",
      "        while (True):\n",
      "            if (source[j] == \">\"):\n",
      "                #print \"found - HTML tag\"\n",
      "                source = source[:i] + ' ' + source[j+1:]\n",
      "                break\n",
      "            j = j + 1\n",
      "            if (j > len_source):\n",
      "                break\n",
      "        len_source = len(source)\n",
      "    i = i + 1\n",
      "\n",
      "len_source = len(source)\n",
      "\n",
      "wordList = source.split()\n",
      "\n",
      "source = \" \".join(wordList)\n",
      "\n",
      "# \uad6c\ub450\ubb38\uc790 \uc81c\uac70 \ud6c4 \ucd9c\ub825 new_src\n",
      "new_src = source.translate(None, k)\n",
      "\n",
      "dictList = new_src.split()\n",
      "\n",
      "tmp_list = []\n",
      "\n",
      "for x in range(len(dictList)) :\n",
      "    if (dictList[x] not in tmp_list) :\n",
      "        tmp_list.append(dictList[x])\n",
      "\n",
      "values = []\n",
      "for x in range(len(tmp_list)) :\n",
      "    values.append(new_src.count(tmp_list[x]))\n",
      "\n",
      "print\n",
      "print '\uc0ac\uc804 \ud615\uc2dd\uc73c\ub85c (\ub2e8\uc5b4 \ucd9c\ub825\ud69f\uc218 \ucd9c\ub825)'\n",
      "print '==========================================================================================================================='\n",
      "\n",
      "dic = dict()\n",
      "\n",
      "for x in range(len(tmp_list)) :\n",
      "    dic[tmp_list[x]] = values[x]\n",
      "\n",
      "print '{',\n",
      "for key in dic.keys() :\n",
      "    print '\\'' + key + ':',\n",
      "    print str(dic[key]) + '\\'' + ',',\n",
      "print '}'\n",
      "\n",
      "f = open('arch.koreatech.ac.kr.word.frequency.txt', 'w')\n",
      "\n",
      "# \ud53c\ud074\ub9c1\uc744 \uc774\uc6a9\ud558\uc5ec f\uc5d0 dic\uc758 \ub0b4\uc6a9\uc744 \uc800\uc7a5\n",
      "pickle.dump(dic, f)\n",
      "\n",
      "f.close()"
     ],
     "language": "python",
     "metadata": {},
     "outputs": [
      {
       "output_type": "stream",
       "stream": "stdout",
       "text": [
        "\n",
        "\uc0ac\uc804 \ud615\uc2dd\uc73c\ub85c (\ub2e8\uc5b4 \ucd9c\ub825\ud69f\uc218 \ucd9c\ub825)\n",
        "===========================================================================================================================\n",
        "{ '\ud559\ubd80\uc18c\uac1c: 1', '\ud604\ub300\uac74\uc1242013: 1', '\uac74\ucd95\uacf5\ud559\ubd80: 1', 'nbsp: 7', '\uc785\ud559\uc548\ub0b4: 1', '\ud604\ub300\uac74\uc124: 2', '\ud648\ud398\uc774\uc9c0: 1', '\ud559\ubd80\uacf5\uc9c0: 1', '0524: 1', '\ucee4\ubba4\ub2c8\ud2f0: 1', '\ube44\ubc00\ubc88\ud638: 1', '\ubcf8\ubb38\ubc14\ub85c\uac00\uae30: 1', '\uc0ac\uc774\ud2b8\ub9f5: 1', '\uc8fc\uba54\ub274\ubc14\ub85c\uac00\uae30: 1', '0506: 1', '\ud68c\uc6d0\ub85c\uadf8\uc778: 1', '\ud68c\uc6d0\uac00\uc785: 1', '\u300e\uc0bc\uc131: 1', '\uc544\uc774\ub514: 1', '\uc790\uc720\uac8c\uc2dc\ud310: 1', '\ud648: 2', '\ucc44\uc6a9\ud55c\ub9c8\ub2f9\u300f\ud611: 1', '\ud559\uc0dd\ud65c\ub3d9: 1', '\ub354\ubcf4\uae30: 2', '\ud611\ub825\uc0ac: 1', '\ub85c\uadf8\uc778\uc601\uc5ed: 1', '\uac8c\uc2dc\uae00: 2', 'login: 1', '\ucd5c\uc2e0: 2', }\n"
       ]
      }
     ],
     "prompt_number": 50
    },
    {
     "cell_type": "markdown",
     "metadata": {},
     "source": [
      "1\ubc88 : \n",
      "\n",
      "import urllib\n",
      "\n",
      "source = urllib.urlopen(\"https://arch.koreatech.ac.kr/\").read()\n",
      "\n",
      "f = open('www.arch.koreatech.ac.kr.html', 'w')\n",
      "\n",
      "f.write(source) \n",
      "\n",
      "f.close() \ub97c \uc774\uc6a9\ud558\uc5ec 5\uac1c\uc758 html \ud30c\uc77c\uc744 \uc0dd\uc131 \ubc0f \uc800\uc7a5\n",
      "\n",
      "2\ubc88 : \ud53c\ud074\ub9c1\ubc29\ubc95\uc744 \uc774\uc6a9\ud558\uc5ec \uac01\uac01\uc758 URL.word.frequency.txt\uc5d0 dic\uc758 \ub0b4\uc6a9\uc744 \uc800\uc7a5\n",
      "\n",
      "3\ubc88 : \uac01 5\uac1c\uc529 \uc791\uc5c5 \uc644\ub8cc\n",
      "\n",
      "<\ub3cc\uc544\uac10\uc744 \ud655\uc778\ud558\uae30\uc704\ud558\uc5ec dic\uc5d0 \uc800\uc7a5\ub41c \ub0b4\uc6a9\uc744 \ucd9c\ub825\ud558\uc600\ub2e4.>"
     ]
    },
    {
     "cell_type": "markdown",
     "metadata": {},
     "source": [
      " "
     ]
    },
    {
     "cell_type": "markdown",
     "metadata": {},
     "source": [
      "# \ubb38\uc81c 9\ubc88\n",
      "\n",
      "\uc704 \ubb38\uc81c\uc5d0\uc11c \uc800\uc7a5\ud55c \ubaa8\ub4e0 words.frequency \ud30c\uc77c\ub4e4\uc744 \ub85c\ub4dc \ud558\uc5ec \ubcf8\uc778\uc774 \uc800\uc7a5\ud558\uc5ec \ubd84\uc11d\ud55c \uc0ac\uc774\ud2b8\ub4e4\uc5d0\uc11c \uac00\uc7a5 \ub9ce\uc774 \ucd9c\ud604\ud55c \ub2e8\uc5b4\ub97c \ubf51\uc544 \uc81c\uc2dc\ud558\uc2dc\uc624.\n",
      "\n",
      "8\ubc88 \ubb38\uc81c\uc640\ub294 \ub2e4\ub978 \ubcc4\ub3c4\uc758 \ud504\ub85c\uadf8\ub7a8\uc73c\ub85c \uc791\uc131\ud558\uc2dc\uc624. "
     ]
    },
    {
     "cell_type": "code",
     "collapsed": false,
     "input": [
      "import pickle\n",
      "\n",
      "# \ud30c\uc77c \uc5f4\uace0 \uc77d\uc5b4\ub4e4\uc784 (\uc0ac\uc804\ud615\ud0dc\ub85c \ubc1b\uc74c)\n",
      "f = open('www.koreatech.ac.kr.words.frequency.txt')     \n",
      "a = pickle.load(f)\n",
      "f.close()\n",
      "\n",
      "f = open('cse.koreatech.ac.kr.word.frequency.txt')\n",
      "b = pickle.load(f)\n",
      "f.close()\n",
      "\n",
      "f = open('ide.koreatech.ac.kr.word.frequency.txt')\n",
      "c = pickle.load(f)\n",
      "f.close()\n",
      "\n",
      "f = open('emc.koreatech.ac.kr.word.frequency.txt')\n",
      "d = pickle.load(f)\n",
      "f.close()\n",
      "\n",
      "f = open('arch.koreatech.ac.kr.word.frequency.txt')\n",
      "e = pickle.load(f)\n",
      "f.close()\n",
      "\n",
      "dic = dict()  # \uc0c8\ub85c\uc6b4 \uc0ac\uc804\uac1d\uccb4\ub97c \uc0dd\uc131 (\ub2e8\uc5b4\uc640 \ucd9c\ud604\ube48\ub3c4\ub97c \uc800\uc7a5 (\uc911\ubcf5 \ub2e8\uc5b4 x))\n",
      "    \n",
      "\n",
      "for key in a :\n",
      "    if (key not in dic) :  # \uac01 \uc0ac\uc804\uc744 \ub3cc\uba74\uc11c dic\uc5d0 \uc5c6\ub294 \uacbd\uc6b0 dic.update\n",
      "        dic.update(a)\n",
      "    else :                 # dic\uc5d0 \uc788\ub294 \uacbd\uc6b0 \ud69f\uc218\ub9cc \uc99d\uac00\uc2dc\ud0b4\n",
      "        dic[key] = dic[key] + a[key]\n",
      "        \n",
      "for key in b :\n",
      "    if (key not in dic) :\n",
      "        dic.update(b)\n",
      "    else :\n",
      "        dic[key] = dic[key] + b[key]\n",
      "        \n",
      "for key in c :\n",
      "    if (key not in dic) :\n",
      "        dic.update(c)\n",
      "    else :\n",
      "        dic[key] = dic[key] + c[key]\n",
      "        \n",
      "for key in d :\n",
      "    if (key not in dic) :\n",
      "        dic.update(d)\n",
      "    else :\n",
      "        dic[key] = dic[key] + d[key]\n",
      "        \n",
      "for key in e :\n",
      "    if (key not in dic) :\n",
      "        dic.update(e)\n",
      "    else :\n",
      "        dic[key] = dic[key] + e[key]\n",
      " \n",
      "# \ubaa8\ub4e0 \ub2e8\uc5b4\uc758 \ucd9c\ud604 \ud69f\uc218\ub97c \ucd9c\ub825 (\uae68\uc838\uc11c \ucd9c\ub825\ub418\ubbc0\ub85c for\ubb38\uc73c\ub85c \ucd9c\ub825)        \n",
      "print '{',\n",
      "for key in dic.keys() :\n",
      "    print '\\'' + key + ':',\n",
      "    print str(dic[key]) + '\\'' + ',',\n",
      "print '}'\n",
      "\n",
      "item = dic.items()\n",
      "list(item)\n",
      "\n",
      "# \ucd08\uae30\uac12\uc744 0\ubc88\uc9f8 \uc778\ub371\uc2a4\uac12\uc73c\ub85c \uc124\uc815\n",
      "max_cnt = item[0][1]   # \ub2e8\uc5b4\uac00 \ucd9c\ud604\ud55c \ube48\ub3c4\ub97c \uc800\uc7a5\n",
      "max_word = item[0][0]  # \ub9ce\uc774 \ucd9c\ud604\ud55c \ub2e8\uc5b4\ub97c \uc800\uc7a5\n",
      "for x in range(len(item)) :\n",
      "    if (item[x][1] > max_cnt) : # item[x][1]\uc774 max_cnt\ubcf4\ub2e4 \ud070 \uacbd\uc6b0\n",
      "        max_cnt = item[x][1]\n",
      "        max_word = item[x][0]\n",
      "        \n",
      "print  \n",
      "print \"============================\"\n",
      "print \"  \uac00\uc7a5 \ub9ce\uc774 \ub098\uc628 \ub2e8\uc5b4 : \uc218  \"\n",
      "print \"============================\"\n",
      "print \"        \",\n",
      "print max_word,\n",
      "print \" : \",\n",
      "print max_cnt\n",
      "print \"============================\""
     ],
     "language": "python",
     "metadata": {},
     "outputs": [
      {
       "output_type": "stream",
       "stream": "stdout",
       "text": [
        "{ '\uc218\uc815: 2', '\ud558\ub2e8\uba54\ub274: 1', '\uc7a5\ud559\uc0ac\uc815\uad00\uc81c: 4', '\uad50\uc218: 2', '\ud55c\uad6d\uace0\uc6a9\uc815\ubcf4\uc6d0: 2', '\ucc38\uc11d: 2', 'CIGMA: 2', '\ud2b9\uc131\ud654: 16', '\uac74\ucd95\uacf5\ud559\ubd80: 2', '\uc7a5\ud559\uc0ac\uc815\uad00\uc81c2\ucc2820142\ud559\uae30: 2', '\uc791\uc5c5\uc73c\ub85c: 6', '\ud559\uc0dd\uc790\uc728\ud559\uc2b5\ubaa8\uc784: 2', '\ud55c\uad6d\ud3f4\ub9ac\ud14d\ub300\ud559: 2', 'KOREATECH\uc18c\uac1c: 4', '\ub137\uc9f8\uc8fc: 2', '\ucef4\ud4e8\ud130\uc2dc\uc2a4\ud15c\uc751\uc6a9: 2', '\ub300\ud559\ud604\ud669: 4', '\uc0ac\uc6a9\uc744: 2', '11\uc6d4: 2', 'E2FEST: 2', '\ub300\ud559\uc815\ubcf4\uacf5\uc2dc: 2', '\uadfc\uac70\ud558\uc5ec: 8', '20141119: 4', 'CHINESE: 4', '\uc800\uc791\uad8c\uc815\ucc45: 2', 'Assessor\uff07: 2', '\ud604\uc7ac: 2', '\uc7a5\ud559\uacf5\uc9c0: 2', '\ubaa8\uc9d1\uc694\uac15: 2', '\ud734\uba3c\uc544\uce74\ub370\ubbf8\uba85\uc0ac\ud2b9\uac15: 4', '\ucf64\ud14d\uc2dc\uc2a4\ud15c: 2', '\uc721\uc131\uc0ac\uc5c5: 2', '\ub2e4\uc0b0\uc815\ubcf4\uad00: 2', 'KOREATECH: 56', '\ub3c4\uc804: 2', 'SITEMAP: 4', '\uacbd\uc9c4\ub300: 4', '\ub85c\uadf8\uc778\uc601\uc5ed: 2', '\uc548\ub0b4IPP\uc13c\ud130: 2', '\uc2e0\uc785: 2', '\ub9cc\uc871\ub3c4: 2', '\ubf50\ub0b4\uae30: 2', '\uc778\ub825: 2', '\ub3c4\uc11c\uad00: 4', '\ud574\uc678\uc5f0\uc218: 8', 'nbspnbsp: 6', '\ud589\ubcf5\ud55c: 2', '\ud611\ub825\uc0ac: 2', '\uc628\ub77c\uc778\ud3c9\uc0dd\uad50\uc721\uc6d0: 2', '\uc7a5\ud559\uae08: 2', '\ud22c\uba85\ud55c: 2', '\ucc3d\uc5c5\ud300: 2', 'facebook: 4', '\uc0dd\ud65c\uad00: 20', '\ud559\uc0dd\ud68c: 2', 'THE: 2', '\uadfc\ub85c\ubcf5\uc9c0\uacf5\ub2e8: 2', '\uc0ac\uc774\ubc84\ud22c\uc5b4: 4', '\uad6d\uc81c\uad50\ub958: 4', '\ud14c\ud06c\ub178\uc778\ub825\uac1c\ubc1c\uc804\ubb38\ub300\ud559\uc6d0: 2', '\uc544\uc774\ub514\uc5b4: 2', '\uc774\ub7ec\ub2dd\ud559\uc2b5: 2', 'PSM\uc0ac\uc5c5\ub2e8: 2', '\ubca4\ucc98\uc640: 2', '\ud22c\ud45c: 2', '\uc120\ubc1c: 4', '\ub300\ud559\uc870\uc9c1: 4', '\ud55c\uad6d\uc0b0\uc5c5\uc778\ub825\uacf5\ub2e8: 2', 'WEBMAIL: 4', '\ubaa8\uc9d1: 6', '\ud55c\uad6d\uae30\uc220\uad50\uc721\ub300\ud559\uad50: 2', '\ud559\ubd80\uc548\ub0b4: 2', '\uc0c1\ub2f4\uc9c4\ub85c\uac1c\ubc1c\uc13c\ud130: 2', '\uc7a1\uc601: 2', '\uacf5\ud559\uc778\uc99d\uc548\ub0b4: 2', '\uac15\uc758\uc790\ub8cc\uc2e4: 2', 'Spe: 4', '\uc5f0\uad6c\uac1c\ubc1c\uc0ac: 2', '\ucc3e\uc544\uc624\uc2dc\ub294\uae38: 2', '\ub300\ud559\uad50\uc721\uac1c\ubc1c\uc13c\ud130: 2', 'SK\ud154\ub808\ucf64: 2', '\uc124\ube44: 2', 'Festival: 2', '\ud0dc\ube14\ub9bf: 2', '\uc7a5\uc560\uc778\uace0\uc6a9\uacf5\ub2e8: 2', '\ub3d9\ubb38\uac8c\uc2dc\ud310: 2', '\ubcd1\ucc9c\uba74: 2', '\uc54c\ub9bc\ub9c8\ub2f9: 2', '\uac1c\ubc1c\uc790: 2', 'ENGLISH: 4', '\ud55c\uad6d\uc0b0\uc5c5\uc548\uc804\ubcf4\uac74\uacf5\ub2e8: 2', '\ucc3d\uc870\uc778\uc7ac\uad50\uc721\uac1c\ubc1c\ub2e8: 2', 'NO1: 2', 'IT\uc735\ud569: 4', '\uac10\ub3d9\ud55c: 2', '\ud504\ub85c\uadf8\ub798\ubc0d: 2', '\ud55c\uad6d\uc9c1\uc5c5\ub2a5\ub825\uac1c\ubc1c\uc6d0: 2', '\uc570\ubc30\uc11c\ub354: 2', '0524: 2', '\u2018\uc81c2\ud68c: 2', '\ub9cc\uc871\ud558\ub294: 8', '\uacc4\uc808\ud559\uae30: 2', '2013\ub144: 2', '\uc704\ud55c: 2', '3: 14', '\ud55c\uad6d\uae30\uacc4\uc5f0\uad6c\uc6d0: 2', '\uc18c\uac1c: 2', '\uc790\uc8fc\ucc3e\ub294: 6', '20141031: 4', '4\ub300: 2', 'C: 4', '\ub2eb\uae30: 8', '\uac1c\ucd5c: 2', '\ud589\uc815\uc11c\ube44\uc2a4\ud5cc\uc7a5: 4', '\uc0b0\uacbd\ud559\ubd80: 4', '\ubb34\uc120\ub79c\uc2e0\uccad: 12', '\uc6cc\ud06c\ub137: 2', '\uc9c0\ubc29\uc778\uc7ac\uc7a5\ud55920142\ud559\uae30: 2', '\ud604\uc7a5\uc2e4\uc2b5: 4', '\uc2dc\uc2a4\ud15c: 6', '\ucc38\uc5ec\uac8c\uc2dc\ud310: 4', 'Contact: 2', '\uae00\uc4f0\uae30: 2', '\ud55c\uad6d\uad50\uc721\uac1c\ubc1c\uc6d0: 2', '\uace0\uc6a9\ub178\ub3d9\uc5f0\uc218\uc6d0: 2', '\uc2a4\ud06c\ub9bd\ud2b8: 6', '\ubbf8\ub798\ub97c: 2', '\uae34\uae09: 6', '\uc0ac\uc9c4\uac8c\uc2dc\ud310: 2', 'VISION2020: 4', '\ucc9c\uc548\uc2dc\uccad: 2', 'PSM: 4', '\uc785\ub825\ud3fc: 4', '20141120: 14', '2014\ub144: 2', '20120909: 2', '\uc628\ub77c\uc778\uad50\uc721\uc9c0\uc6d0: 14', '\uc5f0\uad6c\uc2e4\uc18c\uac1c: 2', '\ucde8\uc5c5\uc870\uc0ac2013: 2', '\uacf5\ud559\uad50\uc721\ud601\uc2e0\uc13c\ud130: 4', '\uc544\ubc84\uc9c0: 2', '\ucde8\uc5c5\uc870\uc0ac2014: 2', '\ubcd1\uc0ac\uc548\ub0b4: 4', '\uc815\ubcf4\ud1b5\uc2e0\ubd80lt205\ub05dgt\uc5d0: 2', '\ud31d\uc5c5\uc5f4\uae30: 2', 'login: 2', '\uc0b0\ud559\ud611\ub825\ub2e8: 2', 'Toeic: 2', '\uc138\ub9bc\ud2f0\ub124\uc2a4\uc9c0\uc8fc: 2', '\uc138\uba54\uc2a4\uc911\uad6d\ubc95\uc778: 2', '\ud55c\uae30\ub300\uc2e0\ubb38\uc0ac: 2', '\ucda9\ub0a8: 2', '\uba54\uce74IT\uc735\ud569\uacf5\ud559\uacfc: 2', '\ucd1d\uc7a5\uc2e4: 4', 'HOME: 2', '\uc9c4\ub9ac\ub97c: 8', '\ud648\ud398\uc774\uc9c0: 2', '\ud504\ub808\uc784\uc744: 1', '\ucde8\uc5c5\uac8c\uc2dc\ud310: 2', '\ub2e4\uc74c: 8', '\uc0dd\ud65c\ud611\ub3d9\uc870\ud569: 2', '\ucde8\uc5c5\ub960: 2', '\uc6b0\ub9ac\ub9d0: 2', '\ubaa8\ubc14\uc77c: 2', '\uc7a5\ube44\uc5c5\uacc4: 2', '0506: 2', '\ubc95\uc774\uc774\uc0ac\uc7a5\uc7a5\ud55920142\ud559\uae30: 2', '\uc601\uc5b4\u2160: 2', '\ud559\ud68c\uc7a5\ubd80\ud559: 2', '\uc2a4\ud06c\ub9bd\ud2b8\uac00: 2', '\uc804\uae30\uc804\uc790\ud1b5\uc2e0\uacf5\ud559\ubd80: 2', 'KOREATECH20\ub144: 4', '0415601114: 2', '\ud55c\uae30\ub300\ubc29\uc1a1\uad6d: 2', '\ub300\ud559\uc6d0: 6', '\uc124\uacc41: 2', '\uc0ac\uc774\ud2b8\ub9f5: 2', 'Footer: 4', '\ub300\ud559: 128', '\uc120\ud589\uc5d0: 2', '\uc8fc\ucf5c\ub7ec\ub178\ube44\ud0c0: 2', '307nbspnbspnbspTel: 2', '\ubaa8\uc9d1\ub9c8\uac10: 2', '\u20182014: 2', '\ubc14\ub85c\uac00\uae30: 6', 'Hacking: 2', '\ub300\ud559\uc6d0\uc18c\uac1c: 2', '\uacf5\ud559\uad50\uc721\uc778\uc99d\uc548\ub0b4: 2', '\ucef4\ud4e8\ud130SW: 2', '\uc774\uba54\uc77c\ubb34\ub2e8\uc218\uc9d1\uac70\ubd80: 4', '\uc120\ubc1c\uc548: 2', '\ub2e8\uc554\uc2dc\uc2a4\ud15c\uc988: 2', 'rights: 2', '\ucea0\ud37c\uc2a4\ud22c\uc5b4: 8', '\uc608\ube44\ub300\ud559\uc0dd: 4', '\ud0d0\uad6c\ud558\ub294: 8', '\ucc44\uc6a9\uacf5\uace0: 6', 'SW: 12', '\ucf58\ud14c\uc2a4\ud2b8: 2', '\ube44\ubc00\ubc88\ud638: 2', '\ube44\uc8fc\uc5bc: 4', '\ud64d\ubcf4\uc601\uc0c1\ubb3c: 8', '\ud601\uc2e0\ud615\uc0ac\uc5c5: 2', '2014\ud559\ub144\ub3c4: 4', '\ud559\ubd80\uc7a5: 2', '\ud589\uc815\uacf5\uc2dc: 4', '\ud569\ub2c8\ub2e4: 2', '\uc138: 4', '\uae30\uc5c5\uc11c\ube44\uc2a4: 2', '\uc544\uc6b0\ub204\ub9ac: 4', '\ub3d9\ub0a8\uad6c: 2', '\ud50c\ub808\uc774: 2', 'reserved: 2', '\ud648: 4', '\ub2a5\ub825\uac1c\ubc1c\uad50\uc721\uc6d0: 8', 'QA\uc5f0\uc218\uc0dd: 2', '\uc778\ud130\ub137\uc99d\uba85\ubc1c\uae09: 14', '\uc7a5\ud559\uc0dd: 6', '\uc2e0\uccad: 40', '\uc5b8\ub860\ubcf4\ub3c4\ubaa8\uc74c\uc9d1: 4', '\uc2e4\uc2b5\uc870\uad50: 2', '\ub3c4\ub85c\uba85\uc8fc\uc18c\uc548\ub0b4: 4', '\uac15\uc870\ud558\ub294: 8', '\ub300\ud559\uc6d0\uac8c\uc2dc\ud310: 2', '\uc77c\ubc18\ub300\ud559\uc6d0: 2', '\uc6b0\uc218: 2', '\ub300\ud559\uc18c\uc2dd\uc9c0: 4', '\uac1c\ub3c4\uad6d\uae30\uc220\uc774\uc804\uc5f0\uad6c\uc18c: 2', '\ucee4\ubba4\ub2c8\ud2f0: 2', '\ubcf8\ubb38\ubc14\ub85c\uac00\uae30: 2', '\ub3d9\ubb38\ud648\ud398\uc774\uc9c0: 2', '\uc11c\ube44\uc2a4: 26', '1: 206', '\ud68c\uc6d0\ub85c\uadf8\uc778: 2', '\ud604\uc7a5\uc911\uc2ec\uacfc: 8', '\u300e\uc0bc\uc131: 2', '\uc124\uba85\ud68c: 4', '\uad00\ub828\uc0ac\uc774\ud2b8: 2', '\uc0b0\uc5c5\ud1b5\uc0c1\uc790\uc6d0\ubd80: 2', '\ucf58\uc11c\ud2b8: 2', '\uc790\ub8cc\uc2e4: 2', '\ud1b5\uc601\uc2dc: 2', 'HRD: 6', '\ucd1d\ud559\uc0dd\ud68c: 2', '\uad50\uc9c0\ud3b8\uc9d1\uc704\uc6d0\ud68c: 2', '\uc77c\ubc18\uacf5\uc9c0: 2', '\ud328\uce58: 6', '\uc2e4\ud5d8\uc2e4\uc2b5\uc744: 8', 'MOT\uc0ac\uc5c5\ub2e8: 2', '\ucc3d\uc758: 2', '\ud559\uad50\ucc28\ub7c9\uc2e0\uccad: 4', '\uc815\uc9c0: 6', '\ud559\ubd80: 10', 'Copyright\u24d22014: 2', '\ud559\uc0dd\ud65c\ub3d9: 2', '\ub300\ubc29\uac74\uc124\uc8fc: 2', '\ud64d\ubcf4\ub300\uc0ac: 4', '\ub354\ubcf4\uae30: 4', '\uc900\ube44\ub97c: 2', '\uc2dc\uc124\ubb3c\uc2e0\uccad: 4', '\ucef4\ud4e8\ud130\uc2a4\ub9c8\ud2b8IT: 2', '\uc120\uc815\u2019: 2', 'All: 2', '1000\uc5b5\u2192500\uc5b5\u2192470\uc5b5\u00b7\u00b7\u00b7\uc7ac\ub09c\ub9dd: 2', '\uc6d0\uaca9\ud6c8\ub828\uc2ec\uc0ac\uc13c\ud130: 2', 'TOEIC: 2', '1600: 2', 'Tour: 2', '\uc7a5\ud559\uae30\uae08: 2', '\uc0b0\uc5c5\uacbd\uc601\ud559\ubd80: 2', 'quotMOTPSM\ud074\ub7ec: 2', '\ud654\ud559\uacf5\ud559\uc804\uacf5: 4', '\uc785\uc2dcQA: 1', '\uc5d0\ub108\uc9c0\uacf5\ud559\uc804\uacf5: 2', '20141020: 2', '\uae00\ub85c\ubc8c: 2', 'PEOPLE: 2', '\ud559\ubd80\uc18c\uac1c: 1', '\uc0ac\uc774\ubc84\uac10\uc0ac\uc2e4: 4', '\uc81c: 8', '\uc138\uacc4\uc9c0\uc2dd\uacf5\uc720\u2019: 2', 'KOREATECH\ubc1c\uc804\uae30\uae08: 4', 'TEDx\ud14c\ub4dc\uc5d1\uc2a4: 2', '\uc778\ub514\ubc34\ub4dc: 2', '\ubcf8\ubb38: 2', '\uc0c1\ud0dc\uc785\ub2c8\ub2e4: 2', 'nbsp: 14', '\ubc1c\uc804\uae30\uae08: 12', '\ud55c\uad6d\ub178\ub3d9\uc5f0\uad6c\uc6d0: 2', '\uacf5\uc9c0\uc0ac\ud56d: 2', '\uc544\uc774\ub514\uc2a4\uc804\uc790\uc2e0\ubb38: 2', '\uad6d\ubbfc\uad8c\uc775\uc704\uc6d0\ud68c: 2', '\ud559\uc0ac\uc885\ud569\uc11c\ube44\uc2a4: 8', '\ub300\ud55c\ubbfc\uad6d: 4', '\uac1c\uc778\uc815\ubcf4\ucc98\ub9ac\ubc29\uce68: 4', '\uacbd\ub825: 2', '\ud559\uc0dd\uc774: 10', '\ub514\uc790\uc778\uacf5\ud559\uacfc: 2', '20141014: 6', '\uc9c0\ubc29\uc778\uc7ac\uc7a5\ud559\uc0dd: 2', '\ud559\uc790\uae08: 4', '\ud559\uc0ac\uc548\ub0b4: 4', '\uc788\ub294: 2', '20141112: 2', '\ud55c\uae30\ub300\ubc1c\uc804\uae30\uae08: 4', '\ub3d9\ubb38\uc778: 4', '4: 28', '20141118: 10', '\uc54c\ub9ac\uc624: 4', '\uc804\uad6d\ub300\ud559\uc0dd\ud558\uc774\ube0c\ub9ac\ub4dc\uc790\ub3d9\ucc28\uacbd\uc9c4\ub300\ud68c: 2', 'HRD\uc13c\ud130: 4', '\uacf5\uacf5\ub370\uc774\ud130\uac1c\ubc29: 4', '\ud488\ub2e4: 2', '\uc99d\uba85\ubc1c\uae09: 16', '\ucde8\uc5c5\uacf5\uc9c0: 2', '\ud654\uc774\ud2b8\ud587: 2', '\ud559\ubd80\ubaa8\ub2d8: 4', '\uc6d0\uaca9\uc9c0\uc6d0: 12', '\ud559\uc0dd\uc790\uce58\ub2e8\uccb4: 4', '\uc11c\ube44\uc2a4\uc548\ub0b4: 6', '\uc548\ub0b4\uc785: 2', '\uc138\uacc4\ub97c: 2', '\uae30\uc5c5: 4', '\uc815\ubcf4\uacf5\uac1c: 12', 'KOTRA: 2', '\uc624\ub298\uc758: 12', '\uacbd\uc2dc: 2', '\uc81c2\uae30: 2', '\ucea0\ud37c\uc2a4\uc0dd\ud65c: 4', '\uc774\ud604\ub355\uc758: 2', 'OF: 2', 'IDIS: 2', '\uad8c\uc7a5\ud569\ub2c8\ub2e4: 2', '\ud589\ubcf5\ub300\ud559: 2', 'IPP: 18', '\ud574\ud0b9\ubcf4\uc548: 2', '\ud559\uc0ac\uc77c\uc815: 4', '\ucde8\uc5c5\ud074\ub9ac\ub2c9: 2', '\uc878\uc5c5\uc0dd: 2', '\uc720\ud2f8\uba54\ub274: 4', '\uc544\uc774\ub514: 2', '\ud559\uc0dd\uc911\uc2ec: 2', '\uc54a\uc73c\uc2dc\uba74: 2', '\uc0ac\uc6a9\ud558\uc9c0: 2', '\uc7ac\ub09c\ub9dd: 4', '\uad50\uc721\uc7a5\ube44\uac80\uc0c9: 4', '\uce5c\uad6c\ub4e4: 2', '\uaebc\uc838: 2', '\uc2a4\ud15d\uc2dc\uc2a4\ud15c\uc8fc20142\ud559\uae30: 2', '\uc774\uc6a9\uc5d0: 2', '\ub300\ud559\uc0dd\ud65c: 8', '\ucda9\uccad\ub0a8\ub3c4\uccad: 2', '\uad50\uc721\uc911\uc2ec\ub300\ud559: 4', '20131007: 2', '\ucc38\uc5ec: 2', '\uad50\ub0b4\uc8fc\uc694\uae30\uad00: 4', '\ud0d1: 6', '\ud1b5\uc2e0: 4', '\uae30\ud0c1: 2', '\uace0\uc6a9\ubd80: 4', '\uc8fc\uc694\uc0ac\uc774\ud2b8: 4', 'CENTER: 2', '\ud544\ub3c5: 2', '\uacf5\uc2dd\uce74\ud398: 2', '\uc778\ubb38\ud5a5\uc5f0: 2', '\ud559\ubd80\uc0ac\uc9c4\uac94\ub7ec\ub9ac: 2', '\uc0ac\uc5c5\ub2e8: 10', 'nbspnbspnbspnbspnbsp: 2', '\ucde8\uc5c5\uc5ed\ub7c9\uac15\ud654\ub3d9\uc601\uc0c1: 4', '\ud68c\uc6d0\uac00\uc785: 2', '\uc0c1\ubc18\uae30: 4', '\u2018\uc11c\uc6b8\uc2dc: 2', '\ud559\uacfc\uc548\ub0b4: 4', 'daum: 4', '\ucd1d\uc5ec\ud559\uc0dd\ud68c: 2', '\uc2e0\uc785\uc0ac\uc6d0: 2', '\ud604\ub300\uac74\uc124: 4', '20141105: 2', '\uc804\ud654\ubc88\ud638\ucc3e\uae30: 4', '\uc804\uc790\ucd9c\uacb0RFID: 4', 'Tmoney\ud55c\uad6d\uc2a4\ub9c8\ud2b8\uce74\ub4dc: 2', '\uace0\uc6a9\ub178\ub3d9\ubd80: 2', '\ud559\ubd80\uacf5\uc9c0: 2', '\ucc44\uc6a9\ud55c\ub9c8\ub2f9\u300f\ud611: 2', '\uc6f9\uba54\uc77c: 2', '\uc0ac\ub78c\uc778: 2', '\ud31d\uc5c5\ub2eb\uae30: 2', '\uc5d4\uc9c0\ub2c8\uc5b4: 2', '\uae30\uc220\ub9ac\ub354: 2', 'People: 2', '\uac1c\uc124: 2', '\uad50\uc721\ubaa9\ud45c: 2', '\uc2dc\uc124\ubcf4\uc218\uc2e0\uccad: 12', '\uad50\ub0b4\uc778\uc99d: 12', '1\ud559\ub144: 2', '\uac8c\uc2dc\uae00: 4', '20140327: 2', '\ub808\uc774: 2', '\ud559\uc0ac\uc885\ud569: 10', '\ud64d\ubcf4\ube0c\ub85c\uc154: 4', '\uc878\uc5c5\uc774\uc218\uc694\uac74: 2', '\uc2dd\ub2e8: 12', '\uc778\ud55c: 6', '\ub300\ud55c\ubbfc\uad6d\uc758: 2', '\uad50\uc721: 4', '\uacf5\ud559\uc124\uacc4: 4', '\ubd88\ud3b8\uc0ac\ud56d\uc774: 2', '\ub300\ud559\uc18c\uac1c: 8', '330708: 2', '\uc7ac\uc0dd: 4', '\ucda9\uc808\ub85c: 2', '\ud504\ub85c\uadf8\ub7a8: 2', '\uc5f4\uc815: 2', '\uc878\uc5c5\uc791\ud488: 4', '20121105: 2', 'LINC\uc0ac\uc5c5\ub2e8: 4', '\uc785\ud559\uc548\ub0b4: 2', '\ub300\ud559\uc0dd: 16', '13rh: 2', '\uc2e0\uc18c\uc7ac\uacf5\ud559\uc804\uacf5: 4', '\uc7a5\ud559\uc81c\ub3c4: 2', '\uba54\uce74\ud2b8\ub85c\ub2c9\uc2a4\uacf5\ud559\ubd80: 2', '\uae30\ud68d\uc7ac\uc815\ubd80: 2', '\uad6d\uc81c\uad50\uc721\uc13c\ud130: 6', '\ub300\ud559\uc54c\ub9ac\ubbf8: 4', '\u2018Skill: 2', '\uc724\ub9ac\ud5cc\uc7a5: 4', '2015\ud559\ub144\ub3c4: 2', '\uc7ac\ud559\uc0dd: 6', '\ub300\uc678\uc720\uad00\uae30\uad00: 4', '\uc628\ub77c\uc778\uad50\uc721: 16', '20140930: 2', '\uad50\uacfc\ubd80: 2', '\uc120\ub3c4\ud558\ub294: 2', '2: 54', '\uc81c6\ud68c: 2', '\ub124\ud2b8\uc6cc\ud06c: 6', '\uc5f0\ud601: 2', '\ucd5c\uace0\uacbd\uc601\uc790\uacfc\uc815: 2', '\ud1b5\ud569\uac80\uc0c9: 4', '\u2018\uc0ac\ud68c\uc801\uae30\uc5c5\uac00: 2', 'AhnLab: 2', '\ubc18\ub3c4\uccb4: 4', '\ubc18\ub3c4\uccb4\uc7a5\ube44\uad50\uc721\uc13c\ud130: 2', '\uc790\uc720\uac8c\uc2dc\ud310: 2', 'HUST: 2', '\ud558\uc154\uc57c: 2', 'NTIS: 2', '\uad50\uc9c1\uc6d0: 4', 'link: 4', '\uc790\uc774\uc5d4\ud2b8: 2', '\uc548\ub0b4: 4', '\uc218\uac15\uc2e0\uccad: 4', 'Specialist\uc81c: 2', '\ub300\ud559\ub300\ud559\uc6d0: 12', '\ubc0f: 4', '\uc2e0\ub8b0\ud558\ub294: 2', '\uc5ed\ub7c9\uac15\ud654: 2', '\uc778\uc0ac\ub9d0: 2', '20141016: 2', '\uc628\ub77c\uc778: 20', '\ucc3d\uc5c5\uc9c0\uc6d0: 2', '\uc758\uacac\ub780: 4', '\ub370\uc2a4\ud06c\ud0d1: 2', '\uad50\uc218\uc9c4: 2', '\uc7a5\ud559: 30', '\uae30\uacc4\uacf5\ud559\ubd80: 2', 'Cyber: 2', '\uad50\uc591\ud559\ubd80: 2', '\uc774\uc790\uc9c0\uc6d02014\ud558\ubc18\uae30: 2', 'KT: 2', '\ud55c\uad6d\uae30\uc220\uad50\uc721\ub300: 10', '\ub3d9\uc544\ub9ac\uc548\ub0b4: 4', '\uc124\ubb38\uc870\uc0ac: 4', '\ud3c9\uc0dd\ub2a5\ub825\uac1c\ubc1c\uc774\ub7ec\ub2dd\uc13c\ud130: 2', '\uae30\uc5c5\uc774: 2', '\uac00\uc804\ub9ac: 2', '\ucef4\ud4e8\ud130HW: 2', '2014: 62', '\uc11c\uc2dd\ubc0f\uc591\uc2dd\uc790\ub8cc\uc2e4: 2', 'quot2014: 2', '\ucef4\ud4e8\ud130\uacf5\ud559\ubd80: 6', '\ud604\ub300\uac74\uc1242013: 1', '\ub514\uc9c0\ud138: 2', '1\ud68c: 2', '\uc8fc\uba54\ub274\ubc14\ub85c\uac00\uae30: 2', '\ud3ec\uc2a4\ud130\ubc1c\ud45c\uacbd\uc9c4\ub300\ud68c: 2', '\ub798\ub514\uc5d4\uc2a4\ud0c0\ud2b8: 2', 'NEWS: 10', 'LOGIN: 4', '20140924: 2', '\uc9c0\uc6d0: 2', '\ud559\uad50\uc6b4\uc601: 2', '\ucd1d\ub3d9\ubb38\ud68c: 4', '\uad50\uc721\uc911\uc2ec: 8', 'UNIVERSITY: 2', '\ud544\uc218: 2', '\ub2e8\uae30\uadfc\ub85c\ud559\uc0dd: 2', 'Koreatech: 2', '\uc0ac\uc2e4\uc5d0: 8', '2\ucc28: 6', '\uc77c\ubc18\uc790\ub8cc\uc2e4: 2', '\uc8fc\uc694\uba54\ub274: 2', 'IT\uc735\ud569\uacfc\ud559\uacbd\uc601\ub300\ud559\uc6d0: 2', '\ub3d9\uacc4: 4', '\ud2b9\uac15: 6', '\uc5f0\uacc4\uacfc\uc815: 2', '\uc0dd\ud65c\uad00\uc790\uce58\ud68c: 2', '\ub3c4\uc11c\uad00\uc774\uc6a9\uc548\ub0b4: 2', '3\ud559\ub144: 2', '\uacf5\ud559\uc778\uc99d\uac8c\uc2dc\ud310: 2', '\uc785\uc2dc\uc694\uac15: 2', '20131210: 2', '\uc778\ud06c\ub8e8\ud2b8: 2', 'naver: 4', 'IPP\uc13c\ud130: 12', '\ube0c\ub85c\uc154: 2', '\uc5d0\ub108\uc9c0\uc2e0\uc18c\uc7ac\ud654\ud559\uacf5\ud559\ubd80: 2', '\uc788\uc2b5\ub2c8\ub2e4: 2', '\ucea0\ud37c\uc2a4\uc0ac\uc9c4: 8', '\uc878\uc900\uc70407: 2', '\uc878\uc900\uc70408: 2', '\uc778\ud130\ub137: 16', '\ud31d\uc5c5\uc874: 2', '\uc774\uc6a9\uc548\ub0b4: 4', '\uc775\uba85\uac8c\uc2dc\ud310: 2', '\ud68c\uc758: 2', '\uace0\uc7a5\uc2e0\uace0\uac8c\uc2dc\ud310: 2', '1\uc704: 6', '\uc81c3\uae30: 2', '\uc7a1\ucf54\ub9ac\uc544: 2', '\ucc44\uc6a9: 4', '\ucd1d\ub3d9\uc544\ub9ac\uc5f0\ud569\ud68c: 2', '\ucc9c\uc548\uc2dc: 4', 'youtube: 4', '\uc774\uc804: 8', '\ubc95\uc778\uc774\uc0ac\uc7a5: 2', '\ub300\ud559\ud64d\ubcf4: 8', '\uacf5\uace0: 2', '\ucd5c\uc2e0: 4', 'BUS: 2', '\ub300\ud559\ubbfc\uad6d: 2', '\uc6f9\uac24\ub7ec\ub9ac: 2', '\uc778\ud134: 2', 'OPIc: 2', '\uc0ac: 16', '\uc2a4\ud06c\ub9bd\ud2b8\ub97c: 2', }\n",
        "\n",
        "============================\n",
        "  \uac00\uc7a5 \ub9ce\uc774 \ub098\uc628 \ub2e8\uc5b4 : \uc218  \n",
        "============================\n",
        "         1  :  206\n",
        "============================\n"
       ]
      }
     ],
     "prompt_number": 49
    },
    {
     "cell_type": "markdown",
     "metadata": {},
     "source": [
      "<\uac04\ub7b5\ud55c \ub0b4\uc6a9\ub4e4\uc740 \uc8fc\uc11d\uc73c\ub85c \ucc98\ub9ac>\n",
      "\n",
      "< \ud53c\ud074\ub9c1\ub41c \ud30c\uc77c\uc744 \uc5f4\uace0 \uc77d\uc5b4\ub4e4\uc784 (\uc0ac\uc804\ud615\ud0dc\ub85c \uc77d\uc5b4\ub4e4\uc5ec\uc9d0) >\n",
      "\n",
      "\uc0c8\ub85c\uc6b4 \uc0ac\uc804\uac1d\uccb4(dic)\ub97c \uc0dd\uc131 (\ub2e8\uc5b4\uc640 \ucd9c\ud604\ube48\ub3c4\ub97c \uc800\uc7a5 (\uc911\ubcf5 \ub2e8\uc5b4 x))\n",
      "\n",
      "\uac01\uac01\uc758 \uc0ac\uc804\uc744 \ubc18\ubcf5\ubb38\uc73c\ub85c \ud655\uc778\ud558\uc5ec dic\uc5d0 \uc788\uc73c\uba74 \ube48\ub3c4\uc218\ub9cc \uc99d\uac00\uc2dc\ud0a4\uace0, \uc5c6\uc73c\uba74 \ub2e8\uc5b4\uc640 \ud574\ub2f9\ub2e8\uc5b4\uc758 \ud69f\uc218\ub97c \uc800\uc7a5\uc2dc\ud0a8\ub2e4.\n",
      "\n",
      "< \uac00\uc7a5 \ub9ce\uc774 \ucd9c\ud604\ud55c \ub2e8\uc5b4\ub97c \ud655\uc778 >\n",
      "\n",
      "\ucd08\uae30\uac12\uc744 0\ubc88\uc9f8 \uc778\ub371\uc2a4\uac12\uc73c\ub85c \uc124\uc815\n",
      "\n",
      "\ub2e8\uc5b4\uac00 \ucd9c\ud604\ud55c \ube48\ub3c4\ub97c \uc800\uc7a5\ud558\ub294 \ubcc0\uc218 max_cnt\n",
      "\n",
      "\ub9ce\uc774 \ucd9c\ud604\ud55c \ub2e8\uc5b4\ub97c \uc800\uc7a5\ud558\ub294 \ubcc0\uc218 max_word\n",
      "\n",
      "\ubc18\ubcf5\ubb38\uc744 \ub3cc\uba74\uc11c item[x][1]\uc774 max_cnt\ubcf4\ub2e4 \ud070 \uacbd\uc6b0 max_cnt\ub294 item[x][1]\uc774 \ub41c\ub2e4.\n",
      "\n",
      "\uacb0\uacfc\uac12\uc744 \ucd9c\ub825\ud55c\ub2e4."
     ]
    },
    {
     "cell_type": "markdown",
     "metadata": {},
     "source": [
      " "
     ]
    },
    {
     "cell_type": "markdown",
     "metadata": {},
     "source": [
      "C\uc5b8\uc5b4\ub97c \ube44\ub86f\ud558\uc5ec \uae30\ud0c0 \ub2e4\ub978 \uc5b8\uc5b4\ub4e4\uc744 \uacf5\ubd80\ud560 \ub54c, \ud30c\uc77c \uc785\ucd9c\ub825\ubd80\ubd84\uc740 \ud56d\uc0c1 \uc18c\ud640\ud788 \ud574\uc654\uc5c8\ub2e4. \uadf8\ub798\uc11c \uadf8\ub7f0\uc9c0 1\ubc88\uc774 \uc880 \uc5b4\ub835\uac8c \ub290\uaef4\uc9c4 \uac83 \uac19\ub2e4.\n",
      "\n",
      "3\ubc88\uac19\uc740 \uacbd\uc6b0\uc5d0\ub294 frange\ub97c \ucd9c\ub825\ud560 \ub54c, \ub9ac\uc2a4\ud2b8\ub85c \ucd9c\ub825\ud558\uac8c \ub418\uba74 \uc624\ucc28\uac00 \ubc1c\uc0dd\ud568\uc744 \ud655\uc778\ud560 \uc218 \uc788\uc5c8\ub2e4. \n",
      "\n",
      "(Decimal\uc774\ub098 \ubc18\uc62c\ub9bc\uc744 \uc0ac\uc6a9\ud558\ub294 \ubc29\ubc95\ub4f1\uc774 \uc788\uc73c\ub098 \uad50\uc218\ub2d8\uaed8\uc11c \uc77c\ub2e8 \ub118\uc5b4\uac00\ub3c4 \uc88b\ub2e4\uace0 \ud558\uc168\uc73c\ubbc0\ub85c pass)\n",
      "\n",
      "\uc774\ubc88 \uacfc\uc81c\ub97c \ud1b5\ud574 \ud30c\uc77c \uc785\ucd9c\ub825, \ud568\uc218, \ubaa8\ub4c8 \ubd80\ubd84\ub4e4\uc5d0 \ub300\ud574\uc11c \uc880 \uc775\uc219\ud574\uc9c4 \ub4ef\ud558\ub2e4. \ud53c\ud074\ub9c1\uc744 \uc0ac\uc6a9\ud558\uba74 \ud30c\uc77c \uc785\ucd9c\ub825\uc2dc \uc791\uc5c5\uc744 \ud6e8\uc52c \ud3b8\ud558\uac8c \ud560 \uc218 \uc788\ub2e4\ub294 \uac83\ub3c4\n",
      "\n",
      "\uc54c\uac8c\ub418\uc5c8\ub2e4. \ucc98\uc74c\uacfc\ub294 \ub2ec\ub9ac \uc0c8\ub85c\uc6b4 \ub0b4\uc6a9\ub4e4\ub3c4 \ub9ce\uc774 \ub098\uc624\uace0 \uc880 \uc5b4\ub824\uc6b4 \ubd80\ubd84\ub3c4 \uc788\uc9c0\ub9cc \uc810\uc810 \ud765\ubbf8\uac00 \ub290\uaef4\uc9c4\ub2e4. \uc55e\uc73c\ub85c\ub294 \uc9c0\uae08\ubcf4\ub2e4 \ub354\uc6b1 \ub354 \uc5f4\uc2ec\ud788 \uacf5\ubd80\ud574\uc57c\uaca0\ub2e4."
     ]
    }
   ],
   "metadata": {}
  }
 ]
}